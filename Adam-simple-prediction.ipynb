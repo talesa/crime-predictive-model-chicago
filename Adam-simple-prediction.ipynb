{
 "cells": [
  {
   "cell_type": "code",
   "execution_count": 1,
   "metadata": {
    "collapsed": true
   },
   "outputs": [],
   "source": [
    "%matplotlib inline\n",
    "import pandas as pd\n",
    "import numpy as np\n",
    "import statsmodels as sm\n",
    "import pickle"
   ]
  },
  {
   "cell_type": "code",
   "execution_count": 4,
   "metadata": {
    "collapsed": false
   },
   "outputs": [],
   "source": [
    "crime_chicago = pd.read_pickle('crime_chicago_with_timestamp.pkl')"
   ]
  },
  {
   "cell_type": "code",
   "execution_count": 5,
   "metadata": {
    "collapsed": false
   },
   "outputs": [
    {
     "data": {
      "text/html": [
       "<div>\n",
       "<table border=\"1\" class=\"dataframe\">\n",
       "  <thead>\n",
       "    <tr style=\"text-align: right;\">\n",
       "      <th></th>\n",
       "      <th>ID</th>\n",
       "      <th>Case Number</th>\n",
       "      <th>Date</th>\n",
       "      <th>Block</th>\n",
       "      <th>IUCR</th>\n",
       "      <th>Primary Type</th>\n",
       "      <th>Description</th>\n",
       "      <th>Location Description</th>\n",
       "      <th>Arrest</th>\n",
       "      <th>Domestic</th>\n",
       "      <th>...</th>\n",
       "      <th>FBI Code</th>\n",
       "      <th>X Coordinate</th>\n",
       "      <th>Y Coordinate</th>\n",
       "      <th>Year</th>\n",
       "      <th>Updated On</th>\n",
       "      <th>Latitude</th>\n",
       "      <th>Longitude</th>\n",
       "      <th>Location</th>\n",
       "      <th>day</th>\n",
       "      <th>datetime</th>\n",
       "    </tr>\n",
       "  </thead>\n",
       "  <tbody>\n",
       "    <tr>\n",
       "      <th>0</th>\n",
       "      <td>10361459</td>\n",
       "      <td>HY553232</td>\n",
       "      <td>12/28/2015 11:39:00 PM</td>\n",
       "      <td>025XX S STEWART AVE</td>\n",
       "      <td>1811</td>\n",
       "      <td>NARCOTICS</td>\n",
       "      <td>POSS: CANNABIS 30GMS OR LESS</td>\n",
       "      <td>STREET</td>\n",
       "      <td>True</td>\n",
       "      <td>False</td>\n",
       "      <td>...</td>\n",
       "      <td>18</td>\n",
       "      <td>50629</td>\n",
       "      <td>72523</td>\n",
       "      <td>2015</td>\n",
       "      <td>01/04/2016 04:02:14 PM</td>\n",
       "      <td>41.845652</td>\n",
       "      <td>-87.636561</td>\n",
       "      <td>(41.845652363, -87.636561415)</td>\n",
       "      <td>12/28/2015</td>\n",
       "      <td>2015-12-28</td>\n",
       "    </tr>\n",
       "  </tbody>\n",
       "</table>\n",
       "<p>1 rows × 24 columns</p>\n",
       "</div>"
      ],
      "text/plain": [
       "         ID Case Number                    Date                Block  IUCR  \\\n",
       "0  10361459    HY553232  12/28/2015 11:39:00 PM  025XX S STEWART AVE  1811   \n",
       "\n",
       "  Primary Type                   Description Location Description Arrest  \\\n",
       "0    NARCOTICS  POSS: CANNABIS 30GMS OR LESS               STREET   True   \n",
       "\n",
       "  Domestic    ...      FBI Code  X Coordinate  Y Coordinate  Year  \\\n",
       "0    False    ...            18         50629         72523  2015   \n",
       "\n",
       "               Updated On   Latitude  Longitude  \\\n",
       "0  01/04/2016 04:02:14 PM  41.845652 -87.636561   \n",
       "\n",
       "                        Location         day   datetime  \n",
       "0  (41.845652363, -87.636561415)  12/28/2015 2015-12-28  \n",
       "\n",
       "[1 rows x 24 columns]"
      ]
     },
     "execution_count": 5,
     "metadata": {},
     "output_type": "execute_result"
    }
   ],
   "source": [
    "crime_chicago.head(1)"
   ]
  },
  {
   "cell_type": "markdown",
   "metadata": {},
   "source": [
    "### Manipulating data"
   ]
  },
  {
   "cell_type": "markdown",
   "metadata": {},
   "source": [
    "Binning the data with the size of the bin equal `bin_size`"
   ]
  },
  {
   "cell_type": "code",
   "execution_count": 9,
   "metadata": {
    "collapsed": true
   },
   "outputs": [],
   "source": [
    "bin_size = 400"
   ]
  },
  {
   "cell_type": "code",
   "execution_count": 10,
   "metadata": {
    "collapsed": true
   },
   "outputs": [],
   "source": [
    "crime_chicago['bin_x'] = np.floor(crime_chicago['X Coordinate']/bin_size)\n",
    "crime_chicago['bin_y'] = np.floor(crime_chicago['Y Coordinate']/bin_size)"
   ]
  },
  {
   "cell_type": "code",
   "execution_count": 12,
   "metadata": {
    "collapsed": false,
    "scrolled": true
   },
   "outputs": [],
   "source": [
    "crime_chicago_count = crime_chicago[['bin_x','bin_y']].groupby(['bin_x','bin_y']).size().reset_index().rename(columns={0:'count'})"
   ]
  },
  {
   "cell_type": "code",
   "execution_count": 13,
   "metadata": {
    "collapsed": false,
    "scrolled": true
   },
   "outputs": [
    {
     "data": {
      "text/plain": [
       "count    31535.000000\n",
       "mean       185.403235\n",
       "std        262.267038\n",
       "min          1.000000\n",
       "25%         42.000000\n",
       "50%        110.000000\n",
       "75%        232.000000\n",
       "max       9725.000000\n",
       "Name: count, dtype: float64"
      ]
     },
     "execution_count": 13,
     "metadata": {},
     "output_type": "execute_result"
    }
   ],
   "source": [
    "crime_chicago_count['count'].describe()"
   ]
  }
 ],
 "metadata": {
  "kernelspec": {
   "display_name": "Python 2",
   "language": "python",
   "name": "python2"
  },
  "language_info": {
   "codemirror_mode": {
    "name": "ipython",
    "version": 2
   },
   "file_extension": ".py",
   "mimetype": "text/x-python",
   "name": "python",
   "nbconvert_exporter": "python",
   "pygments_lexer": "ipython2",
   "version": "2.7.10"
  }
 },
 "nbformat": 4,
 "nbformat_minor": 0
}
