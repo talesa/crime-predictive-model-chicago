{
 "cells": [
  {
   "cell_type": "code",
   "execution_count": 1,
   "metadata": {
    "collapsed": false
   },
   "outputs": [],
   "source": [
    "%matplotlib inline\n",
    "import pandas as pd\n",
    "import numpy as np\n",
    "import matplotlib.pyplot as plt"
   ]
  },
  {
   "cell_type": "markdown",
   "metadata": {},
   "source": [
    "#### Everything from adam_simple_prediction "
   ]
  },
  {
   "cell_type": "code",
   "execution_count": 2,
   "metadata": {
    "collapsed": false
   },
   "outputs": [],
   "source": [
    "crime_chicago = pd.read_pickle('crime_chicago_with_timestamp.pkl')"
   ]
  },
  {
   "cell_type": "code",
   "execution_count": 3,
   "metadata": {
    "collapsed": true
   },
   "outputs": [],
   "source": [
    "number_of_bins = 70\n",
    "no = number_of_bins\n",
    "\n",
    "lat_min = crime_chicago['Latitude'].min()\n",
    "lon_min = crime_chicago['Longitude'].min()\n",
    "\n",
    "lat_span = crime_chicago['Latitude'].max() - crime_chicago['Latitude'].min()\n",
    "lon_span = crime_chicago['Longitude'].max() - crime_chicago['Longitude'].min()\n",
    "\n",
    "lat_step = lat_span / no\n",
    "lon_step = lon_span / no\n",
    "\n",
    "crime_chicago['bin'] = \\\n",
    "    no*np.floor((crime_chicago['Longitude']-lon_min)/lon_step) + \\\n",
    "       np.floor((crime_chicago['Latitude'] -lat_min)/lat_step)"
   ]
  },
  {
   "cell_type": "code",
   "execution_count": 4,
   "metadata": {
    "collapsed": true
   },
   "outputs": [],
   "source": [
    "def getPolygonForBin(bin_no):\n",
    "    lat, lon = getCornerLatLonForBin(bin_no)\n",
    "    return Polygon([\n",
    "            (lat,            lon),\n",
    "            (lat,            lon + lon_step),\n",
    "            (lat + lat_step, lon + lon_step),\n",
    "            (lat + lat_step, lon),\n",
    "        ])\n",
    "def getPolygonForBinReverse(bin_no):\n",
    "    lat, lon = getCornerLatLonForBin(bin_no)\n",
    "    return Polygon([\n",
    "            (lon,            lat),\n",
    "            (lon + lon_step, lat),\n",
    "            (lon + lon_step, lat + lat_step),\n",
    "            (lon,            lat + lat_step),\n",
    "        ])"
   ]
  },
  {
   "cell_type": "markdown",
   "metadata": {},
   "source": [
    "# THEFTS ONLY"
   ]
  },
  {
   "cell_type": "code",
   "execution_count": 24,
   "metadata": {
    "collapsed": true
   },
   "outputs": [],
   "source": [
    "crime_chicago_copy = crime_chicago.copy()"
   ]
  },
  {
   "cell_type": "code",
   "execution_count": 22,
   "metadata": {
    "collapsed": false,
    "scrolled": true
   },
   "outputs": [
    {
     "data": {
      "text/plain": [
       "array(['NARCOTICS', 'ASSAULT', 'WEAPONS VIOLATION', 'OTHER OFFENSE',\n",
       "       'BURGLARY', 'THEFT', 'ROBBERY', 'BATTERY', 'MOTOR VEHICLE THEFT',\n",
       "       'CRIMINAL DAMAGE', 'PUBLIC PEACE VIOLATION', 'CRIMINAL TRESPASS',\n",
       "       'INTERFERENCE WITH PUBLIC OFFICER', 'DECEPTIVE PRACTICE',\n",
       "       'OFFENSE INVOLVING CHILDREN', 'CRIM SEXUAL ASSAULT', 'SEX OFFENSE',\n",
       "       'KIDNAPPING', 'HOMICIDE', 'OBSCENITY', 'LIQUOR LAW VIOLATION',\n",
       "       'ARSON', 'PROSTITUTION', 'NON-CRIMINAL', 'INTIMIDATION', 'STALKING',\n",
       "       'NON - CRIMINAL', 'PUBLIC INDECENCY',\n",
       "       'CONCEALED CARRY LICENSE VIOLATION', 'GAMBLING',\n",
       "       'HUMAN TRAFFICKING', 'OTHER NARCOTIC VIOLATION',\n",
       "       'NON-CRIMINAL (SUBJECT SPECIFIED)', 'RITUALISM', 'DOMESTIC VIOLENCE'], dtype=object)"
      ]
     },
     "execution_count": 22,
     "metadata": {},
     "output_type": "execute_result"
    }
   ],
   "source": [
    "crime_chicago['Primary Type'].unique()"
   ]
  },
  {
   "cell_type": "code",
   "execution_count": 25,
   "metadata": {
    "collapsed": false,
    "scrolled": true
   },
   "outputs": [],
   "source": [
    "crime_chicago = crime_chicago[crime_chicago['Primary Type'] == 'THEFT']"
   ]
  },
  {
   "cell_type": "code",
   "execution_count": 26,
   "metadata": {
    "collapsed": true
   },
   "outputs": [],
   "source": [
    "crime_chicago.index = pd.DatetimeIndex(crime_chicago['datetime'])\n",
    "crime_chicago_count = crime_chicago[['bin', 'datetime']].groupby(['bin', 'datetime']).size().reset_index().rename(columns={0:'count'})\n",
    "crime_chicago_count.index = pd.DatetimeIndex(crime_chicago_count['datetime'])"
   ]
  },
  {
   "cell_type": "markdown",
   "metadata": {},
   "source": [
    "Importing weather data"
   ]
  },
  {
   "cell_type": "code",
   "execution_count": 27,
   "metadata": {
    "collapsed": true
   },
   "outputs": [],
   "source": [
    "weather_chicago = pd.read_csv('WeatherChicago20012016.csv')\n",
    "\n",
    "def weather_date_to_datetime(date):\n",
    "    return pd.datetime(int(date[0:4]), int(date[4:6]), int(date[6:]))\n",
    "\n",
    "weather_chicago['DATE'] = weather_chicago['DATE'].map(lambda x: weather_date_to_datetime(str(x)))\n",
    "weather_chicago.index = pd.DatetimeIndex(weather_chicago['DATE'])\n",
    "tmin_mean = weather_chicago['TMIN'].mean()\n",
    "tmax_mean = weather_chicago['TMAX'].mean()\n",
    "\n",
    "weather_chicago.loc[weather_chicago['TMIN'] == -9999, ['TMIN']] = tmin_mean\n",
    "weather_chicago.loc[weather_chicago['TMAX'] == -9999, ['TMAX']] = tmax_mean\n",
    "weather_chicago.loc[weather_chicago['PRCP'] == -9999, ['PRCP']] = 0\n",
    "weather_chicago.loc[weather_chicago['AWND'] == -9999, ['AWND']] = 0"
   ]
  },
  {
   "cell_type": "markdown",
   "metadata": {},
   "source": [
    "Concatenating crimes and weather  \n",
    "Finding empty records"
   ]
  },
  {
   "cell_type": "code",
   "execution_count": 28,
   "metadata": {
    "collapsed": false,
    "scrolled": false
   },
   "outputs": [],
   "source": [
    "crime_chicago_count_ref = crime_chicago[['datetime']].groupby(['datetime']).size().reset_index().rename(columns={0:'count'})\n",
    "crime_chicago_count_ref.index = pd.DatetimeIndex(crime_chicago_count_ref['datetime'])\n",
    "crime_chicago_count_weather = crime_chicago_count_ref.join(weather_chicago[['PRCP', 'TMAX','AWND']])\n",
    "indeces = pd.isnull(crime_chicago_count_weather).any(1)\n",
    "crime_chicago_count_weather.drop(crime_chicago_count_weather.index[indeces], inplace=True)"
   ]
  },
  {
   "cell_type": "markdown",
   "metadata": {},
   "source": [
    "## Prediction"
   ]
  },
  {
   "cell_type": "code",
   "execution_count": 29,
   "metadata": {
    "collapsed": false
   },
   "outputs": [],
   "source": [
    "import statsmodels.formula.api as smf\n",
    "import statsmodels.api as sm\n",
    "from scipy.stats.stats import pearsonr"
   ]
  },
  {
   "cell_type": "code",
   "execution_count": 30,
   "metadata": {
    "collapsed": false,
    "scrolled": true
   },
   "outputs": [],
   "source": [
    "crime_chicago_count_weather['weekday'] = crime_chicago_count_weather.index.weekday"
   ]
  },
  {
   "cell_type": "code",
   "execution_count": 31,
   "metadata": {
    "collapsed": false
   },
   "outputs": [],
   "source": [
    "weekday_dummies = pd.get_dummies(crime_chicago_count_weather.index.weekday, prefix='weekday')\n",
    "weekday_dummies.index = crime_chicago_count_weather.index\n",
    "crime_chicago_count_weather_weekdays = crime_chicago_count_weather.join(weekday_dummies)"
   ]
  },
  {
   "cell_type": "code",
   "execution_count": 52,
   "metadata": {
    "collapsed": true
   },
   "outputs": [],
   "source": [
    "from statsmodels.graphics.api import abline_plot\n",
    "def fit_summary_plot(formula_temp, dta):\n",
    "    print(formula_temp)\n",
    "    res_temp = smf.glm(formula_temp, data=dta, family=sm.families.Poisson(link=sm.families.links.log)).fit()\n",
    "    print(res_temp.summary())\n",
    "    nobs = res.nobs\n",
    "    yhat = res.mu\n",
    "    y = crime_chicago_count_weather_weekdays.loc[:,'count']\n",
    "\n",
    "    fig, ax = plt.subplots()\n",
    "    ax.scatter(yhat, y)\n",
    "    line_fit = sm.OLS(y, sm.add_constant(yhat, prepend=True)).fit()\n",
    "    abline_plot(model_results=line_fit, ax=ax)\n",
    "\n",
    "    plt.axis([0, 500, 0, 500])\n",
    "\n",
    "    ax.set_title('Model Fit Plot')\n",
    "    ax.set_ylabel('Observed values')\n",
    "    ax.set_xlabel('Fitted values')\n",
    "    \n",
    "    return yhat"
   ]
  },
  {
   "cell_type": "code",
   "execution_count": 55,
   "metadata": {
    "collapsed": false,
    "scrolled": false
   },
   "outputs": [
    {
     "name": "stdout",
     "output_type": "stream",
     "text": [
      "count ~ TMAX + weekday_0 + weekday_1 + weekday_2 + weekday_3 + weekday_4 + weekday_5 + weekday_6\n",
      "                 Generalized Linear Model Regression Results                  \n",
      "==============================================================================\n",
      "Dep. Variable:                  count   No. Observations:                 5470\n",
      "Model:                            GLM   Df Residuals:                     5462\n",
      "Model Family:                 Poisson   Df Model:                            7\n",
      "Link Function:                    log   Scale:                             1.0\n",
      "Method:                          IRLS   Log-Likelihood:                -43135.\n",
      "Date:                Thu, 18 Feb 2016   Deviance:                       46868.\n",
      "Time:                        22:16:30   Pearson chi2:                 4.64e+04\n",
      "No. Iterations:                     8                                         \n",
      "==============================================================================\n",
      "                 coef    std err          z      P>|z|      [95.0% Conf. Int.]\n",
      "------------------------------------------------------------------------------\n",
      "Intercept      4.5965      0.001   3260.339      0.000         4.594     4.599\n",
      "TMAX           0.0008   7.92e-06    106.741      0.000         0.001     0.001\n",
      "weekday_0      0.6701      0.002    300.163      0.000         0.666     0.674\n",
      "weekday_1      0.6738      0.002    302.158      0.000         0.669     0.678\n",
      "weekday_2      0.6819      0.002    307.027      0.000         0.678     0.686\n",
      "weekday_3      0.6642      0.002    296.640      0.000         0.660     0.669\n",
      "weekday_4      0.7447      0.002    344.089      0.000         0.740     0.749\n",
      "weekday_5      0.6483      0.002    287.444      0.000         0.644     0.653\n",
      "weekday_6      0.5135      0.002    214.752      0.000         0.509     0.518\n",
      "==============================================================================\n"
     ]
    },
    {
     "data": {
      "image/png": "[encoded data removed]",
      "text/plain": [
       "<matplotlib.figure.Figure at 0x113b42f90>"
      ]
     },
     "metadata": {},
     "output_type": "display_data"
    }
   ],
   "source": [
    "formula = 'count ~ TMAX + weekday_0 + weekday_1 + weekday_2 + weekday_3 + weekday_4 + weekday_5 + weekday_6'\n",
    "fitted = fit_summary_plot(formula, crime_chicago_count_weather_weekdays)"
   ]
  },
  {
   "cell_type": "markdown",
   "metadata": {},
   "source": [
    "- different crime types\n",
    "- bins\n",
    "- timescales\n",
    "- only shopping centre we're interested in (by hour?)"
   ]
  },
  {
   "cell_type": "markdown",
   "metadata": {},
   "source": [
    "## 1\n",
    "- it's provided df with counted crimes\n",
    "- appends weather\n",
    "- finds empty records and drops them\n",
    "- predicts and plots"
   ]
  },
  {
   "cell_type": "markdown",
   "metadata": {},
   "source": [
    "## 2\n",
    "- bins crimes within given two corners"
   ]
  },
  {
   "cell_type": "markdown",
   "metadata": {},
   "source": [
    "## 3\n",
    "- chooses a crime type or provides all"
   ]
  }
 ],
 "metadata": {
  "kernelspec": {
   "display_name": "Python 2",
   "language": "python",
   "name": "python2"
  },
  "language_info": {
   "codemirror_mode": {
    "name": "ipython",
    "version": 2
   },
   "file_extension": ".py",
   "mimetype": "text/x-python",
   "name": "python",
   "nbconvert_exporter": "python",
   "pygments_lexer": "ipython2",
   "version": "2.7.11"
  }
 },
 "nbformat": 4,
 "nbformat_minor": 0
}
