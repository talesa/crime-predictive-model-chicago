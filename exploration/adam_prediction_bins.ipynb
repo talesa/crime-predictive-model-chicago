{
 "cells": [
  {
   "cell_type": "code",
   "execution_count": 153,
   "metadata": {
    "collapsed": false
   },
   "outputs": [],
   "source": [
    "%matplotlib inline\n",
    "import pandas as pd\n",
    "import numpy as np\n",
    "import matplotlib.pyplot as plt\n",
    "import datetime"
   ]
  },
  {
   "cell_type": "markdown",
   "metadata": {},
   "source": [
    "#### Everything from adam_simple_prediction "
   ]
  },
  {
   "cell_type": "code",
   "execution_count": 210,
   "metadata": {
    "collapsed": false
   },
   "outputs": [],
   "source": [
    "crime_chicago = pd.read_pickle('../crime_chicago_with_timestamp.pkl')"
   ]
  },
  {
   "cell_type": "code",
   "execution_count": 231,
   "metadata": {
    "collapsed": false
   },
   "outputs": [],
   "source": [
    "crime_chicago.index = pd.DatetimeIndex(crime_chicago.datetime)"
   ]
  },
  {
   "cell_type": "code",
   "execution_count": 232,
   "metadata": {
    "collapsed": true
   },
   "outputs": [],
   "source": [
    "min_date = crime_chicago.index.min()\n",
    "max_date = crime_chicago.index.max()\n",
    "nobs = len(crime_chicago.index.unique())"
   ]
  },
  {
   "cell_type": "code",
   "execution_count": 233,
   "metadata": {
    "collapsed": false
   },
   "outputs": [
    {
     "data": {
      "text/plain": [
       "Timestamp('2001-01-01 00:00:00')"
      ]
     },
     "execution_count": 233,
     "metadata": {},
     "output_type": "execute_result"
    }
   ],
   "source": [
    "min_date"
   ]
  },
  {
   "cell_type": "code",
   "execution_count": 234,
   "metadata": {
    "collapsed": true
   },
   "outputs": [],
   "source": [
    "weather_chicago = pd.read_csv('../WeatherChicago20012016.csv')\n",
    "\n",
    "def weather_date_to_datetime(date):\n",
    "    return pd.datetime(int(date[0:4]), int(date[4:6]), int(date[6:]))\n",
    "\n",
    "weather_chicago['DATE'] = weather_chicago['DATE'].map(lambda x: weather_date_to_datetime(str(x)))\n",
    "weather_chicago.index = pd.DatetimeIndex(weather_chicago['DATE'])\n",
    "tmin_mean = weather_chicago['TMIN'].mean()\n",
    "tmax_mean = weather_chicago['TMAX'].mean()\n",
    "\n",
    "weather_chicago.loc[weather_chicago['TMIN'] == -9999, ['TMIN']] = tmin_mean\n",
    "weather_chicago.loc[weather_chicago['TMAX'] == -9999, ['TMAX']] = tmax_mean\n",
    "weather_chicago.loc[weather_chicago['PRCP'] == -9999, ['PRCP']] = 0\n",
    "weather_chicago.loc[weather_chicago['AWND'] == -9999, ['AWND']] = 0"
   ]
  },
  {
   "cell_type": "code",
   "execution_count": 235,
   "metadata": {
    "collapsed": true
   },
   "outputs": [],
   "source": [
    "number_of_bins = 2\n",
    "no = number_of_bins\n",
    "\n",
    "lat_min = crime_chicago['Latitude'].min()\n",
    "lon_min = crime_chicago['Longitude'].min()\n",
    "\n",
    "lat_span = crime_chicago['Latitude'].max() - crime_chicago['Latitude'].min()\n",
    "lon_span = crime_chicago['Longitude'].max() - crime_chicago['Longitude'].min()\n",
    "\n",
    "lat_step = lat_span / no\n",
    "lon_step = lon_span / no\n",
    "\n",
    "crime_chicago['bin'] = \\\n",
    "    no*np.floor((crime_chicago['Longitude']-lon_min)/lon_step) + \\\n",
    "       np.floor((crime_chicago['Latitude'] -lat_min)/lat_step)"
   ]
  },
  {
   "cell_type": "code",
   "execution_count": 236,
   "metadata": {
    "collapsed": true
   },
   "outputs": [],
   "source": [
    "def getPolygonForBin(bin_no):\n",
    "    lat, lon = getCornerLatLonForBin(bin_no)\n",
    "    return Polygon([\n",
    "            (lat,            lon),\n",
    "            (lat,            lon + lon_step),\n",
    "            (lat + lat_step, lon + lon_step),\n",
    "            (lat + lat_step, lon),\n",
    "        ])\n",
    "def getPolygonForBinReverse(bin_no):\n",
    "    lat, lon = getCornerLatLonForBin(bin_no)\n",
    "    return Polygon([\n",
    "            (lon,            lat),\n",
    "            (lon + lon_step, lat),\n",
    "            (lon + lon_step, lat + lat_step),\n",
    "            (lon,            lat + lat_step),\n",
    "        ])"
   ]
  },
  {
   "cell_type": "markdown",
   "metadata": {},
   "source": [
    "# THEFTS ONLY"
   ]
  },
  {
   "cell_type": "code",
   "execution_count": 237,
   "metadata": {
    "collapsed": true
   },
   "outputs": [],
   "source": [
    "# crime_chicago_copy = crime_chicago.copy()"
   ]
  },
  {
   "cell_type": "code",
   "execution_count": 238,
   "metadata": {
    "collapsed": true
   },
   "outputs": [],
   "source": [
    "# crime_chicago = crime_chicago_copy.copy()"
   ]
  },
  {
   "cell_type": "code",
   "execution_count": 239,
   "metadata": {
    "collapsed": false,
    "scrolled": false
   },
   "outputs": [],
   "source": [
    "# crime_chicago['Primary Type'].unique()"
   ]
  },
  {
   "cell_type": "code",
   "execution_count": 240,
   "metadata": {
    "collapsed": false,
    "scrolled": true
   },
   "outputs": [],
   "source": [
    "# crime_chicago = crime_chicago[crime_chicago['Primary Type'] == 'THEFT']"
   ]
  },
  {
   "cell_type": "markdown",
   "metadata": {},
   "source": [
    "#### END OF CHOOSING CRIME TYPE"
   ]
  },
  {
   "cell_type": "code",
   "execution_count": 241,
   "metadata": {
    "collapsed": true
   },
   "outputs": [],
   "source": [
    "crime_chicago_count_ref = crime_chicago[['datetime','bin']].groupby(['datetime','bin']).size().reset_index().rename(columns={0:'count'})"
   ]
  },
  {
   "cell_type": "code",
   "execution_count": 242,
   "metadata": {
    "collapsed": false
   },
   "outputs": [],
   "source": [
    "def get_counts_by_date_for_bin(bin_no):\n",
    "    crime_chicago_count_ref_temp = crime_chicago_count_ref.copy()\n",
    "    crime_chicago_count_ref_temp.index = pd.DatetimeIndex(crime_chicago_count_ref['datetime'])\n",
    "    crime_chicago_count_ref_temp = crime_chicago_count_ref_temp[crime_chicago_count_ref_temp['bin'] == bin_no]\n",
    "    crime_chicago_count_ref_temp = crime_chicago_count_ref_temp.drop(['bin', 'datetime'], axis=1)\n",
    "    crime_chicago_count_ref_temp = crime_chicago_count_ref_temp.reindex(pd.date_range(min_date.strftime('%Y-%m-%d'), periods=nobs, freq='D'))\n",
    "    crime_chicago_count_ref_temp = crime_chicago_count_ref_temp.fillna(0)\n",
    "    return crime_chicago_count_ref_temp"
   ]
  },
  {
   "cell_type": "markdown",
   "metadata": {},
   "source": [
    "## Prediction"
   ]
  },
  {
   "cell_type": "code",
   "execution_count": 243,
   "metadata": {
    "collapsed": false
   },
   "outputs": [],
   "source": [
    "import statsmodels.formula.api as smf\n",
    "import statsmodels.api as sm\n",
    "from scipy.stats.stats import pearsonr"
   ]
  },
  {
   "cell_type": "code",
   "execution_count": 244,
   "metadata": {
    "collapsed": true
   },
   "outputs": [],
   "source": [
    "def add_dummies(temp):\n",
    "    temp['weekday'] = temp.index.weekday\n",
    "    temp['yearday'] = temp.index.dayofyear\n",
    "\n",
    "    weekday_dummies = pd.get_dummies(temp['weekday'], prefix='weekday')\n",
    "    weekday_dummies.index = temp.index\n",
    "\n",
    "    yearday_dummies = pd.get_dummies(temp['yearday'], prefix='yearday')\n",
    "    yearday_dummies.index = temp.index\n",
    "\n",
    "    temp = temp.join(weekday_dummies).join(yearday_dummies)\n",
    "    \n",
    "    return temp"
   ]
  },
  {
   "cell_type": "code",
   "execution_count": 245,
   "metadata": {
    "collapsed": true
   },
   "outputs": [],
   "source": [
    "def append_weather(bin_crime_data):\n",
    "    bin_crime_data_weather = bin_crime_data.join(weather_chicago[['PRCP', 'TMAX','AWND']])\n",
    "    indeces = pd.isnull(bin_crime_data_weather).any(1)\n",
    "    bin_crime_data_weather.drop(bin_crime_data_weather.index[indeces], inplace=True)\n",
    "    return bin_crime_data_weather"
   ]
  },
  {
   "cell_type": "code",
   "execution_count": 246,
   "metadata": {
    "collapsed": true
   },
   "outputs": [],
   "source": [
    "def fit_sm_predict_row(endog, exog, predict_row):\n",
    "    res_temp = sm.GLM(endog, exog, family=sm.families.Poisson(link=sm.families.links.log)).fit()\n",
    "\n",
    "    #crime_chicago_count_weather_weekdays.iloc[1,:]\n",
    "    prediction = res_temp.predict(predict_row)\n",
    "    \n",
    "    return prediction"
   ]
  },
  {
   "cell_type": "code",
   "execution_count": 258,
   "metadata": {
    "collapsed": false
   },
   "outputs": [],
   "source": [
    "def predict_for_bin(bin_crime_data, next_day_row):\n",
    "    bin_crime_data = append_weather(bin_crime_data)\n",
    "    \n",
    "    bin_crime_data = add_dummies(bin_crime_data)\n",
    "    \n",
    "    #TODO change\n",
    "    endog = bin_crime_data.loc[:, ['count']]\n",
    "    exog = bin_crime_data.loc[:, 'PRCP':]\n",
    "    exog = exog.drop(['AWND','weekday','yearday'], axis=1)\n",
    "    \n",
    "    prediction = fit_sm_predict_row(endog, exog, next_day_row)\n",
    "    \n",
    "    return prediction[0]"
   ]
  },
  {
   "cell_type": "markdown",
   "metadata": {},
   "source": [
    "### Putting it all together"
   ]
  },
  {
   "cell_type": "code",
   "execution_count": 252,
   "metadata": {
    "collapsed": true
   },
   "outputs": [],
   "source": [
    "def generate_nextday(temp, prcp):\n",
    "    columns = ['TMAX','PRCP']\n",
    "    for i in range(7):\n",
    "        columns.append('weekday_' + str(i))\n",
    "    for i in range(1, 367):\n",
    "        columns.append('yearday_' + str(i))\n",
    "    next_day_row = pd.DataFrame(columns = columns)\n",
    "    next_day_row.loc[0,:] = np.zeros(len(next_day_row.columns))\n",
    "    next_day_row.loc[0,'TMAX'] = 1\n",
    "    next_day_row.loc[0,'PRCP'] = 2\n",
    "\n",
    "    tomorrow = (datetime.date.today() + datetime.timedelta(days=1))\n",
    "    next_day_row.loc[0,'weekday_' + str(tomorrow.weekday())] = 1\n",
    "    day_of_the_year = tomorrow.timetuple().tm_yday\n",
    "    next_day_row.loc[0,'yearday_' + str(day_of_the_year)] = 1\n",
    "    \n",
    "    return next_day_row"
   ]
  },
  {
   "cell_type": "code",
   "execution_count": 256,
   "metadata": {
    "collapsed": true
   },
   "outputs": [],
   "source": [
    "def generate_predictions_for_all_bins(temp, prcp):\n",
    "    df = pd.DataFrame()\n",
    "    df['bin'] = np.arange(no*no)\n",
    "    \n",
    "    df['count'] = df['bin'].map(lambda x: \n",
    "        predict_for_bin(\n",
    "            get_counts_by_date_for_bin(x),\n",
    "            generate_nextday(temp, prcp)\n",
    "        )\n",
    "    )\n",
    "    \n",
    "    return df"
   ]
  },
  {
   "cell_type": "code",
   "execution_count": 259,
   "metadata": {
    "collapsed": false,
    "scrolled": true
   },
   "outputs": [
    {
     "data": {
      "text/html": [
       "<div>\n",
       "<table border=\"1\" class=\"dataframe\">\n",
       "  <thead>\n",
       "    <tr style=\"text-align: right;\">\n",
       "      <th></th>\n",
       "      <th>bin</th>\n",
       "      <th>count</th>\n",
       "    </tr>\n",
       "  </thead>\n",
       "  <tbody>\n",
       "    <tr>\n",
       "      <th>0</th>\n",
       "      <td>0</td>\n",
       "      <td>93.419674</td>\n",
       "    </tr>\n",
       "    <tr>\n",
       "      <th>1</th>\n",
       "      <td>1</td>\n",
       "      <td>340.250440</td>\n",
       "    </tr>\n",
       "    <tr>\n",
       "      <th>2</th>\n",
       "      <td>2</td>\n",
       "      <td>329.245907</td>\n",
       "    </tr>\n",
       "    <tr>\n",
       "      <th>3</th>\n",
       "      <td>3</td>\n",
       "      <td>179.512380</td>\n",
       "    </tr>\n",
       "  </tbody>\n",
       "</table>\n",
       "</div>"
      ],
      "text/plain": [
       "   bin       count\n",
       "0    0   93.419674\n",
       "1    1  340.250440\n",
       "2    2  329.245907\n",
       "3    3  179.512380"
      ]
     },
     "execution_count": 259,
     "metadata": {},
     "output_type": "execute_result"
    }
   ],
   "source": [
    "dfr = generate_predictions_for_all_bins(0,0)\n",
    "dfr"
   ]
  },
  {
   "cell_type": "markdown",
   "metadata": {},
   "source": [
    "- different crime types\n",
    "- bins\n",
    "- timescales\n",
    "- only shopping centre we're interested in (by hour?)"
   ]
  },
  {
   "cell_type": "markdown",
   "metadata": {},
   "source": [
    "## 1\n",
    "- it's provided df with counted crimes\n",
    "- appends weather\n",
    "- finds empty records and drops them\n",
    "- predicts and plots"
   ]
  },
  {
   "cell_type": "markdown",
   "metadata": {},
   "source": [
    "## 2\n",
    "- bins crimes within given two corners"
   ]
  },
  {
   "cell_type": "markdown",
   "metadata": {},
   "source": [
    "## 3\n",
    "- chooses a crime type or provides all"
   ]
  }
 ],
 "metadata": {
  "kernelspec": {
   "display_name": "Python 2",
   "language": "python",
   "name": "python2"
  },
  "language_info": {
   "codemirror_mode": {
    "name": "ipython",
    "version": 2
   },
   "file_extension": ".py",
   "mimetype": "text/x-python",
   "name": "python",
   "nbconvert_exporter": "python",
   "pygments_lexer": "ipython2",
   "version": "2.7.11"
  }
 },
 "nbformat": 4,
 "nbformat_minor": 0
}
