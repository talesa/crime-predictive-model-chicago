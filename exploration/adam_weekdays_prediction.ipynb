{
 "cells": [
  {
   "cell_type": "code",
   "execution_count": 2,
   "metadata": {
    "collapsed": false
   },
   "outputs": [],
   "source": [
    "%matplotlib inline\n",
    "import pandas as pd\n",
    "import numpy as np\n",
    "import matplotlib.pyplot as plt"
   ]
  },
  {
   "cell_type": "markdown",
   "metadata": {},
   "source": [
    "#### Everything from adam_simple_prediction "
   ]
  },
  {
   "cell_type": "code",
   "execution_count": 4,
   "metadata": {
    "collapsed": false
   },
   "outputs": [],
   "source": [
    "crime_chicago = pd.read_pickle('../crime_chicago_with_timestamp.pkl')"
   ]
  },
  {
   "cell_type": "code",
   "execution_count": 5,
   "metadata": {
    "collapsed": true
   },
   "outputs": [],
   "source": [
    "number_of_bins = 70\n",
    "no = number_of_bins\n",
    "\n",
    "lat_min = crime_chicago['Latitude'].min()\n",
    "lon_min = crime_chicago['Longitude'].min()\n",
    "\n",
    "lat_span = crime_chicago['Latitude'].max() - crime_chicago['Latitude'].min()\n",
    "lon_span = crime_chicago['Longitude'].max() - crime_chicago['Longitude'].min()\n",
    "\n",
    "lat_step = lat_span / no\n",
    "lon_step = lon_span / no\n",
    "\n",
    "crime_chicago['bin'] = \\\n",
    "    no*np.floor((crime_chicago['Longitude']-lon_min)/lon_step) + \\\n",
    "       np.floor((crime_chicago['Latitude'] -lat_min)/lat_step)"
   ]
  },
  {
   "cell_type": "code",
   "execution_count": 6,
   "metadata": {
    "collapsed": true
   },
   "outputs": [],
   "source": [
    "def getPolygonForBin(bin_no):\n",
    "    lat, lon = getCornerLatLonForBin(bin_no)\n",
    "    return Polygon([\n",
    "            (lat,            lon),\n",
    "            (lat,            lon + lon_step),\n",
    "            (lat + lat_step, lon + lon_step),\n",
    "            (lat + lat_step, lon),\n",
    "        ])\n",
    "def getPolygonForBinReverse(bin_no):\n",
    "    lat, lon = getCornerLatLonForBin(bin_no)\n",
    "    return Polygon([\n",
    "            (lon,            lat),\n",
    "            (lon + lon_step, lat),\n",
    "            (lon + lon_step, lat + lat_step),\n",
    "            (lon,            lat + lat_step),\n",
    "        ])"
   ]
  },
  {
   "cell_type": "markdown",
   "metadata": {},
   "source": [
    "# THEFTS ONLY"
   ]
  },
  {
   "cell_type": "code",
   "execution_count": 7,
   "metadata": {
    "collapsed": true
   },
   "outputs": [],
   "source": [
    "crime_chicago_copy = crime_chicago.copy()"
   ]
  },
  {
   "cell_type": "code",
   "execution_count": 8,
   "metadata": {
    "collapsed": false,
    "scrolled": true
   },
   "outputs": [
    {
     "data": {
      "text/plain": [
       "array(['NARCOTICS', 'ASSAULT', 'WEAPONS VIOLATION', 'OTHER OFFENSE',\n",
       "       'BURGLARY', 'THEFT', 'ROBBERY', 'BATTERY', 'MOTOR VEHICLE THEFT',\n",
       "       'CRIMINAL DAMAGE', 'PUBLIC PEACE VIOLATION', 'CRIMINAL TRESPASS',\n",
       "       'INTERFERENCE WITH PUBLIC OFFICER', 'DECEPTIVE PRACTICE',\n",
       "       'OFFENSE INVOLVING CHILDREN', 'CRIM SEXUAL ASSAULT', 'SEX OFFENSE',\n",
       "       'KIDNAPPING', 'HOMICIDE', 'OBSCENITY', 'LIQUOR LAW VIOLATION',\n",
       "       'ARSON', 'PROSTITUTION', 'NON-CRIMINAL', 'INTIMIDATION', 'STALKING',\n",
       "       'NON - CRIMINAL', 'PUBLIC INDECENCY',\n",
       "       'CONCEALED CARRY LICENSE VIOLATION', 'GAMBLING',\n",
       "       'HUMAN TRAFFICKING', 'OTHER NARCOTIC VIOLATION',\n",
       "       'NON-CRIMINAL (SUBJECT SPECIFIED)', 'RITUALISM', 'DOMESTIC VIOLENCE'], dtype=object)"
      ]
     },
     "execution_count": 8,
     "metadata": {},
     "output_type": "execute_result"
    }
   ],
   "source": [
    "crime_chicago['Primary Type'].unique()"
   ]
  },
  {
   "cell_type": "code",
   "execution_count": 9,
   "metadata": {
    "collapsed": false,
    "scrolled": true
   },
   "outputs": [],
   "source": [
    "crime_chicago = crime_chicago[crime_chicago['Primary Type'] == 'THEFT']"
   ]
  },
  {
   "cell_type": "code",
   "execution_count": 10,
   "metadata": {
    "collapsed": true
   },
   "outputs": [],
   "source": [
    "crime_chicago.index = pd.DatetimeIndex(crime_chicago['datetime'])\n",
    "crime_chicago_count = crime_chicago[['bin', 'datetime']].groupby(['bin', 'datetime']).size().reset_index().rename(columns={0:'count'})\n",
    "crime_chicago_count.index = pd.DatetimeIndex(crime_chicago_count['datetime'])"
   ]
  },
  {
   "cell_type": "markdown",
   "metadata": {},
   "source": [
    "Importing weather data"
   ]
  },
  {
   "cell_type": "code",
   "execution_count": 13,
   "metadata": {
    "collapsed": false
   },
   "outputs": [],
   "source": [
    "weather_chicago = pd.read_csv('../WeatherChicago20012016.csv')\n",
    "\n",
    "def weather_date_to_datetime(date):\n",
    "    return pd.datetime(int(date[0:4]), int(date[4:6]), int(date[6:]))\n",
    "\n",
    "weather_chicago['DATE'] = weather_chicago['DATE'].map(lambda x: weather_date_to_datetime(str(x)))\n",
    "weather_chicago.index = pd.DatetimeIndex(weather_chicago['DATE'])\n",
    "tmin_mean = weather_chicago['TMIN'].mean()\n",
    "tmax_mean = weather_chicago['TMAX'].mean()\n",
    "\n",
    "weather_chicago.loc[weather_chicago['TMIN'] == -9999, ['TMIN']] = tmin_mean\n",
    "weather_chicago.loc[weather_chicago['TMAX'] == -9999, ['TMAX']] = tmax_mean\n",
    "weather_chicago.loc[weather_chicago['PRCP'] == -9999, ['PRCP']] = 0\n",
    "weather_chicago.loc[weather_chicago['AWND'] == -9999, ['AWND']] = 0"
   ]
  },
  {
   "cell_type": "markdown",
   "metadata": {},
   "source": [
    "Concatenating crimes and weather  \n",
    "Finding empty records"
   ]
  },
  {
   "cell_type": "code",
   "execution_count": 14,
   "metadata": {
    "collapsed": false,
    "scrolled": false
   },
   "outputs": [],
   "source": [
    "crime_chicago_count_ref = crime_chicago[['datetime']].groupby(['datetime']).size().reset_index().rename(columns={0:'count'})\n",
    "crime_chicago_count_ref.index = pd.DatetimeIndex(crime_chicago_count_ref['datetime'])\n",
    "crime_chicago_count_weather = crime_chicago_count_ref.join(weather_chicago[['PRCP', 'TMAX','AWND']])\n",
    "indeces = pd.isnull(crime_chicago_count_weather).any(1)\n",
    "crime_chicago_count_weather.drop(crime_chicago_count_weather.index[indeces], inplace=True)"
   ]
  },
  {
   "cell_type": "markdown",
   "metadata": {},
   "source": [
    "## Prediction"
   ]
  },
  {
   "cell_type": "code",
   "execution_count": 15,
   "metadata": {
    "collapsed": false
   },
   "outputs": [],
   "source": [
    "import statsmodels.formula.api as smf\n",
    "import statsmodels.api as sm\n",
    "from scipy.stats.stats import pearsonr"
   ]
  },
  {
   "cell_type": "code",
   "execution_count": 16,
   "metadata": {
    "collapsed": false
   },
   "outputs": [],
   "source": [
    "crime_chicago_count_weather['weekday'] = crime_chicago_count_weather.index.weekday\n",
    "crime_chicago_count_weather['yearday'] = crime_chicago_count_weather.index.dayofyear\n",
    "\n",
    "weekday_dummies = pd.get_dummies(crime_chicago_count_weather['weekday'], prefix='weekday')\n",
    "weekday_dummies.index = crime_chicago_count_weather.index\n",
    "\n",
    "yearday_dummies = pd.get_dummies(crime_chicago_count_weather['yearday'], prefix='yearday')\n",
    "yearday_dummies.index = crime_chicago_count_weather.index\n",
    "\n",
    "crime_chicago_count_weather_weekdays = crime_chicago_count_weather.join(weekday_dummies).join(yearday_dummies)"
   ]
  },
  {
   "cell_type": "code",
   "execution_count": 110,
   "metadata": {
    "collapsed": true
   },
   "outputs": [],
   "source": [
    "endog = crime_chicago_count_weather_weekdays.loc[:, ['TMAX']]"
   ]
  },
  {
   "cell_type": "code",
   "execution_count": 112,
   "metadata": {
    "collapsed": false
   },
   "outputs": [],
   "source": [
    "exog = crime_chicago_count_weather_weekdays.loc[:, 'yearday_1':]\n",
    "# exog.drop(['weekday', 'yearday'], inplace=True, axis=1)"
   ]
  },
  {
   "cell_type": "code",
   "execution_count": 114,
   "metadata": {
    "collapsed": true
   },
   "outputs": [],
   "source": [
    "from statsmodels.graphics.api import abline_plot\n",
    "def fit_summary_plot_sm(endog, exog):\n",
    "    res_temp = sm.GLM(endog, exog, family=sm.families.Poisson(link=sm.families.links.log)).fit(maxiter=500)\n",
    "    print(res_temp.summary())\n",
    "    nobs = res.nobs\n",
    "    yhat = res.mu\n",
    "    y = crime_chicago_count_weather_weekdays.loc[:,'count']\n",
    "\n",
    "    fig, ax = plt.subplots()\n",
    "    ax.scatter(yhat, y)\n",
    "    line_fit = sm.OLS(y, sm.add_constant(yhat, prepend=True)).fit()\n",
    "    abline_plot(model_results=line_fit, ax=ax)\n",
    "\n",
    "    plt.axis([0, 500, 0, 500])\n",
    "\n",
    "    ax.set_title('Model Fit Plot')\n",
    "    ax.set_ylabel('Observed values')\n",
    "    ax.set_xlabel('Fitted values')\n",
    "    \n",
    "    return yhat"
   ]
  },
  {
   "cell_type": "code",
   "execution_count": 107,
   "metadata": {
    "collapsed": false,
    "scrolled": false
   },
   "outputs": [
    {
     "name": "stdout",
     "output_type": "stream",
     "text": [
      "                 Generalized Linear Model Regression Results                  \n",
      "==============================================================================\n",
      "Dep. Variable:                      y   No. Observations:                 5470\n",
      "Model:                            GLM   Df Residuals:                     5095\n",
      "Model Family:                 Poisson   Df Model:                          374\n",
      "Link Function:                    log   Scale:                             1.0\n",
      "Method:                          IRLS   Log-Likelihood:                -39466.\n",
      "Date:                Thu, 18 Feb 2016   Deviance:                       39531.\n",
      "Time:                        23:53:06   Pearson chi2:                 3.85e+04\n",
      "No. Iterations:                     8                                         \n",
      "===============================================================================\n",
      "                  coef    std err          z      P>|z|      [95.0% Conf. Int.]\n",
      "-------------------------------------------------------------------------------\n",
      "const           4.6448      0.003   1341.925      0.000         4.638     4.652\n",
      "PRCP           -0.0002   1.37e-05    -12.370      0.000        -0.000    -0.000\n",
      "TMAX            0.0004   1.78e-05     22.239      0.000         0.000     0.000\n",
      "AWND         6.562e-05   6.21e-05      1.056      0.291     -5.61e-05     0.000\n",
      "weekday_0       0.6790      0.002    294.996      0.000         0.674     0.684\n",
      "weekday_1       0.6806      0.002    295.470      0.000         0.676     0.685\n",
      "weekday_2       0.6893      0.002    301.720      0.000         0.685     0.694\n",
      "weekday_3       0.6706      0.002    290.526      0.000         0.666     0.675\n",
      "weekday_4       0.7507      0.002    338.777      0.000         0.746     0.755\n",
      "weekday_5       0.6541      0.002    284.024      0.000         0.650     0.659\n",
      "weekday_6       0.5206      0.002    212.163      0.000         0.516     0.525\n",
      "yearday_1       0.4485      0.015     30.499      0.000         0.420     0.477\n",
      "yearday_2      -0.0852      0.019     -4.488      0.000        -0.122    -0.048\n",
      "yearday_3      -0.0802      0.019     -4.241      0.000        -0.117    -0.043\n",
      "yearday_4      -0.0648      0.019     -3.436      0.001        -0.102    -0.028\n",
      "yearday_5      -0.0687      0.019     -3.642      0.000        -0.106    -0.032\n",
      "yearday_6      -0.0850      0.019     -4.425      0.000        -0.123    -0.047\n",
      "yearday_7      -0.0830      0.019     -4.355      0.000        -0.120    -0.046\n",
      "yearday_8      -0.0836      0.019     -4.381      0.000        -0.121    -0.046\n",
      "yearday_9      -0.0271      0.018     -1.476      0.140        -0.063     0.009\n",
      "yearday_10      0.0025      0.018      0.136      0.892        -0.033     0.038\n",
      "yearday_11     -0.0185      0.018     -1.010      0.312        -0.054     0.017\n",
      "yearday_12     -0.0378      0.018     -2.056      0.040        -0.074    -0.002\n",
      "yearday_13     -0.0189      0.018     -1.022      0.307        -0.055     0.017\n",
      "yearday_14     -0.0561      0.019     -2.967      0.003        -0.093    -0.019\n",
      "yearday_15      0.0472      0.018      2.610      0.009         0.012     0.083\n",
      "yearday_16     -0.0431      0.019     -2.307      0.021        -0.080    -0.006\n",
      "yearday_17     -0.0201      0.018     -1.091      0.275        -0.056     0.016\n",
      "yearday_18     -0.0369      0.019     -1.969      0.049        -0.074    -0.000\n",
      "yearday_19     -0.0585      0.019     -3.113      0.002        -0.095    -0.022\n",
      "yearday_20     -0.0261      0.019     -1.390      0.164        -0.063     0.011\n",
      "yearday_21     -0.1211      0.020     -6.185      0.000        -0.159    -0.083\n",
      "yearday_22     -0.0947      0.019     -4.902      0.000        -0.133    -0.057\n",
      "yearday_23     -0.0989      0.019     -5.147      0.000        -0.137    -0.061\n",
      "yearday_24     -0.0673      0.019     -3.554      0.000        -0.104    -0.030\n",
      "yearday_25     -0.0570      0.019     -3.032      0.002        -0.094    -0.020\n",
      "yearday_26     -0.0894      0.019     -4.678      0.000        -0.127    -0.052\n",
      "yearday_27     -0.1132      0.019     -5.810      0.000        -0.151    -0.075\n",
      "yearday_28     -0.0566      0.019     -3.004      0.003        -0.093    -0.020\n",
      "yearday_29     -0.0592      0.019     -3.136      0.002        -0.096    -0.022\n",
      "yearday_30     -0.1195      0.019     -6.158      0.000        -0.158    -0.081\n",
      "yearday_31     -0.1460      0.020     -7.453      0.000        -0.184    -0.108\n",
      "yearday_32      0.1564      0.017      9.213      0.000         0.123     0.190\n",
      "yearday_33     -0.1330      0.020     -6.767      0.000        -0.171    -0.094\n",
      "yearday_34     -0.1828      0.020     -9.068      0.000        -0.222    -0.143\n",
      "yearday_35     -0.1764      0.020     -8.824      0.000        -0.216    -0.137\n",
      "yearday_36     -0.1606      0.020     -8.078      0.000        -0.200    -0.122\n",
      "yearday_37     -0.1976      0.020     -9.840      0.000        -0.237    -0.158\n",
      "yearday_38     -0.1193      0.019     -6.176      0.000        -0.157    -0.081\n",
      "yearday_39     -0.1153      0.019     -5.944      0.000        -0.153    -0.077\n",
      "yearday_40     -0.1047      0.019     -5.443      0.000        -0.142    -0.067\n",
      "yearday_41     -0.1393      0.020     -7.061      0.000        -0.178    -0.101\n",
      "yearday_42     -0.1267      0.019     -6.511      0.000        -0.165    -0.089\n",
      "yearday_43     -0.1748      0.020     -8.753      0.000        -0.214    -0.136\n",
      "yearday_44     -0.1380      0.019     -7.106      0.000        -0.176    -0.100\n",
      "yearday_45     -0.1310      0.019     -6.795      0.000        -0.169    -0.093\n",
      "yearday_46     -0.0853      0.019     -4.460      0.000        -0.123    -0.048\n",
      "yearday_47     -0.0986      0.019     -5.135      0.000        -0.136    -0.061\n",
      "yearday_48     -0.1466      0.020     -7.447      0.000        -0.185    -0.108\n",
      "yearday_49     -0.1225      0.019     -6.346      0.000        -0.160    -0.085\n",
      "yearday_50     -0.1553      0.020     -7.885      0.000        -0.194    -0.117\n",
      "yearday_51     -0.0935      0.019     -4.948      0.000        -0.131    -0.056\n",
      "yearday_52     -0.1109      0.019     -5.801      0.000        -0.148    -0.073\n",
      "yearday_53     -0.1451      0.020     -7.409      0.000        -0.183    -0.107\n",
      "yearday_54     -0.0866      0.019     -4.545      0.000        -0.124    -0.049\n",
      "yearday_55     -0.1298      0.019     -6.672      0.000        -0.168    -0.092\n",
      "yearday_56     -0.1067      0.019     -5.589      0.000        -0.144    -0.069\n",
      "yearday_57     -0.1492      0.020     -7.578      0.000        -0.188    -0.111\n",
      "yearday_58     -0.1049      0.019     -5.480      0.000        -0.142    -0.067\n",
      "yearday_59     -0.0793      0.020     -4.065      0.000        -0.118    -0.041\n",
      "yearday_60      0.1284      0.017      7.545      0.000         0.095     0.162\n",
      "yearday_61     -0.0222      0.018     -1.205      0.228        -0.058     0.014\n",
      "yearday_62     -0.1109      0.019     -5.762      0.000        -0.149    -0.073\n",
      "yearday_63     -0.1457      0.019     -7.504      0.000        -0.184    -0.108\n",
      "yearday_64     -0.1143      0.019     -5.914      0.000        -0.152    -0.076\n",
      "yearday_65     -0.1309      0.019     -6.826      0.000        -0.168    -0.093\n",
      "yearday_66     -0.0575      0.018     -3.124      0.002        -0.094    -0.021\n",
      "yearday_67     -0.0478      0.018     -2.593      0.010        -0.084    -0.012\n",
      "yearday_68     -0.1063      0.019     -5.622      0.000        -0.143    -0.069\n",
      "yearday_69     -0.0677      0.019     -3.632      0.000        -0.104    -0.031\n",
      "yearday_70     -0.0809      0.019     -4.368      0.000        -0.117    -0.045\n",
      "yearday_71     -0.0529      0.018     -2.881      0.004        -0.089    -0.017\n",
      "yearday_72     -0.0678      0.018     -3.690      0.000        -0.104    -0.032\n",
      "yearday_73     -0.0471      0.018     -2.605      0.009        -0.082    -0.012\n",
      "yearday_74     -0.0047      0.018     -0.261      0.794        -0.040     0.030\n",
      "yearday_75     -0.0254      0.018     -1.414      0.157        -0.061     0.010\n",
      "yearday_76     -0.0410      0.018     -2.252      0.024        -0.077    -0.005\n",
      "yearday_77     -0.0307      0.018     -1.699      0.089        -0.066     0.005\n",
      "yearday_78     -0.0574      0.018     -3.132      0.002        -0.093    -0.021\n",
      "yearday_79     -0.0535      0.018     -2.934      0.003        -0.089    -0.018\n",
      "yearday_80     -0.1016      0.019     -5.472      0.000        -0.138    -0.065\n",
      "yearday_81     -0.0764      0.019     -4.117      0.000        -0.113    -0.040\n",
      "yearday_82     -0.0153      0.018     -0.850      0.395        -0.050     0.020\n",
      "yearday_83     -0.0399      0.018     -2.188      0.029        -0.076    -0.004\n",
      "yearday_84     -0.0396      0.018     -2.168      0.030        -0.075    -0.004\n",
      "yearday_85     -0.0244      0.018     -1.354      0.176        -0.060     0.011\n",
      "yearday_86     -0.0260      0.018     -1.450      0.147        -0.061     0.009\n",
      "yearday_87     -0.0297      0.018     -1.651      0.099        -0.065     0.006\n",
      "yearday_88     -0.0416      0.018     -2.290      0.022        -0.077    -0.006\n",
      "yearday_89     -0.0339      0.018     -1.887      0.059        -0.069     0.001\n",
      "yearday_90     -0.0935      0.019     -5.039      0.000        -0.130    -0.057\n",
      "yearday_91      0.1656      0.016     10.202      0.000         0.134     0.197\n",
      "yearday_92      0.0024      0.018      0.135      0.893        -0.032     0.037\n",
      "yearday_93     -0.0548      0.018     -3.023      0.002        -0.090    -0.019\n",
      "yearday_94     -0.0137      0.018     -0.771      0.441        -0.048     0.021\n",
      "yearday_95     -0.0330      0.018     -1.828      0.068        -0.068     0.002\n",
      "yearday_96     -0.0346      0.018     -1.929      0.054        -0.070     0.001\n",
      "yearday_97     -0.0743      0.018     -4.021      0.000        -0.110    -0.038\n",
      "yearday_98     -0.0330      0.018     -1.834      0.067        -0.068     0.002\n",
      "yearday_99     -0.0541      0.018     -2.974      0.003        -0.090    -0.018\n",
      "yearday_100     0.0060      0.017      0.345      0.730        -0.028     0.040\n",
      "yearday_101    -0.0736      0.018     -4.059      0.000        -0.109    -0.038\n",
      "yearday_102    -0.0708      0.018     -3.877      0.000        -0.107    -0.035\n",
      "yearday_103    -0.0705      0.018     -3.868      0.000        -0.106    -0.035\n",
      "yearday_104    -0.0607      0.018     -3.351      0.001        -0.096    -0.025\n",
      "yearday_105     0.0644      0.017      3.803      0.000         0.031     0.098\n",
      "yearday_106     0.0060      0.018      0.344      0.731        -0.028     0.040\n",
      "yearday_107    -0.0328      0.018     -1.853      0.064        -0.068     0.002\n",
      "yearday_108    -0.0314      0.018     -1.768      0.077        -0.066     0.003\n",
      "yearday_109    -0.0530      0.018     -2.947      0.003        -0.088    -0.018\n",
      "yearday_110     0.0146      0.017      0.842      0.400        -0.019     0.049\n",
      "yearday_111    -0.0172      0.018     -0.966      0.334        -0.052     0.018\n",
      "yearday_112    -0.0248      0.018     -1.394      0.163        -0.060     0.010\n",
      "yearday_113    -0.0189      0.018     -1.065      0.287        -0.054     0.016\n",
      "yearday_114    -0.0414      0.018     -2.327      0.020        -0.076    -0.007\n",
      "yearday_115     0.0027      0.018      0.153      0.878        -0.032     0.037\n",
      "yearday_116    -0.0074      0.018     -0.406      0.685        -0.043     0.028\n",
      "yearday_117    -0.0314      0.018     -1.696      0.090        -0.068     0.005\n",
      "yearday_118    -0.0269      0.018     -1.461      0.144        -0.063     0.009\n",
      "yearday_119    -0.0341      0.018     -1.856      0.064        -0.070     0.002\n",
      "yearday_120    -0.0117      0.018     -0.664      0.507        -0.046     0.023\n",
      "yearday_121     0.1735      0.016     10.847      0.000         0.142     0.205\n",
      "yearday_122    -0.0033      0.017     -0.189      0.850        -0.037     0.031\n",
      "yearday_123    -0.0384      0.018     -2.154      0.031        -0.073    -0.003\n",
      "yearday_124    -0.0399      0.018     -2.243      0.025        -0.075    -0.005\n",
      "yearday_125     0.0263      0.017      1.521      0.128        -0.008     0.060\n",
      "yearday_126    -0.0358      0.018     -2.021      0.043        -0.071    -0.001\n",
      "yearday_127    -0.0233      0.018     -1.322      0.186        -0.058     0.011\n",
      "yearday_128    -0.0374      0.018     -2.117      0.034        -0.072    -0.003\n",
      "yearday_129     0.0068      0.017      0.393      0.694        -0.027     0.041\n",
      "yearday_130     0.0044      0.017      0.251      0.802        -0.030     0.038\n",
      "yearday_131    -0.0209      0.018     -1.181      0.238        -0.056     0.014\n",
      "yearday_132    -0.0103      0.018     -0.580      0.562        -0.045     0.024\n",
      "yearday_133     0.0058      0.017      0.332      0.740        -0.028     0.040\n",
      "yearday_134    -0.0116      0.018     -0.657      0.511        -0.046     0.023\n",
      "yearday_135     0.0622      0.017      3.686      0.000         0.029     0.095\n",
      "yearday_136     0.0436      0.017      2.563      0.010         0.010     0.077\n",
      "yearday_137     0.0263      0.017      1.524      0.128        -0.008     0.060\n",
      "yearday_138     0.0330      0.017      1.929      0.054        -0.001     0.067\n",
      "yearday_139    -0.0099      0.018     -0.564      0.573        -0.044     0.025\n",
      "yearday_140     0.0119      0.017      0.686      0.493        -0.022     0.046\n",
      "yearday_141     0.0306      0.017      1.787      0.074        -0.003     0.064\n",
      "yearday_142     0.0129      0.017      0.751      0.453        -0.021     0.047\n",
      "yearday_143     0.0238      0.017      1.389      0.165        -0.010     0.057\n",
      "yearday_144     0.0297      0.017      1.732      0.083        -0.004     0.063\n",
      "yearday_145    -0.0049      0.017     -0.281      0.778        -0.039     0.029\n",
      "yearday_146    -0.0122      0.018     -0.694      0.488        -0.047     0.022\n",
      "yearday_147    -0.0453      0.018     -2.556      0.011        -0.080    -0.011\n",
      "yearday_148    -0.0023      0.017     -0.129      0.897        -0.037     0.032\n",
      "yearday_149    -0.0252      0.017     -1.440      0.150        -0.059     0.009\n",
      "yearday_150    -0.0118      0.017     -0.677      0.499        -0.046     0.022\n",
      "yearday_151    -0.0268      0.018     -1.513      0.130        -0.062     0.008\n",
      "yearday_152     0.1987      0.016     12.594      0.000         0.168     0.230\n",
      "yearday_153     0.0882      0.017      5.263      0.000         0.055     0.121\n",
      "yearday_154     0.0154      0.017      0.893      0.372        -0.018     0.049\n",
      "yearday_155     0.0129      0.017      0.743      0.458        -0.021     0.047\n",
      "yearday_156     0.0164      0.017      0.953      0.341        -0.017     0.050\n",
      "yearday_157     0.0103      0.017      0.597      0.551        -0.023     0.044\n",
      "yearday_158    -0.0224      0.018     -1.278      0.201        -0.057     0.012\n",
      "yearday_159    -0.0101      0.017     -0.579      0.562        -0.044     0.024\n",
      "yearday_160     0.0014      0.017      0.078      0.938        -0.033     0.036\n",
      "yearday_161     0.0505      0.017      2.973      0.003         0.017     0.084\n",
      "yearday_162     0.0426      0.017      2.495      0.013         0.009     0.076\n",
      "yearday_163     0.0462      0.017      2.737      0.006         0.013     0.079\n",
      "yearday_164     0.0582      0.017      3.467      0.001         0.025     0.091\n",
      "yearday_165     0.0726      0.017      4.325      0.000         0.040     0.105\n",
      "yearday_166     0.1046      0.017      6.334      0.000         0.072     0.137\n",
      "yearday_167     0.0508      0.017      2.999      0.003         0.018     0.084\n",
      "yearday_168     0.0460      0.017      2.724      0.006         0.013     0.079\n",
      "yearday_169     0.0219      0.017      1.272      0.204        -0.012     0.056\n",
      "yearday_170     0.0145      0.017      0.846      0.398        -0.019     0.048\n",
      "yearday_171     0.0848      0.017      5.130      0.000         0.052     0.117\n",
      "yearday_172     0.0474      0.017      2.795      0.005         0.014     0.081\n",
      "yearday_173     0.0427      0.017      2.522      0.012         0.010     0.076\n",
      "yearday_174     0.0283      0.017      1.646      0.100        -0.005     0.062\n",
      "yearday_175     0.0320      0.017      1.881      0.060        -0.001     0.065\n",
      "yearday_176     0.0431      0.017      2.536      0.011         0.010     0.076\n",
      "yearday_177     0.0865      0.017      5.224      0.000         0.054     0.119\n",
      "yearday_178     0.0323      0.017      1.902      0.057        -0.001     0.066\n",
      "yearday_179     0.0853      0.017      5.137      0.000         0.053     0.118\n",
      "yearday_180     0.0517      0.017      3.061      0.002         0.019     0.085\n",
      "yearday_181     0.0782      0.017      4.668      0.000         0.045     0.111\n",
      "yearday_182     0.2357      0.015     15.321      0.000         0.206     0.266\n",
      "yearday_183     0.1311      0.016      8.063      0.000         0.099     0.163\n",
      "yearday_184     0.0829      0.017      5.008      0.000         0.050     0.115\n",
      "yearday_185    -0.0816      0.018     -4.552      0.000        -0.117    -0.046\n",
      "yearday_186    -0.0137      0.017     -0.784      0.433        -0.048     0.021\n",
      "yearday_187     0.0449      0.017      2.649      0.008         0.012     0.078\n",
      "yearday_188     0.0970      0.017      5.838      0.000         0.064     0.130\n",
      "yearday_189     0.0696      0.017      4.163      0.000         0.037     0.102\n",
      "yearday_190     0.1159      0.016      7.073      0.000         0.084     0.148\n",
      "yearday_191     0.1305      0.016      8.074      0.000         0.099     0.162\n",
      "yearday_192     0.0812      0.017      4.894      0.000         0.049     0.114\n",
      "yearday_193     0.1273      0.016      7.786      0.000         0.095     0.159\n",
      "yearday_194     0.1329      0.016      8.189      0.000         0.101     0.165\n",
      "yearday_195     0.1532      0.016      9.512      0.000         0.122     0.185\n",
      "yearday_196     0.2023      0.016     12.921      0.000         0.172     0.233\n",
      "yearday_197     0.1893      0.016     11.974      0.000         0.158     0.220\n",
      "yearday_198     0.1628      0.016     10.222      0.000         0.132     0.194\n",
      "yearday_199     0.1146      0.016      7.040      0.000         0.083     0.147\n",
      "yearday_200     0.0981      0.017      5.942      0.000         0.066     0.130\n",
      "yearday_201     0.1585      0.016      9.859      0.000         0.127     0.190\n",
      "yearday_202     0.1455      0.016      9.000      0.000         0.114     0.177\n",
      "yearday_203     0.1299      0.016      8.015      0.000         0.098     0.162\n",
      "yearday_204     0.1292      0.016      7.887      0.000         0.097     0.161\n",
      "yearday_205     0.1180      0.016      7.224      0.000         0.086     0.150\n",
      "yearday_206     0.1263      0.016      7.788      0.000         0.095     0.158\n",
      "yearday_207     0.1370      0.016      8.450      0.000         0.105     0.169\n",
      "yearday_208     0.1275      0.016      7.848      0.000         0.096     0.159\n",
      "yearday_209     0.1230      0.016      7.524      0.000         0.091     0.155\n",
      "yearday_210     0.1187      0.016      7.283      0.000         0.087     0.151\n",
      "yearday_211     0.1432      0.016      8.859      0.000         0.112     0.175\n",
      "yearday_212     0.0748      0.017      4.502      0.000         0.042     0.107\n",
      "yearday_213     0.2727      0.015     18.069      0.000         0.243     0.302\n",
      "yearday_214     0.1324      0.016      8.082      0.000         0.100     0.164\n",
      "yearday_215     0.0904      0.017      5.450      0.000         0.058     0.123\n",
      "yearday_216     0.0764      0.017      4.548      0.000         0.043     0.109\n",
      "yearday_217     0.0979      0.017      5.926      0.000         0.065     0.130\n",
      "yearday_218     0.1436      0.016      8.883      0.000         0.112     0.175\n",
      "yearday_219     0.0812      0.017      4.908      0.000         0.049     0.114\n",
      "yearday_220     0.0973      0.016      5.930      0.000         0.065     0.129\n",
      "yearday_221     0.1099      0.016      6.693      0.000         0.078     0.142\n",
      "yearday_222     0.1239      0.016      7.599      0.000         0.092     0.156\n",
      "yearday_223     0.0882      0.017      5.285      0.000         0.055     0.121\n",
      "yearday_224     0.1121      0.016      6.850      0.000         0.080     0.144\n",
      "yearday_225     0.1506      0.016      9.311      0.000         0.119     0.182\n",
      "yearday_226     0.1362      0.016      8.431      0.000         0.105     0.168\n",
      "yearday_227     0.1554      0.016      9.722      0.000         0.124     0.187\n",
      "yearday_228     0.1296      0.016      7.960      0.000         0.098     0.161\n",
      "yearday_229     0.1132      0.016      6.907      0.000         0.081     0.145\n",
      "yearday_230     0.0968      0.017      5.816      0.000         0.064     0.129\n",
      "yearday_231     0.1142      0.016      6.975      0.000         0.082     0.146\n",
      "yearday_232     0.1627      0.016     10.158      0.000         0.131     0.194\n",
      "yearday_233     0.0882      0.017      5.332      0.000         0.056     0.121\n",
      "yearday_234     0.1006      0.017      6.063      0.000         0.068     0.133\n",
      "yearday_235     0.0779      0.017      4.647      0.000         0.045     0.111\n",
      "yearday_236     0.0996      0.016      6.044      0.000         0.067     0.132\n",
      "yearday_237     0.0994      0.017      5.997      0.000         0.067     0.132\n",
      "yearday_238     0.1165      0.016      7.126      0.000         0.084     0.148\n",
      "yearday_239     0.1001      0.017      6.036      0.000         0.068     0.133\n",
      "yearday_240     0.1135      0.016      6.955      0.000         0.081     0.145\n",
      "yearday_241     0.0536      0.017      3.186      0.001         0.021     0.087\n",
      "yearday_242     0.1276      0.016      7.832      0.000         0.096     0.159\n",
      "yearday_243     0.0820      0.017      4.922      0.000         0.049     0.115\n",
      "yearday_244     0.2157      0.016     13.785      0.000         0.185     0.246\n",
      "yearday_245     0.1176      0.016      7.197      0.000         0.086     0.150\n",
      "yearday_246     0.0254      0.017      1.482      0.138        -0.008     0.059\n",
      "yearday_247     0.0087      0.017      0.505      0.614        -0.025     0.042\n",
      "yearday_248     0.0586      0.017      3.487      0.000         0.026     0.092\n",
      "yearday_249     0.0676      0.017      4.029      0.000         0.035     0.100\n",
      "yearday_250     0.0268      0.017      1.570      0.116        -0.007     0.060\n",
      "yearday_251     0.0511      0.017      3.012      0.003         0.018     0.084\n",
      "yearday_252     0.0758      0.017      4.539      0.000         0.043     0.108\n",
      "yearday_253     0.0691      0.017      4.111      0.000         0.036     0.102\n",
      "yearday_254     0.0292      0.017      1.710      0.087        -0.004     0.063\n",
      "yearday_255     0.0551      0.017      3.285      0.001         0.022     0.088\n",
      "yearday_256     0.0384      0.017      2.253      0.024         0.005     0.072\n",
      "yearday_257     0.0729      0.017      4.330      0.000         0.040     0.106\n",
      "yearday_258     0.1329      0.016      8.106      0.000         0.101     0.165\n",
      "yearday_259     0.0843      0.017      5.066      0.000         0.052     0.117\n",
      "yearday_260     0.0739      0.017      4.408      0.000         0.041     0.107\n",
      "yearday_261     0.0617      0.017      3.654      0.000         0.029     0.095\n",
      "yearday_262     0.0703      0.017      4.204      0.000         0.038     0.103\n",
      "yearday_263     0.1165      0.016      7.090      0.000         0.084     0.149\n",
      "yearday_264     0.0888      0.017      5.355      0.000         0.056     0.121\n",
      "yearday_265     0.0625      0.017      3.693      0.000         0.029     0.096\n",
      "yearday_266     0.0813      0.017      4.879      0.000         0.049     0.114\n",
      "yearday_267     0.0396      0.017      2.323      0.020         0.006     0.073\n",
      "yearday_268     0.0804      0.017      4.830      0.000         0.048     0.113\n",
      "yearday_269     0.0555      0.017      3.286      0.001         0.022     0.089\n",
      "yearday_270     0.0756      0.017      4.499      0.000         0.043     0.109\n",
      "yearday_271     0.0593      0.017      3.507      0.000         0.026     0.092\n",
      "yearday_272     0.0601      0.017      3.542      0.000         0.027     0.093\n",
      "yearday_273     0.0450      0.017      2.646      0.008         0.012     0.078\n",
      "yearday_274     0.2697      0.015     17.657      0.000         0.240     0.300\n",
      "yearday_275     0.0991      0.017      5.973      0.000         0.067     0.132\n",
      "yearday_276     0.0129      0.017      0.748      0.454        -0.021     0.047\n",
      "yearday_277     0.0402      0.017      2.342      0.019         0.007     0.074\n",
      "yearday_278     0.0210      0.017      1.216      0.224        -0.013     0.055\n",
      "yearday_279     0.0550      0.017      3.226      0.001         0.022     0.088\n",
      "yearday_280     0.0211      0.017      1.226      0.220        -0.013     0.055\n",
      "yearday_281     0.0622      0.017      3.679      0.000         0.029     0.095\n",
      "yearday_282     0.0461      0.017      2.714      0.007         0.013     0.079\n",
      "yearday_283     0.0338      0.017      1.977      0.048         0.000     0.067\n",
      "yearday_284     0.0496      0.017      2.907      0.004         0.016     0.083\n",
      "yearday_285     0.0647      0.017      3.819      0.000         0.031     0.098\n",
      "yearday_286     0.0318      0.017      1.827      0.068        -0.002     0.066\n",
      "yearday_287     0.0394      0.017      2.292      0.022         0.006     0.073\n",
      "yearday_288     0.1303      0.016      7.910      0.000         0.098     0.163\n",
      "yearday_289     0.0782      0.017      4.626      0.000         0.045     0.111\n",
      "yearday_290     0.0854      0.017      5.088      0.000         0.053     0.118\n",
      "yearday_291     0.0664      0.017      3.901      0.000         0.033     0.100\n",
      "yearday_292     0.1045      0.017      6.248      0.000         0.072     0.137\n",
      "yearday_293     0.0608      0.017      3.561      0.000         0.027     0.094\n",
      "yearday_294     0.0869      0.017      5.176      0.000         0.054     0.120\n",
      "yearday_295     0.0736      0.017      4.324      0.000         0.040     0.107\n",
      "yearday_296     0.0617      0.017      3.615      0.000         0.028     0.095\n",
      "yearday_297     0.0697      0.017      4.116      0.000         0.037     0.103\n",
      "yearday_298     0.1062      0.017      6.350      0.000         0.073     0.139\n",
      "yearday_299     0.0922      0.017      5.469      0.000         0.059     0.125\n",
      "yearday_300     0.0516      0.017      2.983      0.003         0.018     0.086\n",
      "yearday_301     0.0790      0.017      4.655      0.000         0.046     0.112\n",
      "yearday_302     0.1010      0.017      5.987      0.000         0.068     0.134\n",
      "yearday_303     0.0743      0.017      4.400      0.000         0.041     0.107\n",
      "yearday_304     0.0714      0.017      4.200      0.000         0.038     0.105\n",
      "yearday_305     0.2267      0.016     14.324      0.000         0.196     0.258\n",
      "yearday_306     0.0236      0.017      1.352      0.176        -0.011     0.058\n",
      "yearday_307     0.0033      0.018      0.184      0.854        -0.031     0.038\n",
      "yearday_308    -0.0380      0.018     -2.124      0.034        -0.073    -0.003\n",
      "yearday_309     0.0227      0.018      1.299      0.194        -0.012     0.057\n",
      "yearday_310     0.0363      0.017      2.100      0.036         0.002     0.070\n",
      "yearday_311 -8.764e-07      0.018  -4.98e-05      1.000        -0.034     0.034\n",
      "yearday_312     0.0196      0.018      1.117      0.264        -0.015     0.054\n",
      "yearday_313     0.0230      0.017      1.319      0.187        -0.011     0.057\n",
      "yearday_314     0.0386      0.017      2.215      0.027         0.004     0.073\n",
      "yearday_315     0.0320      0.017      1.840      0.066        -0.002     0.066\n",
      "yearday_316     0.0464      0.017      2.677      0.007         0.012     0.080\n",
      "yearday_317     0.0479      0.017      2.771      0.006         0.014     0.082\n",
      "yearday_318     0.0193      0.018      1.101      0.271        -0.015     0.054\n",
      "yearday_319     0.0739      0.017      4.310      0.000         0.040     0.108\n",
      "yearday_320     0.0510      0.017      2.931      0.003         0.017     0.085\n",
      "yearday_321    -0.0084      0.018     -0.465      0.642        -0.044     0.027\n",
      "yearday_322     0.0115      0.018      0.650      0.515        -0.023     0.046\n",
      "yearday_323    -0.0154      0.018     -0.859      0.390        -0.051     0.020\n",
      "yearday_324     0.0146      0.018      0.828      0.408        -0.020     0.049\n",
      "yearday_325     0.0555      0.017      3.207      0.001         0.022     0.089\n",
      "yearday_326    -0.0122      0.018     -0.674      0.500        -0.048     0.023\n",
      "yearday_327    -0.0530      0.018     -2.883      0.004        -0.089    -0.017\n",
      "yearday_328    -0.0361      0.018     -1.966      0.049        -0.072    -0.000\n",
      "yearday_329    -0.0239      0.018     -1.310      0.190        -0.060     0.012\n",
      "yearday_330    -0.0554      0.019     -2.993      0.003        -0.092    -0.019\n",
      "yearday_331    -0.0288      0.018     -1.584      0.113        -0.064     0.007\n",
      "yearday_332    -0.0746      0.019     -4.022      0.000        -0.111    -0.038\n",
      "yearday_333    -0.0123      0.018     -0.681      0.496        -0.048     0.023\n",
      "yearday_334    -0.0086      0.018     -0.480      0.631        -0.044     0.027\n",
      "yearday_335     0.1383      0.017      8.137      0.000         0.105     0.172\n",
      "yearday_336     0.0261      0.018      1.465      0.143        -0.009     0.061\n",
      "yearday_337    -0.0333      0.018     -1.806      0.071        -0.069     0.003\n",
      "yearday_338    -0.0499      0.018     -2.714      0.007        -0.086    -0.014\n",
      "yearday_339    -0.0209      0.018     -1.150      0.250        -0.057     0.015\n",
      "yearday_340    -0.0091      0.018     -0.495      0.621        -0.045     0.027\n",
      "yearday_341    -0.0341      0.019     -1.840      0.066        -0.070     0.002\n",
      "yearday_342    -0.0094      0.018     -0.509      0.611        -0.045     0.027\n",
      "yearday_343    -0.0328      0.018     -1.779      0.075        -0.069     0.003\n",
      "yearday_344     0.0303      0.018      1.697      0.090        -0.005     0.065\n",
      "yearday_345    -0.0093      0.018     -0.515      0.607        -0.045     0.026\n",
      "yearday_346     0.0128      0.018      0.716      0.474        -0.022     0.048\n",
      "yearday_347     0.0391      0.018      2.197      0.028         0.004     0.074\n",
      "yearday_348    -0.0056      0.018     -0.308      0.758        -0.041     0.030\n",
      "yearday_349     0.0469      0.018      2.641      0.008         0.012     0.082\n",
      "yearday_350    -0.0067      0.018     -0.368      0.713        -0.042     0.029\n",
      "yearday_351    -0.0081      0.018     -0.444      0.657        -0.044     0.028\n",
      "yearday_352     0.0087      0.018      0.482      0.630        -0.027     0.044\n",
      "yearday_353     0.0065      0.018      0.358      0.721        -0.029     0.042\n",
      "yearday_354     0.0404      0.018      2.255      0.024         0.005     0.076\n",
      "yearday_355     0.0084      0.018      0.464      0.642        -0.027     0.044\n",
      "yearday_356    -0.0360      0.019     -1.941      0.052        -0.072     0.000\n",
      "yearday_357     0.0067      0.018      0.368      0.713        -0.029     0.042\n",
      "yearday_358    -0.1694      0.020     -8.501      0.000        -0.209    -0.130\n",
      "yearday_359    -0.6681      0.025    -26.542      0.000        -0.717    -0.619\n",
      "yearday_360    -0.3655      0.022    -16.846      0.000        -0.408    -0.323\n",
      "yearday_361    -0.1483      0.020     -7.589      0.000        -0.187    -0.110\n",
      "yearday_362    -0.1113      0.019     -5.783      0.000        -0.149    -0.074\n",
      "yearday_363    -0.0996      0.020     -5.032      0.000        -0.138    -0.061\n",
      "yearday_364    -0.0705      0.019     -3.637      0.000        -0.108    -0.033\n",
      "yearday_365    -0.0588      0.019     -3.032      0.002        -0.097    -0.021\n",
      "yearday_366    -0.1268      0.042     -3.030      0.002        -0.209    -0.045\n",
      "===============================================================================\n"
     ]
    },
    {
     "data": {
      "text/plain": [
       "array([ 188.41073434,  183.7563084 ,  192.44267311, ...,  201.4792193 ,\n",
       "        174.43573987,  203.13705179])"
      ]
     },
     "execution_count": 107,
     "metadata": {},
     "output_type": "execute_result"
    },
    {
     "data": {
      "image/png": "[encoded data removed]",
      "text/plain": [
       "<matplotlib.figure.Figure at 0x10cfd47d0>"
      ]
     },
     "metadata": {},
     "output_type": "display_data"
    }
   ],
   "source": [
    "fit_summary_plot_sm(endog, add_constant(exog, prepend=True))"
   ]
  },
  {
   "cell_type": "code",
   "execution_count": 52,
   "metadata": {
    "collapsed": true
   },
   "outputs": [],
   "source": [
    "from statsmodels.graphics.api import abline_plot\n",
    "def fit_summary_plot(formula_temp, dta):\n",
    "    print(formula_temp)\n",
    "    res_temp = smf.glm(formula_temp, data=dta, family=sm.families.Poisson(link=sm.families.links.log)).fit()\n",
    "    print(res_temp.summary())\n",
    "    nobs = res.nobs\n",
    "    yhat = res.mu\n",
    "    y = crime_chicago_count_weather_weekdays.loc[:,'count']\n",
    "\n",
    "    fig, ax = plt.subplots()\n",
    "    ax.scatter(yhat, y)\n",
    "    line_fit = sm.OLS(y, sm.add_constant(yhat, prepend=True)).fit()\n",
    "    abline_plot(model_results=line_fit, ax=ax)\n",
    "\n",
    "    plt.axis([0, 500, 0, 500])\n",
    "\n",
    "    ax.set_title('Model Fit Plot')\n",
    "    ax.set_ylabel('Observed values')\n",
    "    ax.set_xlabel('Fitted values')\n",
    "    \n",
    "    return yhat"
   ]
  },
  {
   "cell_type": "code",
   "execution_count": 55,
   "metadata": {
    "collapsed": false,
    "scrolled": false
   },
   "outputs": [
    {
     "name": "stdout",
     "output_type": "stream",
     "text": [
      "count ~ TMAX + weekday_0 + weekday_1 + weekday_2 + weekday_3 + weekday_4 + weekday_5 + weekday_6\n",
      "                 Generalized Linear Model Regression Results                  \n",
      "==============================================================================\n",
      "Dep. Variable:                  count   No. Observations:                 5470\n",
      "Model:                            GLM   Df Residuals:                     5462\n",
      "Model Family:                 Poisson   Df Model:                            7\n",
      "Link Function:                    log   Scale:                             1.0\n",
      "Method:                          IRLS   Log-Likelihood:                -43135.\n",
      "Date:                Thu, 18 Feb 2016   Deviance:                       46868.\n",
      "Time:                        22:16:30   Pearson chi2:                 4.64e+04\n",
      "No. Iterations:                     8                                         \n",
      "==============================================================================\n",
      "                 coef    std err          z      P>|z|      [95.0% Conf. Int.]\n",
      "------------------------------------------------------------------------------\n",
      "Intercept      4.5965      0.001   3260.339      0.000         4.594     4.599\n",
      "TMAX           0.0008   7.92e-06    106.741      0.000         0.001     0.001\n",
      "weekday_0      0.6701      0.002    300.163      0.000         0.666     0.674\n",
      "weekday_1      0.6738      0.002    302.158      0.000         0.669     0.678\n",
      "weekday_2      0.6819      0.002    307.027      0.000         0.678     0.686\n",
      "weekday_3      0.6642      0.002    296.640      0.000         0.660     0.669\n",
      "weekday_4      0.7447      0.002    344.089      0.000         0.740     0.749\n",
      "weekday_5      0.6483      0.002    287.444      0.000         0.644     0.653\n",
      "weekday_6      0.5135      0.002    214.752      0.000         0.509     0.518\n",
      "==============================================================================\n"
     ]
    },
    {
     "data": {
      "image/png": "[encoded data removed]",
      "text/plain": [
       "<matplotlib.figure.Figure at 0x113b42f90>"
      ]
     },
     "metadata": {},
     "output_type": "display_data"
    }
   ],
   "source": [
    "formula = 'count ~ TMAX + weekday_0 + weekday_1 + weekday_2 + weekday_3 + weekday_4 + weekday_5 + weekday_6'\n",
    "fitted = fit_summary_plot(formula, crime_chicago_count_weather_weekdays)"
   ]
  },
  {
   "cell_type": "code",
   "execution_count": 51,
   "metadata": {
    "collapsed": false,
    "scrolled": false
   },
   "outputs": [
    {
     "name": "stdout",
     "output_type": "stream",
     "text": [
      "count ~ weekday_0 + weekday_1 + weekday_2 + weekday_3 + weekday_4 + weekday_5 + weekday_6\n",
      "                 Generalized Linear Model Regression Results                  \n",
      "==============================================================================\n",
      "Dep. Variable:                  count   No. Observations:                 5470\n",
      "Model:                            GLM   Df Residuals:                     5463\n",
      "Model Family:                 Poisson   Df Model:                            6\n",
      "Link Function:                    log   Scale:                             1.0\n",
      "Method:                          IRLS   Log-Likelihood:                -49218.\n",
      "Date:                Thu, 18 Feb 2016   Deviance:                       69907.\n",
      "Time:                        22:15:00   Pearson chi2:                 5.85e+04\n",
      "No. Iterations:                   100                                         \n",
      "==============================================================================\n",
      "                 coef    std err          z      P>|z|      [95.0% Conf. Int.]\n",
      "------------------------------------------------------------------------------\n",
      "Intercept  -5.179e+11   1.18e+11     -4.373      0.000      -7.5e+11 -2.86e+11\n",
      "weekday_0   5.179e+11   1.18e+11      4.373      0.000      2.86e+11   7.5e+11\n",
      "weekday_1   5.179e+11   1.18e+11      4.373      0.000      2.86e+11   7.5e+11\n",
      "weekday_2   5.179e+11   1.18e+11      4.373      0.000      2.86e+11   7.5e+11\n",
      "weekday_3   5.179e+11   1.18e+11      4.373      0.000      2.86e+11   7.5e+11\n",
      "weekday_4   5.179e+11   1.18e+11      4.373      0.000      2.86e+11   7.5e+11\n",
      "weekday_5   5.179e+11   1.18e+11      4.373      0.000      2.86e+11   7.5e+11\n",
      "weekday_6   5.179e+11   1.18e+11      4.373      0.000      2.86e+11   7.5e+11\n",
      "==============================================================================\n"
     ]
    },
    {
     "data": {
      "image/png": "[encoded data removed]",
      "text/plain": [
       "<matplotlib.figure.Figure at 0x115207490>"
      ]
     },
     "metadata": {},
     "output_type": "display_data"
    }
   ],
   "source": [
    "formula = 'count ~ weekday_0 + weekday_1 + weekday_2 + weekday_3 + weekday_4 + weekday_5 + weekday_6'\n",
    "fit_summary_plot(formula, crime_chicago_count_weather_weekdays)"
   ]
  },
  {
   "cell_type": "code",
   "execution_count": 54,
   "metadata": {
    "collapsed": false,
    "scrolled": false
   },
   "outputs": [
    {
     "name": "stdout",
     "output_type": "stream",
     "text": [
      "count ~ TMAX\n",
      "                 Generalized Linear Model Regression Results                  \n",
      "==============================================================================\n",
      "Dep. Variable:                  count   No. Observations:                 5470\n",
      "Model:                            GLM   Df Residuals:                     5468\n",
      "Model Family:                 Poisson   Df Model:                            1\n",
      "Link Function:                    log   Scale:                             1.0\n",
      "Method:                          IRLS   Log-Likelihood:                -45540.\n",
      "Date:                Thu, 18 Feb 2016   Deviance:                       51678.\n",
      "Time:                        22:16:24   Pearson chi2:                 5.13e+04\n",
      "No. Iterations:                     9                                         \n",
      "==============================================================================\n",
      "                 coef    std err          z      P>|z|      [95.0% Conf. Int.]\n",
      "------------------------------------------------------------------------------\n",
      "Intercept      5.2565      0.002   3267.037      0.000         5.253     5.260\n",
      "TMAX           0.0008   7.92e-06    105.728      0.000         0.001     0.001\n",
      "==============================================================================\n"
     ]
    },
    {
     "data": {
      "text/plain": [
       "array([ 188.41073434,  183.7563084 ,  192.44267311, ...,  201.4792193 ,\n",
       "        174.43573987,  203.13705179])"
      ]
     },
     "execution_count": 54,
     "metadata": {},
     "output_type": "execute_result"
    },
    {
     "data": {
      "image/png": "[encoded data removed]",
      "text/plain": [
       "<matplotlib.figure.Figure at 0x114180050>"
      ]
     },
     "metadata": {},
     "output_type": "display_data"
    }
   ],
   "source": [
    "formula = 'count ~ TMAX'\n",
    "fit_summary_plot(formula, crime_chicago_count_weather_weekdays)"
   ]
  },
  {
   "cell_type": "markdown",
   "metadata": {},
   "source": [
    "- discuss dependence of crime on temperature"
   ]
  }
 ],
 "metadata": {
  "kernelspec": {
   "display_name": "Python 2",
   "language": "python",
   "name": "python2"
  },
  "language_info": {
   "codemirror_mode": {
    "name": "ipython",
    "version": 2
   },
   "file_extension": ".py",
   "mimetype": "text/x-python",
   "name": "python",
   "nbconvert_exporter": "python",
   "pygments_lexer": "ipython2",
   "version": "2.7.11"
  }
 },
 "nbformat": 4,
 "nbformat_minor": 0
}
