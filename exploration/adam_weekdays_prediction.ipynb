{
 "cells": [
  {
   "cell_type": "code",
   "execution_count": 1,
   "metadata": {
    "collapsed": false
   },
   "outputs": [],
   "source": [
    "%matplotlib inline\n",
    "import pandas as pd\n",
    "import numpy as np\n",
    "import matplotlib.pyplot as plt"
   ]
  },
  {
   "cell_type": "markdown",
   "metadata": {},
   "source": [
    "#### Everything from adam_simple_prediction "
   ]
  },
  {
   "cell_type": "code",
   "execution_count": 2,
   "metadata": {
    "collapsed": false
   },
   "outputs": [],
   "source": [
    "crime_chicago = pd.read_pickle('crime_chicago_with_timestamp.pkl')"
   ]
  },
  {
   "cell_type": "code",
   "execution_count": 3,
   "metadata": {
    "collapsed": true
   },
   "outputs": [],
   "source": [
    "number_of_bins = 70\n",
    "no = number_of_bins\n",
    "\n",
    "lat_min = crime_chicago['Latitude'].min()\n",
    "lon_min = crime_chicago['Longitude'].min()\n",
    "\n",
    "lat_span = crime_chicago['Latitude'].max() - crime_chicago['Latitude'].min()\n",
    "lon_span = crime_chicago['Longitude'].max() - crime_chicago['Longitude'].min()\n",
    "\n",
    "lat_step = lat_span / no\n",
    "lon_step = lon_span / no\n",
    "\n",
    "crime_chicago['bin'] = \\\n",
    "    no*np.floor((crime_chicago['Longitude']-lon_min)/lon_step) + \\\n",
    "       np.floor((crime_chicago['Latitude'] -lat_min)/lat_step)"
   ]
  },
  {
   "cell_type": "code",
   "execution_count": 4,
   "metadata": {
    "collapsed": true
   },
   "outputs": [],
   "source": [
    "def getPolygonForBin(bin_no):\n",
    "    lat, lon = getCornerLatLonForBin(bin_no)\n",
    "    return Polygon([\n",
    "            (lat,            lon),\n",
    "            (lat,            lon + lon_step),\n",
    "            (lat + lat_step, lon + lon_step),\n",
    "            (lat + lat_step, lon),\n",
    "        ])\n",
    "def getPolygonForBinReverse(bin_no):\n",
    "    lat, lon = getCornerLatLonForBin(bin_no)\n",
    "    return Polygon([\n",
    "            (lon,            lat),\n",
    "            (lon + lon_step, lat),\n",
    "            (lon + lon_step, lat + lat_step),\n",
    "            (lon,            lat + lat_step),\n",
    "        ])"
   ]
  },
  {
   "cell_type": "markdown",
   "metadata": {},
   "source": [
    "# THEFTS ONLY"
   ]
  },
  {
   "cell_type": "code",
   "execution_count": 24,
   "metadata": {
    "collapsed": true
   },
   "outputs": [],
   "source": [
    "crime_chicago_copy = crime_chicago.copy()"
   ]
  },
  {
   "cell_type": "code",
   "execution_count": 22,
   "metadata": {
    "collapsed": false,
    "scrolled": true
   },
   "outputs": [
    {
     "data": {
      "text/plain": [
       "array(['NARCOTICS', 'ASSAULT', 'WEAPONS VIOLATION', 'OTHER OFFENSE',\n",
       "       'BURGLARY', 'THEFT', 'ROBBERY', 'BATTERY', 'MOTOR VEHICLE THEFT',\n",
       "       'CRIMINAL DAMAGE', 'PUBLIC PEACE VIOLATION', 'CRIMINAL TRESPASS',\n",
       "       'INTERFERENCE WITH PUBLIC OFFICER', 'DECEPTIVE PRACTICE',\n",
       "       'OFFENSE INVOLVING CHILDREN', 'CRIM SEXUAL ASSAULT', 'SEX OFFENSE',\n",
       "       'KIDNAPPING', 'HOMICIDE', 'OBSCENITY', 'LIQUOR LAW VIOLATION',\n",
       "       'ARSON', 'PROSTITUTION', 'NON-CRIMINAL', 'INTIMIDATION', 'STALKING',\n",
       "       'NON - CRIMINAL', 'PUBLIC INDECENCY',\n",
       "       'CONCEALED CARRY LICENSE VIOLATION', 'GAMBLING',\n",
       "       'HUMAN TRAFFICKING', 'OTHER NARCOTIC VIOLATION',\n",
       "       'NON-CRIMINAL (SUBJECT SPECIFIED)', 'RITUALISM', 'DOMESTIC VIOLENCE'], dtype=object)"
      ]
     },
     "execution_count": 22,
     "metadata": {},
     "output_type": "execute_result"
    }
   ],
   "source": [
    "crime_chicago['Primary Type'].unique()"
   ]
  },
  {
   "cell_type": "code",
   "execution_count": 25,
   "metadata": {
    "collapsed": false,
    "scrolled": true
   },
   "outputs": [],
   "source": [
    "crime_chicago = crime_chicago[crime_chicago['Primary Type'] == 'THEFT']"
   ]
  },
  {
   "cell_type": "code",
   "execution_count": 26,
   "metadata": {
    "collapsed": true
   },
   "outputs": [],
   "source": [
    "crime_chicago.index = pd.DatetimeIndex(crime_chicago['datetime'])\n",
    "crime_chicago_count = crime_chicago[['bin', 'datetime']].groupby(['bin', 'datetime']).size().reset_index().rename(columns={0:'count'})\n",
    "crime_chicago_count.index = pd.DatetimeIndex(crime_chicago_count['datetime'])"
   ]
  },
  {
   "cell_type": "markdown",
   "metadata": {},
   "source": [
    "Importing weather data"
   ]
  },
  {
   "cell_type": "code",
   "execution_count": 27,
   "metadata": {
    "collapsed": true
   },
   "outputs": [],
   "source": [
    "weather_chicago = pd.read_csv('WeatherChicago20012016.csv')\n",
    "\n",
    "def weather_date_to_datetime(date):\n",
    "    return pd.datetime(int(date[0:4]), int(date[4:6]), int(date[6:]))\n",
    "\n",
    "weather_chicago['DATE'] = weather_chicago['DATE'].map(lambda x: weather_date_to_datetime(str(x)))\n",
    "weather_chicago.index = pd.DatetimeIndex(weather_chicago['DATE'])\n",
    "tmin_mean = weather_chicago['TMIN'].mean()\n",
    "tmax_mean = weather_chicago['TMAX'].mean()\n",
    "\n",
    "weather_chicago.loc[weather_chicago['TMIN'] == -9999, ['TMIN']] = tmin_mean\n",
    "weather_chicago.loc[weather_chicago['TMAX'] == -9999, ['TMAX']] = tmax_mean\n",
    "weather_chicago.loc[weather_chicago['PRCP'] == -9999, ['PRCP']] = 0\n",
    "weather_chicago.loc[weather_chicago['AWND'] == -9999, ['AWND']] = 0"
   ]
  },
  {
   "cell_type": "markdown",
   "metadata": {},
   "source": [
    "Concatenating crimes and weather  \n",
    "Finding empty records"
   ]
  },
  {
   "cell_type": "code",
   "execution_count": 28,
   "metadata": {
    "collapsed": false,
    "scrolled": false
   },
   "outputs": [],
   "source": [
    "crime_chicago_count_ref = crime_chicago[['datetime']].groupby(['datetime']).size().reset_index().rename(columns={0:'count'})\n",
    "crime_chicago_count_ref.index = pd.DatetimeIndex(crime_chicago_count_ref['datetime'])\n",
    "crime_chicago_count_weather = crime_chicago_count_ref.join(weather_chicago[['PRCP', 'TMAX','AWND']])\n",
    "indeces = pd.isnull(crime_chicago_count_weather).any(1)\n",
    "crime_chicago_count_weather.drop(crime_chicago_count_weather.index[indeces], inplace=True)"
   ]
  },
  {
   "cell_type": "markdown",
   "metadata": {},
   "source": [
    "## Prediction"
   ]
  },
  {
   "cell_type": "code",
   "execution_count": 96,
   "metadata": {
    "collapsed": false
   },
   "outputs": [],
   "source": [
    "import statsmodels.formula.api as smf\n",
    "import statsmodels.api as sm\n",
    "from scipy.stats.stats import pearsonr"
   ]
  },
  {
   "cell_type": "code",
   "execution_count": 77,
   "metadata": {
    "collapsed": false
   },
   "outputs": [],
   "source": [
    "crime_chicago_count_weather['weekday'] = crime_chicago_count_weather.index.weekday\n",
    "crime_chicago_count_weather['yearday'] = crime_chicago_count_weather.index.dayofyear\n",
    "\n",
    "weekday_dummies = pd.get_dummies(crime_chicago_count_weather['weekday'], prefix='weekday')\n",
    "weekday_dummies.index = crime_chicago_count_weather.index\n",
    "\n",
    "yearday_dummies = pd.get_dummies(crime_chicago_count_weather['yearday'], prefix='yearday')\n",
    "yearday_dummies.index = crime_chicago_count_weather.index\n",
    "\n",
    "crime_chicago_count_weather_weekdays = crime_chicago_count_weather.join(weekday_dummies).join(yearday_dummies)"
   ]
  },
  {
   "cell_type": "code",
   "execution_count": 84,
   "metadata": {
    "collapsed": false,
    "scrolled": true
   },
   "outputs": [
    {
     "data": {
      "text/html": [
       "<div>\n",
       "<table border=\"1\" class=\"dataframe\">\n",
       "  <thead>\n",
       "    <tr style=\"text-align: right;\">\n",
       "      <th></th>\n",
       "      <th>datetime</th>\n",
       "      <th>count</th>\n",
       "      <th>PRCP</th>\n",
       "      <th>TMAX</th>\n",
       "      <th>AWND</th>\n",
       "      <th>weekday</th>\n",
       "      <th>yearday</th>\n",
       "      <th>weekday_0</th>\n",
       "      <th>weekday_1</th>\n",
       "      <th>weekday_2</th>\n",
       "      <th>...</th>\n",
       "      <th>yearday_357</th>\n",
       "      <th>yearday_358</th>\n",
       "      <th>yearday_359</th>\n",
       "      <th>yearday_360</th>\n",
       "      <th>yearday_361</th>\n",
       "      <th>yearday_362</th>\n",
       "      <th>yearday_363</th>\n",
       "      <th>yearday_364</th>\n",
       "      <th>yearday_365</th>\n",
       "      <th>yearday_366</th>\n",
       "    </tr>\n",
       "  </thead>\n",
       "  <tbody>\n",
       "    <tr>\n",
       "      <th>2001-01-01</th>\n",
       "      <td>2001-01-01</td>\n",
       "      <td>400</td>\n",
       "      <td>0</td>\n",
       "      <td>-33</td>\n",
       "      <td>33</td>\n",
       "      <td>0</td>\n",
       "      <td>1</td>\n",
       "      <td>1</td>\n",
       "      <td>0</td>\n",
       "      <td>0</td>\n",
       "      <td>...</td>\n",
       "      <td>0</td>\n",
       "      <td>0</td>\n",
       "      <td>0</td>\n",
       "      <td>0</td>\n",
       "      <td>0</td>\n",
       "      <td>0</td>\n",
       "      <td>0</td>\n",
       "      <td>0</td>\n",
       "      <td>0</td>\n",
       "      <td>0</td>\n",
       "    </tr>\n",
       "  </tbody>\n",
       "</table>\n",
       "<p>1 rows × 380 columns</p>\n",
       "</div>"
      ],
      "text/plain": [
       "             datetime  count  PRCP  TMAX  AWND  weekday  yearday  weekday_0  \\\n",
       "2001-01-01 2001-01-01    400     0   -33    33        0        1          1   \n",
       "\n",
       "            weekday_1  weekday_2     ...       yearday_357  yearday_358  \\\n",
       "2001-01-01          0          0     ...                 0            0   \n",
       "\n",
       "            yearday_359  yearday_360  yearday_361  yearday_362  yearday_363  \\\n",
       "2001-01-01            0            0            0            0            0   \n",
       "\n",
       "            yearday_364  yearday_365  yearday_366  \n",
       "2001-01-01            0            0            0  \n",
       "\n",
       "[1 rows x 380 columns]"
      ]
     },
     "execution_count": 84,
     "metadata": {},
     "output_type": "execute_result"
    }
   ],
   "source": [
    "crime_chicago_count_weather_weekdays.head(1)"
   ]
  },
  {
   "cell_type": "code",
   "execution_count": 110,
   "metadata": {
    "collapsed": true
   },
   "outputs": [],
   "source": [
    "endog = crime_chicago_count_weather_weekdays.loc[:, ['TMAX']] #.as_matrix()"
   ]
  },
  {
   "cell_type": "code",
   "execution_count": 112,
   "metadata": {
    "collapsed": false
   },
   "outputs": [],
   "source": [
    "exog = crime_chicago_count_weather_weekdays.loc[:, 'yearday_1':] #.as_matrix()\n",
    "# exog.drop(['weekday', 'yearday'], inplace=True, axis=1)"
   ]
  },
  {
   "cell_type": "code",
   "execution_count": 114,
   "metadata": {
    "collapsed": true
   },
   "outputs": [],
   "source": [
    "from statsmodels.graphics.api import abline_plot\n",
    "def fit_summary_plot_sm(endog, exog):\n",
    "    res_temp = sm.GLM(endog, exog, family=sm.families.Poisson(link=sm.families.links.log)).fit(maxiter=500)\n",
    "    print(res_temp.summary())\n",
    "    nobs = res.nobs\n",
    "    yhat = res.mu\n",
    "    y = crime_chicago_count_weather_weekdays.loc[:,'count']\n",
    "\n",
    "    fig, ax = plt.subplots()\n",
    "    ax.scatter(yhat, y)\n",
    "    line_fit = sm.OLS(y, sm.add_constant(yhat, prepend=True)).fit()\n",
    "    abline_plot(model_results=line_fit, ax=ax)\n",
    "\n",
    "    plt.axis([0, 500, 0, 500])\n",
    "\n",
    "    ax.set_title('Model Fit Plot')\n",
    "    ax.set_ylabel('Observed values')\n",
    "    ax.set_xlabel('Fitted values')\n",
    "    \n",
    "    return yhat"
   ]
  },
  {
   "cell_type": "code",
   "execution_count": 118,
   "metadata": {
    "collapsed": false
   },
   "outputs": [
    {
     "ename": "LinAlgError",
     "evalue": "SVD did not converge",
     "output_type": "error",
     "traceback": [
      "\u001b[0;31m---------------------------------------------------------------------------\u001b[0m",
      "\u001b[0;31mLinAlgError\u001b[0m                               Traceback (most recent call last)",
      "\u001b[0;32m<ipython-input-118-39303f799834>\u001b[0m in \u001b[0;36m<module>\u001b[0;34m()\u001b[0m\n\u001b[0;32m----> 1\u001b[0;31m \u001b[0mfit_summary_plot_sm\u001b[0m\u001b[0;34m(\u001b[0m\u001b[0mendog\u001b[0m\u001b[0;34m,\u001b[0m \u001b[0madd_constant\u001b[0m\u001b[0;34m(\u001b[0m\u001b[0mexog\u001b[0m\u001b[0;34m,\u001b[0m \u001b[0mprepend\u001b[0m\u001b[0;34m=\u001b[0m\u001b[0mTrue\u001b[0m\u001b[0;34m)\u001b[0m\u001b[0;34m)\u001b[0m\u001b[0;34m\u001b[0m\u001b[0m\n\u001b[0m",
      "\u001b[0;32m<ipython-input-114-e57320b6479b>\u001b[0m in \u001b[0;36mfit_summary_plot_sm\u001b[0;34m(endog, exog)\u001b[0m\n\u001b[1;32m      1\u001b[0m \u001b[0;32mfrom\u001b[0m \u001b[0mstatsmodels\u001b[0m\u001b[0;34m.\u001b[0m\u001b[0mgraphics\u001b[0m\u001b[0;34m.\u001b[0m\u001b[0mapi\u001b[0m \u001b[0;32mimport\u001b[0m \u001b[0mabline_plot\u001b[0m\u001b[0;34m\u001b[0m\u001b[0m\n\u001b[1;32m      2\u001b[0m \u001b[0;32mdef\u001b[0m \u001b[0mfit_summary_plot_sm\u001b[0m\u001b[0;34m(\u001b[0m\u001b[0mendog\u001b[0m\u001b[0;34m,\u001b[0m \u001b[0mexog\u001b[0m\u001b[0;34m)\u001b[0m\u001b[0;34m:\u001b[0m\u001b[0;34m\u001b[0m\u001b[0m\n\u001b[0;32m----> 3\u001b[0;31m     \u001b[0mres_temp\u001b[0m \u001b[0;34m=\u001b[0m \u001b[0msm\u001b[0m\u001b[0;34m.\u001b[0m\u001b[0mGLM\u001b[0m\u001b[0;34m(\u001b[0m\u001b[0mendog\u001b[0m\u001b[0;34m,\u001b[0m \u001b[0mexog\u001b[0m\u001b[0;34m,\u001b[0m \u001b[0mfamily\u001b[0m\u001b[0;34m=\u001b[0m\u001b[0msm\u001b[0m\u001b[0;34m.\u001b[0m\u001b[0mfamilies\u001b[0m\u001b[0;34m.\u001b[0m\u001b[0mPoisson\u001b[0m\u001b[0;34m(\u001b[0m\u001b[0mlink\u001b[0m\u001b[0;34m=\u001b[0m\u001b[0msm\u001b[0m\u001b[0;34m.\u001b[0m\u001b[0mfamilies\u001b[0m\u001b[0;34m.\u001b[0m\u001b[0mlinks\u001b[0m\u001b[0;34m.\u001b[0m\u001b[0mlog\u001b[0m\u001b[0;34m)\u001b[0m\u001b[0;34m)\u001b[0m\u001b[0;34m.\u001b[0m\u001b[0mfit\u001b[0m\u001b[0;34m(\u001b[0m\u001b[0mmaxiter\u001b[0m\u001b[0;34m=\u001b[0m\u001b[0;36m500\u001b[0m\u001b[0;34m)\u001b[0m\u001b[0;34m\u001b[0m\u001b[0m\n\u001b[0m\u001b[1;32m      4\u001b[0m     \u001b[0;32mprint\u001b[0m\u001b[0;34m(\u001b[0m\u001b[0mres_temp\u001b[0m\u001b[0;34m.\u001b[0m\u001b[0msummary\u001b[0m\u001b[0;34m(\u001b[0m\u001b[0;34m)\u001b[0m\u001b[0;34m)\u001b[0m\u001b[0;34m\u001b[0m\u001b[0m\n\u001b[1;32m      5\u001b[0m     \u001b[0mnobs\u001b[0m \u001b[0;34m=\u001b[0m \u001b[0mres\u001b[0m\u001b[0;34m.\u001b[0m\u001b[0mnobs\u001b[0m\u001b[0;34m\u001b[0m\u001b[0m\n",
      "\u001b[0;32m/usr/local/lib/python2.7/site-packages/statsmodels/genmod/generalized_linear_model.pyc\u001b[0m in \u001b[0;36mfit\u001b[0;34m(self, start_params, maxiter, method, tol, scale, cov_type, cov_kwds, use_t, **kwargs)\u001b[0m\n\u001b[1;32m    710\u001b[0m             wlsendog = (lin_pred + self.family.link.deriv(mu) * (self.endog-mu)\n\u001b[1;32m    711\u001b[0m                         - offset_exposure)\n\u001b[0;32m--> 712\u001b[0;31m             \u001b[0mwls_results\u001b[0m \u001b[0;34m=\u001b[0m \u001b[0mlm\u001b[0m\u001b[0;34m.\u001b[0m\u001b[0mWLS\u001b[0m\u001b[0;34m(\u001b[0m\u001b[0mwlsendog\u001b[0m\u001b[0;34m,\u001b[0m \u001b[0mwlsexog\u001b[0m\u001b[0;34m,\u001b[0m \u001b[0mself\u001b[0m\u001b[0;34m.\u001b[0m\u001b[0mweights\u001b[0m\u001b[0;34m)\u001b[0m\u001b[0;34m.\u001b[0m\u001b[0mfit\u001b[0m\u001b[0;34m(\u001b[0m\u001b[0;34m)\u001b[0m\u001b[0;34m\u001b[0m\u001b[0m\n\u001b[0m\u001b[1;32m    713\u001b[0m             \u001b[0mlin_pred\u001b[0m \u001b[0;34m=\u001b[0m \u001b[0mnp\u001b[0m\u001b[0;34m.\u001b[0m\u001b[0mdot\u001b[0m\u001b[0;34m(\u001b[0m\u001b[0mself\u001b[0m\u001b[0;34m.\u001b[0m\u001b[0mexog\u001b[0m\u001b[0;34m,\u001b[0m \u001b[0mwls_results\u001b[0m\u001b[0;34m.\u001b[0m\u001b[0mparams\u001b[0m\u001b[0;34m)\u001b[0m \u001b[0;34m+\u001b[0m \u001b[0moffset_exposure\u001b[0m\u001b[0;34m\u001b[0m\u001b[0m\n\u001b[1;32m    714\u001b[0m             \u001b[0mmu\u001b[0m \u001b[0;34m=\u001b[0m \u001b[0mself\u001b[0m\u001b[0;34m.\u001b[0m\u001b[0mfamily\u001b[0m\u001b[0;34m.\u001b[0m\u001b[0mfitted\u001b[0m\u001b[0;34m(\u001b[0m\u001b[0mlin_pred\u001b[0m\u001b[0;34m)\u001b[0m\u001b[0;34m\u001b[0m\u001b[0m\n",
      "\u001b[0;32m/usr/local/lib/python2.7/site-packages/statsmodels/regression/linear_model.pyc\u001b[0m in \u001b[0;36mfit\u001b[0;34m(self, method, cov_type, cov_kwds, use_t, **kwargs)\u001b[0m\n\u001b[1;32m    172\u001b[0m                 (not hasattr(self, 'rank'))):\n\u001b[1;32m    173\u001b[0m \u001b[0;34m\u001b[0m\u001b[0m\n\u001b[0;32m--> 174\u001b[0;31m                 \u001b[0mself\u001b[0m\u001b[0;34m.\u001b[0m\u001b[0mpinv_wexog\u001b[0m\u001b[0;34m,\u001b[0m \u001b[0msingular_values\u001b[0m \u001b[0;34m=\u001b[0m \u001b[0mpinv_extended\u001b[0m\u001b[0;34m(\u001b[0m\u001b[0mself\u001b[0m\u001b[0;34m.\u001b[0m\u001b[0mwexog\u001b[0m\u001b[0;34m)\u001b[0m\u001b[0;34m\u001b[0m\u001b[0m\n\u001b[0m\u001b[1;32m    175\u001b[0m                 self.normalized_cov_params = np.dot(self.pinv_wexog,\n\u001b[1;32m    176\u001b[0m                                         np.transpose(self.pinv_wexog))\n",
      "\u001b[0;32m/usr/local/lib/python2.7/site-packages/statsmodels/tools/tools.pyc\u001b[0m in \u001b[0;36mpinv_extended\u001b[0;34m(X, rcond)\u001b[0m\n\u001b[1;32m    390\u001b[0m     \u001b[0mX\u001b[0m \u001b[0;34m=\u001b[0m \u001b[0mnp\u001b[0m\u001b[0;34m.\u001b[0m\u001b[0masarray\u001b[0m\u001b[0;34m(\u001b[0m\u001b[0mX\u001b[0m\u001b[0;34m)\u001b[0m\u001b[0;34m\u001b[0m\u001b[0m\n\u001b[1;32m    391\u001b[0m     \u001b[0mX\u001b[0m \u001b[0;34m=\u001b[0m \u001b[0mX\u001b[0m\u001b[0;34m.\u001b[0m\u001b[0mconjugate\u001b[0m\u001b[0;34m(\u001b[0m\u001b[0;34m)\u001b[0m\u001b[0;34m\u001b[0m\u001b[0m\n\u001b[0;32m--> 392\u001b[0;31m     \u001b[0mu\u001b[0m\u001b[0;34m,\u001b[0m \u001b[0ms\u001b[0m\u001b[0;34m,\u001b[0m \u001b[0mvt\u001b[0m \u001b[0;34m=\u001b[0m \u001b[0mnp\u001b[0m\u001b[0;34m.\u001b[0m\u001b[0mlinalg\u001b[0m\u001b[0;34m.\u001b[0m\u001b[0msvd\u001b[0m\u001b[0;34m(\u001b[0m\u001b[0mX\u001b[0m\u001b[0;34m,\u001b[0m \u001b[0;36m0\u001b[0m\u001b[0;34m)\u001b[0m\u001b[0;34m\u001b[0m\u001b[0m\n\u001b[0m\u001b[1;32m    393\u001b[0m     \u001b[0ms_orig\u001b[0m \u001b[0;34m=\u001b[0m \u001b[0mnp\u001b[0m\u001b[0;34m.\u001b[0m\u001b[0mcopy\u001b[0m\u001b[0;34m(\u001b[0m\u001b[0ms\u001b[0m\u001b[0;34m)\u001b[0m\u001b[0;34m\u001b[0m\u001b[0m\n\u001b[1;32m    394\u001b[0m     \u001b[0mm\u001b[0m \u001b[0;34m=\u001b[0m \u001b[0mu\u001b[0m\u001b[0;34m.\u001b[0m\u001b[0mshape\u001b[0m\u001b[0;34m[\u001b[0m\u001b[0;36m0\u001b[0m\u001b[0;34m]\u001b[0m\u001b[0;34m\u001b[0m\u001b[0m\n",
      "\u001b[0;32m/usr/local/lib/python2.7/site-packages/numpy/linalg/linalg.pyc\u001b[0m in \u001b[0;36msvd\u001b[0;34m(a, full_matrices, compute_uv)\u001b[0m\n\u001b[1;32m   1357\u001b[0m \u001b[0;34m\u001b[0m\u001b[0m\n\u001b[1;32m   1358\u001b[0m         \u001b[0msignature\u001b[0m \u001b[0;34m=\u001b[0m \u001b[0;34m'D->DdD'\u001b[0m \u001b[0;32mif\u001b[0m \u001b[0misComplexType\u001b[0m\u001b[0;34m(\u001b[0m\u001b[0mt\u001b[0m\u001b[0;34m)\u001b[0m \u001b[0;32melse\u001b[0m \u001b[0;34m'd->ddd'\u001b[0m\u001b[0;34m\u001b[0m\u001b[0m\n\u001b[0;32m-> 1359\u001b[0;31m         \u001b[0mu\u001b[0m\u001b[0;34m,\u001b[0m \u001b[0ms\u001b[0m\u001b[0;34m,\u001b[0m \u001b[0mvt\u001b[0m \u001b[0;34m=\u001b[0m \u001b[0mgufunc\u001b[0m\u001b[0;34m(\u001b[0m\u001b[0ma\u001b[0m\u001b[0;34m,\u001b[0m \u001b[0msignature\u001b[0m\u001b[0;34m=\u001b[0m\u001b[0msignature\u001b[0m\u001b[0;34m,\u001b[0m \u001b[0mextobj\u001b[0m\u001b[0;34m=\u001b[0m\u001b[0mextobj\u001b[0m\u001b[0;34m)\u001b[0m\u001b[0;34m\u001b[0m\u001b[0m\n\u001b[0m\u001b[1;32m   1360\u001b[0m         \u001b[0mu\u001b[0m \u001b[0;34m=\u001b[0m \u001b[0mu\u001b[0m\u001b[0;34m.\u001b[0m\u001b[0mastype\u001b[0m\u001b[0;34m(\u001b[0m\u001b[0mresult_t\u001b[0m\u001b[0;34m,\u001b[0m \u001b[0mcopy\u001b[0m\u001b[0;34m=\u001b[0m\u001b[0mFalse\u001b[0m\u001b[0;34m)\u001b[0m\u001b[0;34m\u001b[0m\u001b[0m\n\u001b[1;32m   1361\u001b[0m         \u001b[0ms\u001b[0m \u001b[0;34m=\u001b[0m \u001b[0ms\u001b[0m\u001b[0;34m.\u001b[0m\u001b[0mastype\u001b[0m\u001b[0;34m(\u001b[0m\u001b[0m_realType\u001b[0m\u001b[0;34m(\u001b[0m\u001b[0mresult_t\u001b[0m\u001b[0;34m)\u001b[0m\u001b[0;34m,\u001b[0m \u001b[0mcopy\u001b[0m\u001b[0;34m=\u001b[0m\u001b[0mFalse\u001b[0m\u001b[0;34m)\u001b[0m\u001b[0;34m\u001b[0m\u001b[0m\n",
      "\u001b[0;32m/usr/local/lib/python2.7/site-packages/numpy/linalg/linalg.pyc\u001b[0m in \u001b[0;36m_raise_linalgerror_svd_nonconvergence\u001b[0;34m(err, flag)\u001b[0m\n\u001b[1;32m     97\u001b[0m \u001b[0;34m\u001b[0m\u001b[0m\n\u001b[1;32m     98\u001b[0m \u001b[0;32mdef\u001b[0m \u001b[0m_raise_linalgerror_svd_nonconvergence\u001b[0m\u001b[0;34m(\u001b[0m\u001b[0merr\u001b[0m\u001b[0;34m,\u001b[0m \u001b[0mflag\u001b[0m\u001b[0;34m)\u001b[0m\u001b[0;34m:\u001b[0m\u001b[0;34m\u001b[0m\u001b[0m\n\u001b[0;32m---> 99\u001b[0;31m     \u001b[0;32mraise\u001b[0m \u001b[0mLinAlgError\u001b[0m\u001b[0;34m(\u001b[0m\u001b[0;34m\"SVD did not converge\"\u001b[0m\u001b[0;34m)\u001b[0m\u001b[0;34m\u001b[0m\u001b[0m\n\u001b[0m\u001b[1;32m    100\u001b[0m \u001b[0;34m\u001b[0m\u001b[0m\n\u001b[1;32m    101\u001b[0m \u001b[0;32mdef\u001b[0m \u001b[0mget_linalg_error_extobj\u001b[0m\u001b[0;34m(\u001b[0m\u001b[0mcallback\u001b[0m\u001b[0;34m)\u001b[0m\u001b[0;34m:\u001b[0m\u001b[0;34m\u001b[0m\u001b[0m\n",
      "\u001b[0;31mLinAlgError\u001b[0m: SVD did not converge"
     ]
    }
   ],
   "source": [
    "fit_summary_plot_sm(endog, add_constant(exog, prepend=True))"
   ]
  },
  {
   "cell_type": "code",
   "execution_count": 109,
   "metadata": {
    "collapsed": false,
    "scrolled": false
   },
   "outputs": [
    {
     "name": "stdout",
     "output_type": "stream",
     "text": [
      "                 Generalized Linear Model Regression Results                  \n",
      "==============================================================================\n",
      "Dep. Variable:                      y   No. Observations:                 5470\n",
      "Model:                            GLM   Df Residuals:                     5098\n",
      "Model Family:                 Poisson   Df Model:                          371\n",
      "Link Function:                    log   Scale:                             1.0\n",
      "Method:                          IRLS   Log-Likelihood:                -39772.\n",
      "Date:                Thu, 18 Feb 2016   Deviance:                       40143.\n",
      "Time:                        23:55:03   Pearson chi2:                 3.91e+04\n",
      "No. Iterations:                     8                                         \n",
      "===============================================================================\n",
      "                  coef    std err          z      P>|z|      [95.0% Conf. Int.]\n",
      "-------------------------------------------------------------------------------\n",
      "const           4.6977      0.001   5808.474      0.000         4.696     4.699\n",
      "weekday_0       0.6876      0.002    306.791      0.000         0.683     0.692\n",
      "weekday_1       0.6895      0.002    307.854      0.000         0.685     0.694\n",
      "weekday_2       0.6973      0.002    312.488      0.000         0.693     0.702\n",
      "weekday_3       0.6764      0.002    300.465      0.000         0.672     0.681\n",
      "weekday_4       0.7564      0.002    347.278      0.000         0.752     0.761\n",
      "weekday_5       0.6606      0.002    291.354      0.000         0.656     0.665\n",
      "weekday_6       0.5299      0.002    220.852      0.000         0.525     0.535\n",
      "yearday_1       0.3957      0.014     27.343      0.000         0.367     0.424\n",
      "yearday_2      -0.1405      0.019     -7.479      0.000        -0.177    -0.104\n",
      "yearday_3      -0.1363      0.019     -7.271      0.000        -0.173    -0.100\n",
      "yearday_4      -0.1173      0.019     -6.277      0.000        -0.154    -0.081\n",
      "yearday_5      -0.1208      0.019     -6.462      0.000        -0.157    -0.084\n",
      "yearday_6      -0.1443      0.019     -7.598      0.000        -0.181    -0.107\n",
      "yearday_7      -0.1428      0.019     -7.572      0.000        -0.180    -0.106\n",
      "yearday_8      -0.1406      0.019     -7.438      0.000        -0.178    -0.104\n",
      "yearday_9      -0.0777      0.018     -4.270      0.000        -0.113    -0.042\n",
      "yearday_10     -0.0499      0.018     -2.780      0.005        -0.085    -0.015\n",
      "yearday_11     -0.0648      0.018     -3.559      0.000        -0.100    -0.029\n",
      "yearday_12     -0.0769      0.018     -4.207      0.000        -0.113    -0.041\n",
      "yearday_13     -0.0738      0.018     -4.024      0.000        -0.110    -0.038\n",
      "yearday_14     -0.1220      0.019     -6.535      0.000        -0.159    -0.085\n",
      "yearday_15     -0.0196      0.018     -1.099      0.272        -0.054     0.015\n",
      "yearday_16     -0.1040      0.018     -5.638      0.000        -0.140    -0.068\n",
      "yearday_17     -0.0811      0.018     -4.448      0.000        -0.117    -0.045\n",
      "yearday_18     -0.0989      0.019     -5.342      0.000        -0.135    -0.063\n",
      "yearday_19     -0.1131      0.019     -6.075      0.000        -0.150    -0.077\n",
      "yearday_20     -0.0935      0.019     -5.051      0.000        -0.130    -0.057\n",
      "yearday_21     -0.1896      0.019     -9.819      0.000        -0.227    -0.152\n",
      "yearday_22     -0.1594      0.019     -8.354      0.000        -0.197    -0.122\n",
      "yearday_23     -0.1619      0.019     -8.529      0.000        -0.199    -0.125\n",
      "yearday_24     -0.1300      0.019     -6.955      0.000        -0.167    -0.093\n",
      "yearday_25     -0.1096      0.019     -5.889      0.000        -0.146    -0.073\n",
      "yearday_26     -0.1463      0.019     -7.730      0.000        -0.183    -0.109\n",
      "yearday_27     -0.1732      0.019     -8.993      0.000        -0.211    -0.135\n",
      "yearday_28     -0.1168      0.019     -6.272      0.000        -0.153    -0.080\n",
      "yearday_29     -0.1176      0.019     -6.291      0.000        -0.154    -0.081\n",
      "yearday_30     -0.1824      0.019     -9.509      0.000        -0.220    -0.145\n",
      "yearday_31     -0.2052      0.019    -10.577      0.000        -0.243    -0.167\n",
      "yearday_32      0.0999      0.017      5.959      0.000         0.067     0.133\n",
      "yearday_33     -0.1975      0.019    -10.173      0.000        -0.236    -0.159\n",
      "yearday_34     -0.2438      0.020    -12.217      0.000        -0.283    -0.205\n",
      "yearday_35     -0.2386      0.020    -12.060      0.000        -0.277    -0.200\n",
      "yearday_36     -0.2208      0.020    -11.221      0.000        -0.259    -0.182\n",
      "yearday_37     -0.2563      0.020    -12.877      0.000        -0.295    -0.217\n",
      "yearday_38     -0.1776      0.019     -9.284      0.000        -0.215    -0.140\n",
      "yearday_39     -0.1730      0.019     -9.008      0.000        -0.211    -0.135\n",
      "yearday_40     -0.1608      0.019     -8.433      0.000        -0.198    -0.123\n",
      "yearday_41     -0.1992      0.020    -10.210      0.000        -0.237    -0.161\n",
      "yearday_42     -0.1847      0.019     -9.591      0.000        -0.222    -0.147\n",
      "yearday_43     -0.2317      0.020    -11.713      0.000        -0.271    -0.193\n",
      "yearday_44     -0.1909      0.019     -9.911      0.000        -0.229    -0.153\n",
      "yearday_45     -0.1776      0.019     -9.284      0.000        -0.215    -0.140\n",
      "yearday_46     -0.1435      0.019     -7.582      0.000        -0.181    -0.106\n",
      "yearday_47     -0.1560      0.019     -8.205      0.000        -0.193    -0.119\n",
      "yearday_48     -0.2004      0.020    -10.263      0.000        -0.239    -0.162\n",
      "yearday_49     -0.1725      0.019     -9.012      0.000        -0.210    -0.135\n",
      "yearday_50     -0.2069      0.020    -10.589      0.000        -0.245    -0.169\n",
      "yearday_51     -0.1408      0.019     -7.496      0.000        -0.178    -0.104\n",
      "yearday_52     -0.1602      0.019     -8.444      0.000        -0.197    -0.123\n",
      "yearday_53     -0.1959      0.019    -10.082      0.000        -0.234    -0.158\n",
      "yearday_54     -0.1413      0.019     -7.483      0.000        -0.178    -0.104\n",
      "yearday_55     -0.1792      0.019     -9.275      0.000        -0.217    -0.141\n",
      "yearday_56     -0.1529      0.019     -8.064      0.000        -0.190    -0.116\n",
      "yearday_57     -0.2061      0.020    -10.554      0.000        -0.244    -0.168\n",
      "yearday_58     -0.1601      0.019     -8.442      0.000        -0.197    -0.123\n",
      "yearday_59     -0.1315      0.019     -6.791      0.000        -0.169    -0.094\n",
      "yearday_60      0.0854      0.017      5.059      0.000         0.052     0.119\n",
      "yearday_61     -0.0749      0.018     -4.101      0.000        -0.111    -0.039\n",
      "yearday_62     -0.1574      0.019     -8.234      0.000        -0.195    -0.120\n",
      "yearday_63     -0.1903      0.019     -9.854      0.000        -0.228    -0.152\n",
      "yearday_64     -0.1682      0.019     -8.777      0.000        -0.206    -0.131\n",
      "yearday_65     -0.1717      0.019     -9.002      0.000        -0.209    -0.134\n",
      "yearday_66     -0.0922      0.018     -5.026      0.000        -0.128    -0.056\n",
      "yearday_67     -0.0819      0.018     -4.459      0.000        -0.118    -0.046\n",
      "yearday_68     -0.1391      0.019     -7.378      0.000        -0.176    -0.102\n",
      "yearday_69     -0.1004      0.019     -5.405      0.000        -0.137    -0.064\n",
      "yearday_70     -0.1030      0.018     -5.568      0.000        -0.139    -0.067\n",
      "yearday_71     -0.0761      0.018     -4.155      0.000        -0.112    -0.040\n",
      "yearday_72     -0.0915      0.018     -4.989      0.000        -0.127    -0.056\n",
      "yearday_73     -0.0600      0.018     -3.324      0.001        -0.095    -0.025\n",
      "yearday_74     -0.0238      0.018     -1.333      0.182        -0.059     0.011\n",
      "yearday_75     -0.0417      0.018     -2.320      0.020        -0.077    -0.006\n",
      "yearday_76     -0.0591      0.018     -3.245      0.001        -0.095    -0.023\n",
      "yearday_77     -0.0499      0.018     -2.770      0.006        -0.085    -0.015\n",
      "yearday_78     -0.0771      0.018     -4.208      0.000        -0.113    -0.041\n",
      "yearday_79     -0.0764      0.018     -4.200      0.000        -0.112    -0.041\n",
      "yearday_80     -0.1150      0.019     -6.201      0.000        -0.151    -0.079\n",
      "yearday_81     -0.0985      0.019     -5.324      0.000        -0.135    -0.062\n",
      "yearday_82     -0.0372      0.018     -2.073      0.038        -0.072    -0.002\n",
      "yearday_83     -0.0610      0.018     -3.351      0.001        -0.097    -0.025\n",
      "yearday_84     -0.0683      0.018     -3.756      0.000        -0.104    -0.033\n",
      "yearday_85     -0.0430      0.018     -2.389      0.017        -0.078    -0.008\n",
      "yearday_86     -0.0441      0.018     -2.462      0.014        -0.079    -0.009\n",
      "yearday_87     -0.0490      0.018     -2.728      0.006        -0.084    -0.014\n",
      "yearday_88     -0.0608      0.018     -3.347      0.001        -0.096    -0.025\n",
      "yearday_89     -0.0417      0.018     -2.320      0.020        -0.077    -0.006\n",
      "yearday_90     -0.0966      0.019     -5.210      0.000        -0.133    -0.060\n",
      "yearday_91      0.1599      0.016      9.859      0.000         0.128     0.192\n",
      "yearday_92      0.0006      0.018      0.032      0.975        -0.034     0.035\n",
      "yearday_93     -0.0668      0.018     -3.691      0.000        -0.102    -0.031\n",
      "yearday_94     -0.0260      0.018     -1.464      0.143        -0.061     0.009\n",
      "yearday_95     -0.0454      0.018     -2.517      0.012        -0.081    -0.010\n",
      "yearday_96     -0.0391      0.018     -2.179      0.029        -0.074    -0.004\n",
      "yearday_97     -0.0870      0.018     -4.715      0.000        -0.123    -0.051\n",
      "yearday_98     -0.0483      0.018     -2.682      0.007        -0.084    -0.013\n",
      "yearday_99     -0.0611      0.018     -3.361      0.001        -0.097    -0.025\n",
      "yearday_100     0.0082      0.017      0.470      0.638        -0.026     0.042\n",
      "yearday_101    -0.0692      0.018     -3.816      0.000        -0.105    -0.034\n",
      "yearday_102    -0.0691      0.018     -3.788      0.000        -0.105    -0.033\n",
      "yearday_103    -0.0699      0.018     -3.837      0.000        -0.106    -0.034\n",
      "yearday_104    -0.0491      0.018     -2.714      0.007        -0.085    -0.014\n",
      "yearday_105     0.0729      0.017      4.307      0.000         0.040     0.106\n",
      "yearday_106     0.0126      0.018      0.721      0.471        -0.022     0.047\n",
      "yearday_107    -0.0215      0.018     -1.216      0.224        -0.056     0.013\n",
      "yearday_108    -0.0260      0.018     -1.464      0.143        -0.061     0.009\n",
      "yearday_109    -0.0395      0.018     -2.199      0.028        -0.075    -0.004\n",
      "yearday_110     0.0225      0.017      1.295      0.195        -0.012     0.057\n",
      "yearday_111    -0.0139      0.018     -0.783      0.434        -0.049     0.021\n",
      "yearday_112    -0.0229      0.018     -1.291      0.197        -0.058     0.012\n",
      "yearday_113    -0.0145      0.018     -0.817      0.414        -0.049     0.020\n",
      "yearday_114    -0.0300      0.018     -1.690      0.091        -0.065     0.005\n",
      "yearday_115     0.0002      0.018      0.011      0.991        -0.034     0.035\n",
      "yearday_116    -0.0019      0.018     -0.105      0.916        -0.038     0.034\n",
      "yearday_117    -0.0308      0.018     -1.664      0.096        -0.067     0.005\n",
      "yearday_118    -0.0232      0.018     -1.257      0.209        -0.059     0.013\n",
      "yearday_119    -0.0185      0.018     -1.006      0.315        -0.054     0.018\n",
      "yearday_120    -0.0029      0.018     -0.163      0.871        -0.037     0.032\n",
      "yearday_121     0.1832      0.016     11.458      0.000         0.152     0.215\n",
      "yearday_122     0.0100      0.017      0.573      0.567        -0.024     0.044\n",
      "yearday_123    -0.0250      0.018     -1.404      0.160        -0.060     0.010\n",
      "yearday_124    -0.0221      0.018     -1.244      0.213        -0.057     0.013\n",
      "yearday_125     0.0422      0.017      2.440      0.015         0.008     0.076\n",
      "yearday_126    -0.0141      0.018     -0.798      0.425        -0.049     0.021\n",
      "yearday_127     0.0055      0.018      0.314      0.753        -0.029     0.040\n",
      "yearday_128    -0.0137      0.018     -0.777      0.437        -0.048     0.021\n",
      "yearday_129     0.0281      0.017      1.626      0.104        -0.006     0.062\n",
      "yearday_130     0.0290      0.017      1.670      0.095        -0.005     0.063\n",
      "yearday_131    -0.0105      0.018     -0.592      0.554        -0.045     0.024\n",
      "yearday_132     0.0012      0.018      0.067      0.947        -0.033     0.036\n",
      "yearday_133     0.0162      0.017      0.927      0.354        -0.018     0.050\n",
      "yearday_134     0.0065      0.018      0.367      0.713        -0.028     0.041\n",
      "yearday_135     0.0763      0.017      4.524      0.000         0.043     0.109\n",
      "yearday_136     0.0604      0.017      3.557      0.000         0.027     0.094\n",
      "yearday_137     0.0449      0.017      2.606      0.009         0.011     0.079\n",
      "yearday_138     0.0583      0.017      3.411      0.001         0.025     0.092\n",
      "yearday_139     0.0155      0.018      0.882      0.378        -0.019     0.050\n",
      "yearday_140     0.0366      0.017      2.125      0.034         0.003     0.070\n",
      "yearday_141     0.0636      0.017      3.723      0.000         0.030     0.097\n",
      "yearday_142     0.0379      0.017      2.208      0.027         0.004     0.072\n",
      "yearday_143     0.0541      0.017      3.171      0.002         0.021     0.087\n",
      "yearday_144     0.0582      0.017      3.400      0.001         0.025     0.092\n",
      "yearday_145     0.0161      0.017      0.925      0.355        -0.018     0.050\n",
      "yearday_146     0.0127      0.018      0.722      0.470        -0.022     0.047\n",
      "yearday_147    -0.0132      0.018     -0.745      0.456        -0.048     0.021\n",
      "yearday_148     0.0230      0.017      1.321      0.186        -0.011     0.057\n",
      "yearday_149     0.0128      0.017      0.733      0.463        -0.021     0.047\n",
      "yearday_150     0.0266      0.017      1.538      0.124        -0.007     0.060\n",
      "yearday_151    -0.0026      0.018     -0.150      0.881        -0.037     0.032\n",
      "yearday_152     0.2290      0.016     14.592      0.000         0.198     0.260\n",
      "yearday_153     0.1120      0.017      6.705      0.000         0.079     0.145\n",
      "yearday_154     0.0441      0.017      2.565      0.010         0.010     0.078\n",
      "yearday_155     0.0396      0.017      2.293      0.022         0.006     0.073\n",
      "yearday_156     0.0485      0.017      2.840      0.005         0.015     0.082\n",
      "yearday_157     0.0482      0.017      2.820      0.005         0.015     0.082\n",
      "yearday_158     0.0257      0.017      1.475      0.140        -0.008     0.060\n",
      "yearday_159     0.0340      0.017      1.965      0.049      9.34e-05     0.068\n",
      "yearday_160     0.0413      0.017      2.387      0.017         0.007     0.075\n",
      "yearday_161     0.0807      0.017      4.782      0.000         0.048     0.114\n",
      "yearday_162     0.0764      0.017      4.500      0.000         0.043     0.110\n",
      "yearday_163     0.0868      0.017      5.173      0.000         0.054     0.120\n",
      "yearday_164     0.0979      0.017      5.872      0.000         0.065     0.131\n",
      "yearday_165     0.1103      0.017      6.612      0.000         0.078     0.143\n",
      "yearday_166     0.1433      0.016      8.746      0.000         0.111     0.175\n",
      "yearday_167     0.1011      0.017      6.015      0.000         0.068     0.134\n",
      "yearday_168     0.0960      0.017      5.731      0.000         0.063     0.129\n",
      "yearday_169     0.0665      0.017      3.900      0.000         0.033     0.100\n",
      "yearday_170     0.0585      0.017      3.436      0.001         0.025     0.092\n",
      "yearday_171     0.1346      0.016      8.219      0.000         0.103     0.167\n",
      "yearday_172     0.0991      0.017      5.906      0.000         0.066     0.132\n",
      "yearday_173     0.0920      0.017      5.473      0.000         0.059     0.125\n",
      "yearday_174     0.0744      0.017      4.370      0.000         0.041     0.108\n",
      "yearday_175     0.0815      0.017      4.834      0.000         0.048     0.115\n",
      "yearday_176     0.0961      0.017      5.718      0.000         0.063     0.129\n",
      "yearday_177     0.1284      0.016      7.819      0.000         0.096     0.161\n",
      "yearday_178     0.0859      0.017      5.118      0.000         0.053     0.119\n",
      "yearday_179     0.1383      0.016      8.409      0.000         0.106     0.171\n",
      "yearday_180     0.0999      0.017      5.966      0.000         0.067     0.133\n",
      "yearday_181     0.1245      0.017      7.500      0.000         0.092     0.157\n",
      "yearday_182     0.2851      0.015     18.709      0.000         0.255     0.315\n",
      "yearday_183     0.1786      0.016     11.074      0.000         0.147     0.210\n",
      "yearday_184     0.1373      0.016      8.397      0.000         0.105     0.169\n",
      "yearday_185    -0.0285      0.018     -1.604      0.109        -0.063     0.006\n",
      "yearday_186     0.0413      0.017      2.394      0.017         0.007     0.075\n",
      "yearday_187     0.0982      0.017      5.860      0.000         0.065     0.131\n",
      "yearday_188     0.1496      0.016      9.125      0.000         0.118     0.182\n",
      "yearday_189     0.1190      0.017      7.190      0.000         0.087     0.151\n",
      "yearday_190     0.1678      0.016     10.353      0.000         0.136     0.200\n",
      "yearday_191     0.1839      0.016     11.511      0.000         0.153     0.215\n",
      "yearday_192     0.1249      0.016      7.589      0.000         0.093     0.157\n",
      "yearday_193     0.1716      0.016     10.610      0.000         0.140     0.203\n",
      "yearday_194     0.1826      0.016     11.365      0.000         0.151     0.214\n",
      "yearday_195     0.2108      0.016     13.252      0.000         0.180     0.242\n",
      "yearday_196     0.2573      0.015     16.651      0.000         0.227     0.288\n",
      "yearday_197     0.2487      0.016     15.974      0.000         0.218     0.279\n",
      "yearday_198     0.2241      0.016     14.304      0.000         0.193     0.255\n",
      "yearday_199     0.1739      0.016     10.827      0.000         0.142     0.205\n",
      "yearday_200     0.1582      0.016      9.713      0.000         0.126     0.190\n",
      "yearday_201     0.2091      0.016     13.190      0.000         0.178     0.240\n",
      "yearday_202     0.2060      0.016     12.917      0.000         0.175     0.237\n",
      "yearday_203     0.1887      0.016     11.806      0.000         0.157     0.220\n",
      "yearday_204     0.1697      0.016     10.476      0.000         0.138     0.201\n",
      "yearday_205     0.1620      0.016     10.025      0.000         0.130     0.194\n",
      "yearday_206     0.1752      0.016     10.914      0.000         0.144     0.207\n",
      "yearday_207     0.1878      0.016     11.701      0.000         0.156     0.219\n",
      "yearday_208     0.1818      0.016     11.312      0.000         0.150     0.213\n",
      "yearday_209     0.1768      0.016     10.925      0.000         0.145     0.208\n",
      "yearday_210     0.1730      0.016     10.736      0.000         0.141     0.205\n",
      "yearday_211     0.2010      0.016     12.604      0.000         0.170     0.232\n",
      "yearday_212     0.1355      0.016      8.274      0.000         0.103     0.168\n",
      "yearday_213     0.3342      0.015     22.540      0.000         0.305     0.363\n",
      "yearday_214     0.1805      0.016     11.208      0.000         0.149     0.212\n",
      "yearday_215     0.1446      0.016      8.834      0.000         0.113     0.177\n",
      "yearday_216     0.1245      0.017      7.500      0.000         0.092     0.157\n",
      "yearday_217     0.1448      0.016      8.859      0.000         0.113     0.177\n",
      "yearday_218     0.1946      0.016     12.164      0.000         0.163     0.226\n",
      "yearday_219     0.1355      0.016      8.274      0.000         0.103     0.168\n",
      "yearday_220     0.1527      0.016      9.410      0.000         0.121     0.185\n",
      "yearday_221     0.1637      0.016     10.082      0.000         0.132     0.196\n",
      "yearday_222     0.1740      0.016     10.785      0.000         0.142     0.206\n",
      "yearday_223     0.1301      0.017      7.854      0.000         0.098     0.163\n",
      "yearday_224     0.1573      0.016      9.684      0.000         0.125     0.189\n",
      "yearday_225     0.1892      0.016     11.795      0.000         0.158     0.221\n",
      "yearday_226     0.1786      0.016     11.144      0.000         0.147     0.210\n",
      "yearday_227     0.2034      0.016     12.853      0.000         0.172     0.234\n",
      "yearday_228     0.1792      0.016     11.120      0.000         0.148     0.211\n",
      "yearday_229     0.1601      0.016      9.854      0.000         0.128     0.192\n",
      "yearday_230     0.1385      0.016      8.401      0.000         0.106     0.171\n",
      "yearday_231     0.1573      0.016      9.684      0.000         0.125     0.189\n",
      "yearday_232     0.2101      0.016     13.236      0.000         0.179     0.241\n",
      "yearday_233     0.1346      0.016      8.222      0.000         0.103     0.167\n",
      "yearday_234     0.1298      0.016      7.904      0.000         0.098     0.162\n",
      "yearday_235     0.1158      0.017      6.964      0.000         0.083     0.148\n",
      "yearday_236     0.1521      0.016      9.327      0.000         0.120     0.184\n",
      "yearday_237     0.1475      0.016      8.984      0.000         0.115     0.180\n",
      "yearday_238     0.1631      0.016     10.070      0.000         0.131     0.195\n",
      "yearday_239     0.1387      0.016      8.433      0.000         0.106     0.171\n",
      "yearday_240     0.1617      0.016     10.007      0.000         0.130     0.193\n",
      "yearday_241     0.0979      0.017      5.872      0.000         0.065     0.131\n",
      "yearday_242     0.1740      0.016     10.768      0.000         0.142     0.206\n",
      "yearday_243     0.1273      0.017      7.709      0.000         0.095     0.160\n",
      "yearday_244     0.2648      0.015     17.102      0.000         0.234     0.295\n",
      "yearday_245     0.1649      0.016     10.193      0.000         0.133     0.197\n",
      "yearday_246     0.0787      0.017      4.641      0.000         0.045     0.112\n",
      "yearday_247     0.0541      0.017      3.173      0.002         0.021     0.088\n",
      "yearday_248     0.0977      0.017      5.854      0.000         0.065     0.130\n",
      "yearday_249     0.1164      0.017      7.000      0.000         0.084     0.149\n",
      "yearday_250     0.0786      0.017      4.645      0.000         0.045     0.112\n",
      "yearday_251     0.0945      0.017      5.608      0.000         0.061     0.128\n",
      "yearday_252     0.1135      0.017      6.839      0.000         0.081     0.146\n",
      "yearday_253     0.1068      0.017      6.388      0.000         0.074     0.140\n",
      "yearday_254     0.0648      0.017      3.822      0.000         0.032     0.098\n",
      "yearday_255     0.0971      0.017      5.819      0.000         0.064     0.130\n",
      "yearday_256     0.0762      0.017      4.495      0.000         0.043     0.109\n",
      "yearday_257     0.0976      0.017      5.825      0.000         0.065     0.130\n",
      "yearday_258     0.1566      0.016      9.584      0.000         0.125     0.189\n",
      "yearday_259     0.1154      0.017      6.962      0.000         0.083     0.148\n",
      "yearday_260     0.1098      0.017      6.582      0.000         0.077     0.143\n",
      "yearday_261     0.0868      0.017      5.173      0.000         0.054     0.120\n",
      "yearday_262     0.0990      0.017      5.942      0.000         0.066     0.132\n",
      "yearday_263     0.1480      0.016      9.044      0.000         0.116     0.180\n",
      "yearday_264     0.1281      0.017      7.761      0.000         0.096     0.160\n",
      "yearday_265     0.0923      0.017      5.467      0.000         0.059     0.125\n",
      "yearday_266     0.1127      0.017      6.786      0.000         0.080     0.145\n",
      "yearday_267     0.0738      0.017      4.341      0.000         0.040     0.107\n",
      "yearday_268     0.1091      0.017      6.575      0.000         0.077     0.142\n",
      "yearday_269     0.0794      0.017      4.714      0.000         0.046     0.112\n",
      "yearday_270     0.1010      0.017      6.030      0.000         0.068     0.134\n",
      "yearday_271     0.0846      0.017      5.015      0.000         0.052     0.118\n",
      "yearday_272     0.0848      0.017      5.007      0.000         0.052     0.118\n",
      "yearday_273     0.0672      0.017      3.955      0.000         0.034     0.100\n",
      "yearday_274     0.2913      0.015     19.107      0.000         0.261     0.321\n",
      "yearday_275     0.1129      0.017      6.820      0.000         0.080     0.145\n",
      "yearday_276     0.0290      0.017      1.679      0.093        -0.005     0.063\n",
      "yearday_277     0.0570      0.017      3.330      0.001         0.023     0.091\n",
      "yearday_278     0.0379      0.017      2.195      0.028         0.004     0.072\n",
      "yearday_279     0.0729      0.017      4.281      0.000         0.040     0.106\n",
      "yearday_280     0.0426      0.017      2.477      0.013         0.009     0.076\n",
      "yearday_281     0.0870      0.017      5.153      0.000         0.054     0.120\n",
      "yearday_282     0.0660      0.017      3.892      0.000         0.033     0.099\n",
      "yearday_283     0.0520      0.017      3.048      0.002         0.019     0.085\n",
      "yearday_284     0.0664      0.017      3.895      0.000         0.033     0.100\n",
      "yearday_285     0.0786      0.017      4.645      0.000         0.045     0.112\n",
      "yearday_286     0.0338      0.017      1.944      0.052        -0.000     0.068\n",
      "yearday_287     0.0429      0.017      2.494      0.013         0.009     0.077\n",
      "yearday_288     0.1360      0.016      8.257      0.000         0.104     0.168\n",
      "yearday_289     0.0726      0.017      4.296      0.000         0.039     0.106\n",
      "yearday_290     0.0850      0.017      5.065      0.000         0.052     0.118\n",
      "yearday_291     0.0699      0.017      4.106      0.000         0.037     0.103\n",
      "yearday_292     0.1030      0.017      6.160      0.000         0.070     0.136\n",
      "yearday_293     0.0703      0.017      4.122      0.000         0.037     0.104\n",
      "yearday_294     0.0917      0.017      5.468      0.000         0.059     0.125\n",
      "yearday_295     0.0706      0.017      4.147      0.000         0.037     0.104\n",
      "yearday_296     0.0529      0.017      3.103      0.002         0.019     0.086\n",
      "yearday_297     0.0682      0.017      4.030      0.000         0.035     0.101\n",
      "yearday_298     0.1055      0.017      6.312      0.000         0.073     0.138\n",
      "yearday_299     0.0866      0.017      5.138      0.000         0.054     0.120\n",
      "yearday_300     0.0419      0.017      2.423      0.015         0.008     0.076\n",
      "yearday_301     0.0706      0.017      4.166      0.000         0.037     0.104\n",
      "yearday_302     0.0884      0.017      5.241      0.000         0.055     0.121\n",
      "yearday_303     0.0740      0.017      4.383      0.000         0.041     0.107\n",
      "yearday_304     0.0639      0.017      3.767      0.000         0.031     0.097\n",
      "yearday_305     0.2175      0.016     13.756      0.000         0.187     0.248\n",
      "yearday_306     0.0158      0.017      0.907      0.364        -0.018     0.050\n",
      "yearday_307    -0.0051      0.018     -0.287      0.774        -0.040     0.030\n",
      "yearday_308    -0.0389      0.018     -2.172      0.030        -0.074    -0.004\n",
      "yearday_309     0.0139      0.018      0.791      0.429        -0.020     0.048\n",
      "yearday_310     0.0251      0.017      1.453      0.146        -0.009     0.059\n",
      "yearday_311    -0.0072      0.018     -0.410      0.682        -0.042     0.027\n",
      "yearday_312     0.0113      0.018      0.645      0.519        -0.023     0.046\n",
      "yearday_313     0.0174      0.017      0.995      0.320        -0.017     0.052\n",
      "yearday_314     0.0289      0.017      1.661      0.097        -0.005     0.063\n",
      "yearday_315     0.0195      0.017      1.121      0.262        -0.015     0.054\n",
      "yearday_316     0.0354      0.017      2.046      0.041         0.001     0.069\n",
      "yearday_317     0.0323      0.017      1.874      0.061        -0.001     0.066\n",
      "yearday_318     0.0017      0.017      0.099      0.921        -0.033     0.036\n",
      "yearday_319     0.0567      0.017      3.312      0.001         0.023     0.090\n",
      "yearday_320     0.0265      0.017      1.525      0.127        -0.008     0.061\n",
      "yearday_321    -0.0358      0.018     -1.988      0.047        -0.071    -0.000\n",
      "yearday_322    -0.0169      0.018     -0.957      0.339        -0.052     0.018\n",
      "yearday_323    -0.0311      0.018     -1.735      0.083        -0.066     0.004\n",
      "yearday_324    -0.0059      0.018     -0.338      0.736        -0.040     0.028\n",
      "yearday_325     0.0293      0.017      1.696      0.090        -0.005     0.063\n",
      "yearday_326    -0.0415      0.018     -2.305      0.021        -0.077    -0.006\n",
      "yearday_327    -0.0816      0.018     -4.454      0.000        -0.118    -0.046\n",
      "yearday_328    -0.0674      0.018     -3.688      0.000        -0.103    -0.032\n",
      "yearday_329    -0.0623      0.018     -3.439      0.001        -0.098    -0.027\n",
      "yearday_330    -0.0916      0.018     -4.968      0.000        -0.128    -0.055\n",
      "yearday_331    -0.0652      0.018     -3.603      0.000        -0.101    -0.030\n",
      "yearday_332    -0.1081      0.018     -5.851      0.000        -0.144    -0.072\n",
      "yearday_333    -0.0470      0.018     -2.605      0.009        -0.082    -0.012\n",
      "yearday_334    -0.0407      0.018     -2.267      0.023        -0.076    -0.006\n",
      "yearday_335     0.0928      0.017      5.502      0.000         0.060     0.126\n",
      "yearday_336    -0.0169      0.018     -0.957      0.339        -0.052     0.018\n",
      "yearday_337    -0.0757      0.018     -4.138      0.000        -0.112    -0.040\n",
      "yearday_338    -0.0881      0.018     -4.814      0.000        -0.124    -0.052\n",
      "yearday_339    -0.0646      0.018     -3.570      0.000        -0.100    -0.029\n",
      "yearday_340    -0.0615      0.018     -3.382      0.001        -0.097    -0.026\n",
      "yearday_341    -0.0874      0.018     -4.753      0.000        -0.123    -0.051\n",
      "yearday_342    -0.0650      0.018     -3.564      0.000        -0.101    -0.029\n",
      "yearday_343    -0.0799      0.018     -4.372      0.000        -0.116    -0.044\n",
      "yearday_344    -0.0154      0.018     -0.870      0.385        -0.050     0.019\n",
      "yearday_345    -0.0577      0.018     -3.199      0.001        -0.093    -0.022\n",
      "yearday_346    -0.0323      0.018     -1.815      0.070        -0.067     0.003\n",
      "yearday_347    -0.0064      0.018     -0.362      0.718        -0.041     0.028\n",
      "yearday_348    -0.0495      0.018     -2.744      0.006        -0.085    -0.014\n",
      "yearday_349     0.0049      0.018      0.280      0.780        -0.030     0.039\n",
      "yearday_350    -0.0531      0.018     -2.946      0.003        -0.088    -0.018\n",
      "yearday_351    -0.0614      0.018     -3.378      0.001        -0.097    -0.026\n",
      "yearday_352    -0.0457      0.018     -2.550      0.011        -0.081    -0.011\n",
      "yearday_353    -0.0428      0.018     -2.394      0.017        -0.078    -0.008\n",
      "yearday_354    -0.0143      0.018     -0.803      0.422        -0.049     0.021\n",
      "yearday_355    -0.0417      0.018     -2.320      0.020        -0.077    -0.006\n",
      "yearday_356    -0.0812      0.018     -4.414      0.000        -0.117    -0.045\n",
      "yearday_357    -0.0460      0.018     -2.559      0.011        -0.081    -0.011\n",
      "yearday_358    -0.2282      0.020    -11.555      0.000        -0.267    -0.189\n",
      "yearday_359    -0.7181      0.025    -28.656      0.000        -0.767    -0.669\n",
      "yearday_360    -0.4167      0.022    -19.329      0.000        -0.459    -0.374\n",
      "yearday_361    -0.1936      0.019     -9.976      0.000        -0.232    -0.156\n",
      "yearday_362    -0.1659      0.019     -8.679      0.000        -0.203    -0.128\n",
      "yearday_363    -0.1442      0.020     -7.330      0.000        -0.183    -0.106\n",
      "yearday_364    -0.1149      0.019     -5.963      0.000        -0.153    -0.077\n",
      "yearday_365    -0.1079      0.019     -5.605      0.000        -0.146    -0.070\n",
      "yearday_366    -0.1649      0.042     -3.947      0.000        -0.247    -0.083\n",
      "===============================================================================\n"
     ]
    },
    {
     "data": {
      "text/plain": [
       "array([ 188.41073434,  183.7563084 ,  192.44267311, ...,  201.4792193 ,\n",
       "        174.43573987,  203.13705179])"
      ]
     },
     "execution_count": 109,
     "metadata": {},
     "output_type": "execute_result"
    },
    {
     "data": {
      "image/png": "[encoded data removed]",
      "text/plain": [
       "<matplotlib.figure.Figure at 0x11434c890>"
      ]
     },
     "metadata": {},
     "output_type": "display_data"
    }
   ],
   "source": [
    "fit_summary_plot_sm(endog, add_constant(exog, prepend=True))"
   ]
  },
  {
   "cell_type": "code",
   "execution_count": 107,
   "metadata": {
    "collapsed": false,
    "scrolled": false
   },
   "outputs": [
    {
     "name": "stdout",
     "output_type": "stream",
     "text": [
      "                 Generalized Linear Model Regression Results                  \n",
      "==============================================================================\n",
      "Dep. Variable:                      y   No. Observations:                 5470\n",
      "Model:                            GLM   Df Residuals:                     5095\n",
      "Model Family:                 Poisson   Df Model:                          374\n",
      "Link Function:                    log   Scale:                             1.0\n",
      "Method:                          IRLS   Log-Likelihood:                -39466.\n",
      "Date:                Thu, 18 Feb 2016   Deviance:                       39531.\n",
      "Time:                        23:53:06   Pearson chi2:                 3.85e+04\n",
      "No. Iterations:                     8                                         \n",
      "===============================================================================\n",
      "                  coef    std err          z      P>|z|      [95.0% Conf. Int.]\n",
      "-------------------------------------------------------------------------------\n",
      "const           4.6448      0.003   1341.925      0.000         4.638     4.652\n",
      "PRCP           -0.0002   1.37e-05    -12.370      0.000        -0.000    -0.000\n",
      "TMAX            0.0004   1.78e-05     22.239      0.000         0.000     0.000\n",
      "AWND         6.562e-05   6.21e-05      1.056      0.291     -5.61e-05     0.000\n",
      "weekday_0       0.6790      0.002    294.996      0.000         0.674     0.684\n",
      "weekday_1       0.6806      0.002    295.470      0.000         0.676     0.685\n",
      "weekday_2       0.6893      0.002    301.720      0.000         0.685     0.694\n",
      "weekday_3       0.6706      0.002    290.526      0.000         0.666     0.675\n",
      "weekday_4       0.7507      0.002    338.777      0.000         0.746     0.755\n",
      "weekday_5       0.6541      0.002    284.024      0.000         0.650     0.659\n",
      "weekday_6       0.5206      0.002    212.163      0.000         0.516     0.525\n",
      "yearday_1       0.4485      0.015     30.499      0.000         0.420     0.477\n",
      "yearday_2      -0.0852      0.019     -4.488      0.000        -0.122    -0.048\n",
      "yearday_3      -0.0802      0.019     -4.241      0.000        -0.117    -0.043\n",
      "yearday_4      -0.0648      0.019     -3.436      0.001        -0.102    -0.028\n",
      "yearday_5      -0.0687      0.019     -3.642      0.000        -0.106    -0.032\n",
      "yearday_6      -0.0850      0.019     -4.425      0.000        -0.123    -0.047\n",
      "yearday_7      -0.0830      0.019     -4.355      0.000        -0.120    -0.046\n",
      "yearday_8      -0.0836      0.019     -4.381      0.000        -0.121    -0.046\n",
      "yearday_9      -0.0271      0.018     -1.476      0.140        -0.063     0.009\n",
      "yearday_10      0.0025      0.018      0.136      0.892        -0.033     0.038\n",
      "yearday_11     -0.0185      0.018     -1.010      0.312        -0.054     0.017\n",
      "yearday_12     -0.0378      0.018     -2.056      0.040        -0.074    -0.002\n",
      "yearday_13     -0.0189      0.018     -1.022      0.307        -0.055     0.017\n",
      "yearday_14     -0.0561      0.019     -2.967      0.003        -0.093    -0.019\n",
      "yearday_15      0.0472      0.018      2.610      0.009         0.012     0.083\n",
      "yearday_16     -0.0431      0.019     -2.307      0.021        -0.080    -0.006\n",
      "yearday_17     -0.0201      0.018     -1.091      0.275        -0.056     0.016\n",
      "yearday_18     -0.0369      0.019     -1.969      0.049        -0.074    -0.000\n",
      "yearday_19     -0.0585      0.019     -3.113      0.002        -0.095    -0.022\n",
      "yearday_20     -0.0261      0.019     -1.390      0.164        -0.063     0.011\n",
      "yearday_21     -0.1211      0.020     -6.185      0.000        -0.159    -0.083\n",
      "yearday_22     -0.0947      0.019     -4.902      0.000        -0.133    -0.057\n",
      "yearday_23     -0.0989      0.019     -5.147      0.000        -0.137    -0.061\n",
      "yearday_24     -0.0673      0.019     -3.554      0.000        -0.104    -0.030\n",
      "yearday_25     -0.0570      0.019     -3.032      0.002        -0.094    -0.020\n",
      "yearday_26     -0.0894      0.019     -4.678      0.000        -0.127    -0.052\n",
      "yearday_27     -0.1132      0.019     -5.810      0.000        -0.151    -0.075\n",
      "yearday_28     -0.0566      0.019     -3.004      0.003        -0.093    -0.020\n",
      "yearday_29     -0.0592      0.019     -3.136      0.002        -0.096    -0.022\n",
      "yearday_30     -0.1195      0.019     -6.158      0.000        -0.158    -0.081\n",
      "yearday_31     -0.1460      0.020     -7.453      0.000        -0.184    -0.108\n",
      "yearday_32      0.1564      0.017      9.213      0.000         0.123     0.190\n",
      "yearday_33     -0.1330      0.020     -6.767      0.000        -0.171    -0.094\n",
      "yearday_34     -0.1828      0.020     -9.068      0.000        -0.222    -0.143\n",
      "yearday_35     -0.1764      0.020     -8.824      0.000        -0.216    -0.137\n",
      "yearday_36     -0.1606      0.020     -8.078      0.000        -0.200    -0.122\n",
      "yearday_37     -0.1976      0.020     -9.840      0.000        -0.237    -0.158\n",
      "yearday_38     -0.1193      0.019     -6.176      0.000        -0.157    -0.081\n",
      "yearday_39     -0.1153      0.019     -5.944      0.000        -0.153    -0.077\n",
      "yearday_40     -0.1047      0.019     -5.443      0.000        -0.142    -0.067\n",
      "yearday_41     -0.1393      0.020     -7.061      0.000        -0.178    -0.101\n",
      "yearday_42     -0.1267      0.019     -6.511      0.000        -0.165    -0.089\n",
      "yearday_43     -0.1748      0.020     -8.753      0.000        -0.214    -0.136\n",
      "yearday_44     -0.1380      0.019     -7.106      0.000        -0.176    -0.100\n",
      "yearday_45     -0.1310      0.019     -6.795      0.000        -0.169    -0.093\n",
      "yearday_46     -0.0853      0.019     -4.460      0.000        -0.123    -0.048\n",
      "yearday_47     -0.0986      0.019     -5.135      0.000        -0.136    -0.061\n",
      "yearday_48     -0.1466      0.020     -7.447      0.000        -0.185    -0.108\n",
      "yearday_49     -0.1225      0.019     -6.346      0.000        -0.160    -0.085\n",
      "yearday_50     -0.1553      0.020     -7.885      0.000        -0.194    -0.117\n",
      "yearday_51     -0.0935      0.019     -4.948      0.000        -0.131    -0.056\n",
      "yearday_52     -0.1109      0.019     -5.801      0.000        -0.148    -0.073\n",
      "yearday_53     -0.1451      0.020     -7.409      0.000        -0.183    -0.107\n",
      "yearday_54     -0.0866      0.019     -4.545      0.000        -0.124    -0.049\n",
      "yearday_55     -0.1298      0.019     -6.672      0.000        -0.168    -0.092\n",
      "yearday_56     -0.1067      0.019     -5.589      0.000        -0.144    -0.069\n",
      "yearday_57     -0.1492      0.020     -7.578      0.000        -0.188    -0.111\n",
      "yearday_58     -0.1049      0.019     -5.480      0.000        -0.142    -0.067\n",
      "yearday_59     -0.0793      0.020     -4.065      0.000        -0.118    -0.041\n",
      "yearday_60      0.1284      0.017      7.545      0.000         0.095     0.162\n",
      "yearday_61     -0.0222      0.018     -1.205      0.228        -0.058     0.014\n",
      "yearday_62     -0.1109      0.019     -5.762      0.000        -0.149    -0.073\n",
      "yearday_63     -0.1457      0.019     -7.504      0.000        -0.184    -0.108\n",
      "yearday_64     -0.1143      0.019     -5.914      0.000        -0.152    -0.076\n",
      "yearday_65     -0.1309      0.019     -6.826      0.000        -0.168    -0.093\n",
      "yearday_66     -0.0575      0.018     -3.124      0.002        -0.094    -0.021\n",
      "yearday_67     -0.0478      0.018     -2.593      0.010        -0.084    -0.012\n",
      "yearday_68     -0.1063      0.019     -5.622      0.000        -0.143    -0.069\n",
      "yearday_69     -0.0677      0.019     -3.632      0.000        -0.104    -0.031\n",
      "yearday_70     -0.0809      0.019     -4.368      0.000        -0.117    -0.045\n",
      "yearday_71     -0.0529      0.018     -2.881      0.004        -0.089    -0.017\n",
      "yearday_72     -0.0678      0.018     -3.690      0.000        -0.104    -0.032\n",
      "yearday_73     -0.0471      0.018     -2.605      0.009        -0.082    -0.012\n",
      "yearday_74     -0.0047      0.018     -0.261      0.794        -0.040     0.030\n",
      "yearday_75     -0.0254      0.018     -1.414      0.157        -0.061     0.010\n",
      "yearday_76     -0.0410      0.018     -2.252      0.024        -0.077    -0.005\n",
      "yearday_77     -0.0307      0.018     -1.699      0.089        -0.066     0.005\n",
      "yearday_78     -0.0574      0.018     -3.132      0.002        -0.093    -0.021\n",
      "yearday_79     -0.0535      0.018     -2.934      0.003        -0.089    -0.018\n",
      "yearday_80     -0.1016      0.019     -5.472      0.000        -0.138    -0.065\n",
      "yearday_81     -0.0764      0.019     -4.117      0.000        -0.113    -0.040\n",
      "yearday_82     -0.0153      0.018     -0.850      0.395        -0.050     0.020\n",
      "yearday_83     -0.0399      0.018     -2.188      0.029        -0.076    -0.004\n",
      "yearday_84     -0.0396      0.018     -2.168      0.030        -0.075    -0.004\n",
      "yearday_85     -0.0244      0.018     -1.354      0.176        -0.060     0.011\n",
      "yearday_86     -0.0260      0.018     -1.450      0.147        -0.061     0.009\n",
      "yearday_87     -0.0297      0.018     -1.651      0.099        -0.065     0.006\n",
      "yearday_88     -0.0416      0.018     -2.290      0.022        -0.077    -0.006\n",
      "yearday_89     -0.0339      0.018     -1.887      0.059        -0.069     0.001\n",
      "yearday_90     -0.0935      0.019     -5.039      0.000        -0.130    -0.057\n",
      "yearday_91      0.1656      0.016     10.202      0.000         0.134     0.197\n",
      "yearday_92      0.0024      0.018      0.135      0.893        -0.032     0.037\n",
      "yearday_93     -0.0548      0.018     -3.023      0.002        -0.090    -0.019\n",
      "yearday_94     -0.0137      0.018     -0.771      0.441        -0.048     0.021\n",
      "yearday_95     -0.0330      0.018     -1.828      0.068        -0.068     0.002\n",
      "yearday_96     -0.0346      0.018     -1.929      0.054        -0.070     0.001\n",
      "yearday_97     -0.0743      0.018     -4.021      0.000        -0.110    -0.038\n",
      "yearday_98     -0.0330      0.018     -1.834      0.067        -0.068     0.002\n",
      "yearday_99     -0.0541      0.018     -2.974      0.003        -0.090    -0.018\n",
      "yearday_100     0.0060      0.017      0.345      0.730        -0.028     0.040\n",
      "yearday_101    -0.0736      0.018     -4.059      0.000        -0.109    -0.038\n",
      "yearday_102    -0.0708      0.018     -3.877      0.000        -0.107    -0.035\n",
      "yearday_103    -0.0705      0.018     -3.868      0.000        -0.106    -0.035\n",
      "yearday_104    -0.0607      0.018     -3.351      0.001        -0.096    -0.025\n",
      "yearday_105     0.0644      0.017      3.803      0.000         0.031     0.098\n",
      "yearday_106     0.0060      0.018      0.344      0.731        -0.028     0.040\n",
      "yearday_107    -0.0328      0.018     -1.853      0.064        -0.068     0.002\n",
      "yearday_108    -0.0314      0.018     -1.768      0.077        -0.066     0.003\n",
      "yearday_109    -0.0530      0.018     -2.947      0.003        -0.088    -0.018\n",
      "yearday_110     0.0146      0.017      0.842      0.400        -0.019     0.049\n",
      "yearday_111    -0.0172      0.018     -0.966      0.334        -0.052     0.018\n",
      "yearday_112    -0.0248      0.018     -1.394      0.163        -0.060     0.010\n",
      "yearday_113    -0.0189      0.018     -1.065      0.287        -0.054     0.016\n",
      "yearday_114    -0.0414      0.018     -2.327      0.020        -0.076    -0.007\n",
      "yearday_115     0.0027      0.018      0.153      0.878        -0.032     0.037\n",
      "yearday_116    -0.0074      0.018     -0.406      0.685        -0.043     0.028\n",
      "yearday_117    -0.0314      0.018     -1.696      0.090        -0.068     0.005\n",
      "yearday_118    -0.0269      0.018     -1.461      0.144        -0.063     0.009\n",
      "yearday_119    -0.0341      0.018     -1.856      0.064        -0.070     0.002\n",
      "yearday_120    -0.0117      0.018     -0.664      0.507        -0.046     0.023\n",
      "yearday_121     0.1735      0.016     10.847      0.000         0.142     0.205\n",
      "yearday_122    -0.0033      0.017     -0.189      0.850        -0.037     0.031\n",
      "yearday_123    -0.0384      0.018     -2.154      0.031        -0.073    -0.003\n",
      "yearday_124    -0.0399      0.018     -2.243      0.025        -0.075    -0.005\n",
      "yearday_125     0.0263      0.017      1.521      0.128        -0.008     0.060\n",
      "yearday_126    -0.0358      0.018     -2.021      0.043        -0.071    -0.001\n",
      "yearday_127    -0.0233      0.018     -1.322      0.186        -0.058     0.011\n",
      "yearday_128    -0.0374      0.018     -2.117      0.034        -0.072    -0.003\n",
      "yearday_129     0.0068      0.017      0.393      0.694        -0.027     0.041\n",
      "yearday_130     0.0044      0.017      0.251      0.802        -0.030     0.038\n",
      "yearday_131    -0.0209      0.018     -1.181      0.238        -0.056     0.014\n",
      "yearday_132    -0.0103      0.018     -0.580      0.562        -0.045     0.024\n",
      "yearday_133     0.0058      0.017      0.332      0.740        -0.028     0.040\n",
      "yearday_134    -0.0116      0.018     -0.657      0.511        -0.046     0.023\n",
      "yearday_135     0.0622      0.017      3.686      0.000         0.029     0.095\n",
      "yearday_136     0.0436      0.017      2.563      0.010         0.010     0.077\n",
      "yearday_137     0.0263      0.017      1.524      0.128        -0.008     0.060\n",
      "yearday_138     0.0330      0.017      1.929      0.054        -0.001     0.067\n",
      "yearday_139    -0.0099      0.018     -0.564      0.573        -0.044     0.025\n",
      "yearday_140     0.0119      0.017      0.686      0.493        -0.022     0.046\n",
      "yearday_141     0.0306      0.017      1.787      0.074        -0.003     0.064\n",
      "yearday_142     0.0129      0.017      0.751      0.453        -0.021     0.047\n",
      "yearday_143     0.0238      0.017      1.389      0.165        -0.010     0.057\n",
      "yearday_144     0.0297      0.017      1.732      0.083        -0.004     0.063\n",
      "yearday_145    -0.0049      0.017     -0.281      0.778        -0.039     0.029\n",
      "yearday_146    -0.0122      0.018     -0.694      0.488        -0.047     0.022\n",
      "yearday_147    -0.0453      0.018     -2.556      0.011        -0.080    -0.011\n",
      "yearday_148    -0.0023      0.017     -0.129      0.897        -0.037     0.032\n",
      "yearday_149    -0.0252      0.017     -1.440      0.150        -0.059     0.009\n",
      "yearday_150    -0.0118      0.017     -0.677      0.499        -0.046     0.022\n",
      "yearday_151    -0.0268      0.018     -1.513      0.130        -0.062     0.008\n",
      "yearday_152     0.1987      0.016     12.594      0.000         0.168     0.230\n",
      "yearday_153     0.0882      0.017      5.263      0.000         0.055     0.121\n",
      "yearday_154     0.0154      0.017      0.893      0.372        -0.018     0.049\n",
      "yearday_155     0.0129      0.017      0.743      0.458        -0.021     0.047\n",
      "yearday_156     0.0164      0.017      0.953      0.341        -0.017     0.050\n",
      "yearday_157     0.0103      0.017      0.597      0.551        -0.023     0.044\n",
      "yearday_158    -0.0224      0.018     -1.278      0.201        -0.057     0.012\n",
      "yearday_159    -0.0101      0.017     -0.579      0.562        -0.044     0.024\n",
      "yearday_160     0.0014      0.017      0.078      0.938        -0.033     0.036\n",
      "yearday_161     0.0505      0.017      2.973      0.003         0.017     0.084\n",
      "yearday_162     0.0426      0.017      2.495      0.013         0.009     0.076\n",
      "yearday_163     0.0462      0.017      2.737      0.006         0.013     0.079\n",
      "yearday_164     0.0582      0.017      3.467      0.001         0.025     0.091\n",
      "yearday_165     0.0726      0.017      4.325      0.000         0.040     0.105\n",
      "yearday_166     0.1046      0.017      6.334      0.000         0.072     0.137\n",
      "yearday_167     0.0508      0.017      2.999      0.003         0.018     0.084\n",
      "yearday_168     0.0460      0.017      2.724      0.006         0.013     0.079\n",
      "yearday_169     0.0219      0.017      1.272      0.204        -0.012     0.056\n",
      "yearday_170     0.0145      0.017      0.846      0.398        -0.019     0.048\n",
      "yearday_171     0.0848      0.017      5.130      0.000         0.052     0.117\n",
      "yearday_172     0.0474      0.017      2.795      0.005         0.014     0.081\n",
      "yearday_173     0.0427      0.017      2.522      0.012         0.010     0.076\n",
      "yearday_174     0.0283      0.017      1.646      0.100        -0.005     0.062\n",
      "yearday_175     0.0320      0.017      1.881      0.060        -0.001     0.065\n",
      "yearday_176     0.0431      0.017      2.536      0.011         0.010     0.076\n",
      "yearday_177     0.0865      0.017      5.224      0.000         0.054     0.119\n",
      "yearday_178     0.0323      0.017      1.902      0.057        -0.001     0.066\n",
      "yearday_179     0.0853      0.017      5.137      0.000         0.053     0.118\n",
      "yearday_180     0.0517      0.017      3.061      0.002         0.019     0.085\n",
      "yearday_181     0.0782      0.017      4.668      0.000         0.045     0.111\n",
      "yearday_182     0.2357      0.015     15.321      0.000         0.206     0.266\n",
      "yearday_183     0.1311      0.016      8.063      0.000         0.099     0.163\n",
      "yearday_184     0.0829      0.017      5.008      0.000         0.050     0.115\n",
      "yearday_185    -0.0816      0.018     -4.552      0.000        -0.117    -0.046\n",
      "yearday_186    -0.0137      0.017     -0.784      0.433        -0.048     0.021\n",
      "yearday_187     0.0449      0.017      2.649      0.008         0.012     0.078\n",
      "yearday_188     0.0970      0.017      5.838      0.000         0.064     0.130\n",
      "yearday_189     0.0696      0.017      4.163      0.000         0.037     0.102\n",
      "yearday_190     0.1159      0.016      7.073      0.000         0.084     0.148\n",
      "yearday_191     0.1305      0.016      8.074      0.000         0.099     0.162\n",
      "yearday_192     0.0812      0.017      4.894      0.000         0.049     0.114\n",
      "yearday_193     0.1273      0.016      7.786      0.000         0.095     0.159\n",
      "yearday_194     0.1329      0.016      8.189      0.000         0.101     0.165\n",
      "yearday_195     0.1532      0.016      9.512      0.000         0.122     0.185\n",
      "yearday_196     0.2023      0.016     12.921      0.000         0.172     0.233\n",
      "yearday_197     0.1893      0.016     11.974      0.000         0.158     0.220\n",
      "yearday_198     0.1628      0.016     10.222      0.000         0.132     0.194\n",
      "yearday_199     0.1146      0.016      7.040      0.000         0.083     0.147\n",
      "yearday_200     0.0981      0.017      5.942      0.000         0.066     0.130\n",
      "yearday_201     0.1585      0.016      9.859      0.000         0.127     0.190\n",
      "yearday_202     0.1455      0.016      9.000      0.000         0.114     0.177\n",
      "yearday_203     0.1299      0.016      8.015      0.000         0.098     0.162\n",
      "yearday_204     0.1292      0.016      7.887      0.000         0.097     0.161\n",
      "yearday_205     0.1180      0.016      7.224      0.000         0.086     0.150\n",
      "yearday_206     0.1263      0.016      7.788      0.000         0.095     0.158\n",
      "yearday_207     0.1370      0.016      8.450      0.000         0.105     0.169\n",
      "yearday_208     0.1275      0.016      7.848      0.000         0.096     0.159\n",
      "yearday_209     0.1230      0.016      7.524      0.000         0.091     0.155\n",
      "yearday_210     0.1187      0.016      7.283      0.000         0.087     0.151\n",
      "yearday_211     0.1432      0.016      8.859      0.000         0.112     0.175\n",
      "yearday_212     0.0748      0.017      4.502      0.000         0.042     0.107\n",
      "yearday_213     0.2727      0.015     18.069      0.000         0.243     0.302\n",
      "yearday_214     0.1324      0.016      8.082      0.000         0.100     0.164\n",
      "yearday_215     0.0904      0.017      5.450      0.000         0.058     0.123\n",
      "yearday_216     0.0764      0.017      4.548      0.000         0.043     0.109\n",
      "yearday_217     0.0979      0.017      5.926      0.000         0.065     0.130\n",
      "yearday_218     0.1436      0.016      8.883      0.000         0.112     0.175\n",
      "yearday_219     0.0812      0.017      4.908      0.000         0.049     0.114\n",
      "yearday_220     0.0973      0.016      5.930      0.000         0.065     0.129\n",
      "yearday_221     0.1099      0.016      6.693      0.000         0.078     0.142\n",
      "yearday_222     0.1239      0.016      7.599      0.000         0.092     0.156\n",
      "yearday_223     0.0882      0.017      5.285      0.000         0.055     0.121\n",
      "yearday_224     0.1121      0.016      6.850      0.000         0.080     0.144\n",
      "yearday_225     0.1506      0.016      9.311      0.000         0.119     0.182\n",
      "yearday_226     0.1362      0.016      8.431      0.000         0.105     0.168\n",
      "yearday_227     0.1554      0.016      9.722      0.000         0.124     0.187\n",
      "yearday_228     0.1296      0.016      7.960      0.000         0.098     0.161\n",
      "yearday_229     0.1132      0.016      6.907      0.000         0.081     0.145\n",
      "yearday_230     0.0968      0.017      5.816      0.000         0.064     0.129\n",
      "yearday_231     0.1142      0.016      6.975      0.000         0.082     0.146\n",
      "yearday_232     0.1627      0.016     10.158      0.000         0.131     0.194\n",
      "yearday_233     0.0882      0.017      5.332      0.000         0.056     0.121\n",
      "yearday_234     0.1006      0.017      6.063      0.000         0.068     0.133\n",
      "yearday_235     0.0779      0.017      4.647      0.000         0.045     0.111\n",
      "yearday_236     0.0996      0.016      6.044      0.000         0.067     0.132\n",
      "yearday_237     0.0994      0.017      5.997      0.000         0.067     0.132\n",
      "yearday_238     0.1165      0.016      7.126      0.000         0.084     0.148\n",
      "yearday_239     0.1001      0.017      6.036      0.000         0.068     0.133\n",
      "yearday_240     0.1135      0.016      6.955      0.000         0.081     0.145\n",
      "yearday_241     0.0536      0.017      3.186      0.001         0.021     0.087\n",
      "yearday_242     0.1276      0.016      7.832      0.000         0.096     0.159\n",
      "yearday_243     0.0820      0.017      4.922      0.000         0.049     0.115\n",
      "yearday_244     0.2157      0.016     13.785      0.000         0.185     0.246\n",
      "yearday_245     0.1176      0.016      7.197      0.000         0.086     0.150\n",
      "yearday_246     0.0254      0.017      1.482      0.138        -0.008     0.059\n",
      "yearday_247     0.0087      0.017      0.505      0.614        -0.025     0.042\n",
      "yearday_248     0.0586      0.017      3.487      0.000         0.026     0.092\n",
      "yearday_249     0.0676      0.017      4.029      0.000         0.035     0.100\n",
      "yearday_250     0.0268      0.017      1.570      0.116        -0.007     0.060\n",
      "yearday_251     0.0511      0.017      3.012      0.003         0.018     0.084\n",
      "yearday_252     0.0758      0.017      4.539      0.000         0.043     0.108\n",
      "yearday_253     0.0691      0.017      4.111      0.000         0.036     0.102\n",
      "yearday_254     0.0292      0.017      1.710      0.087        -0.004     0.063\n",
      "yearday_255     0.0551      0.017      3.285      0.001         0.022     0.088\n",
      "yearday_256     0.0384      0.017      2.253      0.024         0.005     0.072\n",
      "yearday_257     0.0729      0.017      4.330      0.000         0.040     0.106\n",
      "yearday_258     0.1329      0.016      8.106      0.000         0.101     0.165\n",
      "yearday_259     0.0843      0.017      5.066      0.000         0.052     0.117\n",
      "yearday_260     0.0739      0.017      4.408      0.000         0.041     0.107\n",
      "yearday_261     0.0617      0.017      3.654      0.000         0.029     0.095\n",
      "yearday_262     0.0703      0.017      4.204      0.000         0.038     0.103\n",
      "yearday_263     0.1165      0.016      7.090      0.000         0.084     0.149\n",
      "yearday_264     0.0888      0.017      5.355      0.000         0.056     0.121\n",
      "yearday_265     0.0625      0.017      3.693      0.000         0.029     0.096\n",
      "yearday_266     0.0813      0.017      4.879      0.000         0.049     0.114\n",
      "yearday_267     0.0396      0.017      2.323      0.020         0.006     0.073\n",
      "yearday_268     0.0804      0.017      4.830      0.000         0.048     0.113\n",
      "yearday_269     0.0555      0.017      3.286      0.001         0.022     0.089\n",
      "yearday_270     0.0756      0.017      4.499      0.000         0.043     0.109\n",
      "yearday_271     0.0593      0.017      3.507      0.000         0.026     0.092\n",
      "yearday_272     0.0601      0.017      3.542      0.000         0.027     0.093\n",
      "yearday_273     0.0450      0.017      2.646      0.008         0.012     0.078\n",
      "yearday_274     0.2697      0.015     17.657      0.000         0.240     0.300\n",
      "yearday_275     0.0991      0.017      5.973      0.000         0.067     0.132\n",
      "yearday_276     0.0129      0.017      0.748      0.454        -0.021     0.047\n",
      "yearday_277     0.0402      0.017      2.342      0.019         0.007     0.074\n",
      "yearday_278     0.0210      0.017      1.216      0.224        -0.013     0.055\n",
      "yearday_279     0.0550      0.017      3.226      0.001         0.022     0.088\n",
      "yearday_280     0.0211      0.017      1.226      0.220        -0.013     0.055\n",
      "yearday_281     0.0622      0.017      3.679      0.000         0.029     0.095\n",
      "yearday_282     0.0461      0.017      2.714      0.007         0.013     0.079\n",
      "yearday_283     0.0338      0.017      1.977      0.048         0.000     0.067\n",
      "yearday_284     0.0496      0.017      2.907      0.004         0.016     0.083\n",
      "yearday_285     0.0647      0.017      3.819      0.000         0.031     0.098\n",
      "yearday_286     0.0318      0.017      1.827      0.068        -0.002     0.066\n",
      "yearday_287     0.0394      0.017      2.292      0.022         0.006     0.073\n",
      "yearday_288     0.1303      0.016      7.910      0.000         0.098     0.163\n",
      "yearday_289     0.0782      0.017      4.626      0.000         0.045     0.111\n",
      "yearday_290     0.0854      0.017      5.088      0.000         0.053     0.118\n",
      "yearday_291     0.0664      0.017      3.901      0.000         0.033     0.100\n",
      "yearday_292     0.1045      0.017      6.248      0.000         0.072     0.137\n",
      "yearday_293     0.0608      0.017      3.561      0.000         0.027     0.094\n",
      "yearday_294     0.0869      0.017      5.176      0.000         0.054     0.120\n",
      "yearday_295     0.0736      0.017      4.324      0.000         0.040     0.107\n",
      "yearday_296     0.0617      0.017      3.615      0.000         0.028     0.095\n",
      "yearday_297     0.0697      0.017      4.116      0.000         0.037     0.103\n",
      "yearday_298     0.1062      0.017      6.350      0.000         0.073     0.139\n",
      "yearday_299     0.0922      0.017      5.469      0.000         0.059     0.125\n",
      "yearday_300     0.0516      0.017      2.983      0.003         0.018     0.086\n",
      "yearday_301     0.0790      0.017      4.655      0.000         0.046     0.112\n",
      "yearday_302     0.1010      0.017      5.987      0.000         0.068     0.134\n",
      "yearday_303     0.0743      0.017      4.400      0.000         0.041     0.107\n",
      "yearday_304     0.0714      0.017      4.200      0.000         0.038     0.105\n",
      "yearday_305     0.2267      0.016     14.324      0.000         0.196     0.258\n",
      "yearday_306     0.0236      0.017      1.352      0.176        -0.011     0.058\n",
      "yearday_307     0.0033      0.018      0.184      0.854        -0.031     0.038\n",
      "yearday_308    -0.0380      0.018     -2.124      0.034        -0.073    -0.003\n",
      "yearday_309     0.0227      0.018      1.299      0.194        -0.012     0.057\n",
      "yearday_310     0.0363      0.017      2.100      0.036         0.002     0.070\n",
      "yearday_311 -8.764e-07      0.018  -4.98e-05      1.000        -0.034     0.034\n",
      "yearday_312     0.0196      0.018      1.117      0.264        -0.015     0.054\n",
      "yearday_313     0.0230      0.017      1.319      0.187        -0.011     0.057\n",
      "yearday_314     0.0386      0.017      2.215      0.027         0.004     0.073\n",
      "yearday_315     0.0320      0.017      1.840      0.066        -0.002     0.066\n",
      "yearday_316     0.0464      0.017      2.677      0.007         0.012     0.080\n",
      "yearday_317     0.0479      0.017      2.771      0.006         0.014     0.082\n",
      "yearday_318     0.0193      0.018      1.101      0.271        -0.015     0.054\n",
      "yearday_319     0.0739      0.017      4.310      0.000         0.040     0.108\n",
      "yearday_320     0.0510      0.017      2.931      0.003         0.017     0.085\n",
      "yearday_321    -0.0084      0.018     -0.465      0.642        -0.044     0.027\n",
      "yearday_322     0.0115      0.018      0.650      0.515        -0.023     0.046\n",
      "yearday_323    -0.0154      0.018     -0.859      0.390        -0.051     0.020\n",
      "yearday_324     0.0146      0.018      0.828      0.408        -0.020     0.049\n",
      "yearday_325     0.0555      0.017      3.207      0.001         0.022     0.089\n",
      "yearday_326    -0.0122      0.018     -0.674      0.500        -0.048     0.023\n",
      "yearday_327    -0.0530      0.018     -2.883      0.004        -0.089    -0.017\n",
      "yearday_328    -0.0361      0.018     -1.966      0.049        -0.072    -0.000\n",
      "yearday_329    -0.0239      0.018     -1.310      0.190        -0.060     0.012\n",
      "yearday_330    -0.0554      0.019     -2.993      0.003        -0.092    -0.019\n",
      "yearday_331    -0.0288      0.018     -1.584      0.113        -0.064     0.007\n",
      "yearday_332    -0.0746      0.019     -4.022      0.000        -0.111    -0.038\n",
      "yearday_333    -0.0123      0.018     -0.681      0.496        -0.048     0.023\n",
      "yearday_334    -0.0086      0.018     -0.480      0.631        -0.044     0.027\n",
      "yearday_335     0.1383      0.017      8.137      0.000         0.105     0.172\n",
      "yearday_336     0.0261      0.018      1.465      0.143        -0.009     0.061\n",
      "yearday_337    -0.0333      0.018     -1.806      0.071        -0.069     0.003\n",
      "yearday_338    -0.0499      0.018     -2.714      0.007        -0.086    -0.014\n",
      "yearday_339    -0.0209      0.018     -1.150      0.250        -0.057     0.015\n",
      "yearday_340    -0.0091      0.018     -0.495      0.621        -0.045     0.027\n",
      "yearday_341    -0.0341      0.019     -1.840      0.066        -0.070     0.002\n",
      "yearday_342    -0.0094      0.018     -0.509      0.611        -0.045     0.027\n",
      "yearday_343    -0.0328      0.018     -1.779      0.075        -0.069     0.003\n",
      "yearday_344     0.0303      0.018      1.697      0.090        -0.005     0.065\n",
      "yearday_345    -0.0093      0.018     -0.515      0.607        -0.045     0.026\n",
      "yearday_346     0.0128      0.018      0.716      0.474        -0.022     0.048\n",
      "yearday_347     0.0391      0.018      2.197      0.028         0.004     0.074\n",
      "yearday_348    -0.0056      0.018     -0.308      0.758        -0.041     0.030\n",
      "yearday_349     0.0469      0.018      2.641      0.008         0.012     0.082\n",
      "yearday_350    -0.0067      0.018     -0.368      0.713        -0.042     0.029\n",
      "yearday_351    -0.0081      0.018     -0.444      0.657        -0.044     0.028\n",
      "yearday_352     0.0087      0.018      0.482      0.630        -0.027     0.044\n",
      "yearday_353     0.0065      0.018      0.358      0.721        -0.029     0.042\n",
      "yearday_354     0.0404      0.018      2.255      0.024         0.005     0.076\n",
      "yearday_355     0.0084      0.018      0.464      0.642        -0.027     0.044\n",
      "yearday_356    -0.0360      0.019     -1.941      0.052        -0.072     0.000\n",
      "yearday_357     0.0067      0.018      0.368      0.713        -0.029     0.042\n",
      "yearday_358    -0.1694      0.020     -8.501      0.000        -0.209    -0.130\n",
      "yearday_359    -0.6681      0.025    -26.542      0.000        -0.717    -0.619\n",
      "yearday_360    -0.3655      0.022    -16.846      0.000        -0.408    -0.323\n",
      "yearday_361    -0.1483      0.020     -7.589      0.000        -0.187    -0.110\n",
      "yearday_362    -0.1113      0.019     -5.783      0.000        -0.149    -0.074\n",
      "yearday_363    -0.0996      0.020     -5.032      0.000        -0.138    -0.061\n",
      "yearday_364    -0.0705      0.019     -3.637      0.000        -0.108    -0.033\n",
      "yearday_365    -0.0588      0.019     -3.032      0.002        -0.097    -0.021\n",
      "yearday_366    -0.1268      0.042     -3.030      0.002        -0.209    -0.045\n",
      "===============================================================================\n"
     ]
    },
    {
     "data": {
      "text/plain": [
       "array([ 188.41073434,  183.7563084 ,  192.44267311, ...,  201.4792193 ,\n",
       "        174.43573987,  203.13705179])"
      ]
     },
     "execution_count": 107,
     "metadata": {},
     "output_type": "execute_result"
    },
    {
     "data": {
      "image/png": "[encoded data removed]",
      "text/plain": [
       "<matplotlib.figure.Figure at 0x10cfd47d0>"
      ]
     },
     "metadata": {},
     "output_type": "display_data"
    }
   ],
   "source": [
    "fit_summary_plot_sm(endog, add_constant(exog, prepend=True))"
   ]
  },
  {
   "cell_type": "code",
   "execution_count": 52,
   "metadata": {
    "collapsed": true
   },
   "outputs": [],
   "source": [
    "from statsmodels.graphics.api import abline_plot\n",
    "def fit_summary_plot(formula_temp, dta):\n",
    "    print(formula_temp)\n",
    "    res_temp = smf.glm(formula_temp, data=dta, family=sm.families.Poisson(link=sm.families.links.log)).fit()\n",
    "    print(res_temp.summary())\n",
    "    nobs = res.nobs\n",
    "    yhat = res.mu\n",
    "    y = crime_chicago_count_weather_weekdays.loc[:,'count']\n",
    "\n",
    "    fig, ax = plt.subplots()\n",
    "    ax.scatter(yhat, y)\n",
    "    line_fit = sm.OLS(y, sm.add_constant(yhat, prepend=True)).fit()\n",
    "    abline_plot(model_results=line_fit, ax=ax)\n",
    "\n",
    "    plt.axis([0, 500, 0, 500])\n",
    "\n",
    "    ax.set_title('Model Fit Plot')\n",
    "    ax.set_ylabel('Observed values')\n",
    "    ax.set_xlabel('Fitted values')\n",
    "    \n",
    "    return yhat"
   ]
  },
  {
   "cell_type": "code",
   "execution_count": 55,
   "metadata": {
    "collapsed": false,
    "scrolled": false
   },
   "outputs": [
    {
     "name": "stdout",
     "output_type": "stream",
     "text": [
      "count ~ TMAX + weekday_0 + weekday_1 + weekday_2 + weekday_3 + weekday_4 + weekday_5 + weekday_6\n",
      "                 Generalized Linear Model Regression Results                  \n",
      "==============================================================================\n",
      "Dep. Variable:                  count   No. Observations:                 5470\n",
      "Model:                            GLM   Df Residuals:                     5462\n",
      "Model Family:                 Poisson   Df Model:                            7\n",
      "Link Function:                    log   Scale:                             1.0\n",
      "Method:                          IRLS   Log-Likelihood:                -43135.\n",
      "Date:                Thu, 18 Feb 2016   Deviance:                       46868.\n",
      "Time:                        22:16:30   Pearson chi2:                 4.64e+04\n",
      "No. Iterations:                     8                                         \n",
      "==============================================================================\n",
      "                 coef    std err          z      P>|z|      [95.0% Conf. Int.]\n",
      "------------------------------------------------------------------------------\n",
      "Intercept      4.5965      0.001   3260.339      0.000         4.594     4.599\n",
      "TMAX           0.0008   7.92e-06    106.741      0.000         0.001     0.001\n",
      "weekday_0      0.6701      0.002    300.163      0.000         0.666     0.674\n",
      "weekday_1      0.6738      0.002    302.158      0.000         0.669     0.678\n",
      "weekday_2      0.6819      0.002    307.027      0.000         0.678     0.686\n",
      "weekday_3      0.6642      0.002    296.640      0.000         0.660     0.669\n",
      "weekday_4      0.7447      0.002    344.089      0.000         0.740     0.749\n",
      "weekday_5      0.6483      0.002    287.444      0.000         0.644     0.653\n",
      "weekday_6      0.5135      0.002    214.752      0.000         0.509     0.518\n",
      "==============================================================================\n"
     ]
    },
    {
     "data": {
      "image/png": "[encoded data removed]",
      "text/plain": [
       "<matplotlib.figure.Figure at 0x113b42f90>"
      ]
     },
     "metadata": {},
     "output_type": "display_data"
    }
   ],
   "source": [
    "formula = 'count ~ TMAX + weekday_0 + weekday_1 + weekday_2 + weekday_3 + weekday_4 + weekday_5 + weekday_6'\n",
    "fitted = fit_summary_plot(formula, crime_chicago_count_weather_weekdays)"
   ]
  },
  {
   "cell_type": "code",
   "execution_count": 51,
   "metadata": {
    "collapsed": false,
    "scrolled": false
   },
   "outputs": [
    {
     "name": "stdout",
     "output_type": "stream",
     "text": [
      "count ~ weekday_0 + weekday_1 + weekday_2 + weekday_3 + weekday_4 + weekday_5 + weekday_6\n",
      "                 Generalized Linear Model Regression Results                  \n",
      "==============================================================================\n",
      "Dep. Variable:                  count   No. Observations:                 5470\n",
      "Model:                            GLM   Df Residuals:                     5463\n",
      "Model Family:                 Poisson   Df Model:                            6\n",
      "Link Function:                    log   Scale:                             1.0\n",
      "Method:                          IRLS   Log-Likelihood:                -49218.\n",
      "Date:                Thu, 18 Feb 2016   Deviance:                       69907.\n",
      "Time:                        22:15:00   Pearson chi2:                 5.85e+04\n",
      "No. Iterations:                   100                                         \n",
      "==============================================================================\n",
      "                 coef    std err          z      P>|z|      [95.0% Conf. Int.]\n",
      "------------------------------------------------------------------------------\n",
      "Intercept  -5.179e+11   1.18e+11     -4.373      0.000      -7.5e+11 -2.86e+11\n",
      "weekday_0   5.179e+11   1.18e+11      4.373      0.000      2.86e+11   7.5e+11\n",
      "weekday_1   5.179e+11   1.18e+11      4.373      0.000      2.86e+11   7.5e+11\n",
      "weekday_2   5.179e+11   1.18e+11      4.373      0.000      2.86e+11   7.5e+11\n",
      "weekday_3   5.179e+11   1.18e+11      4.373      0.000      2.86e+11   7.5e+11\n",
      "weekday_4   5.179e+11   1.18e+11      4.373      0.000      2.86e+11   7.5e+11\n",
      "weekday_5   5.179e+11   1.18e+11      4.373      0.000      2.86e+11   7.5e+11\n",
      "weekday_6   5.179e+11   1.18e+11      4.373      0.000      2.86e+11   7.5e+11\n",
      "==============================================================================\n"
     ]
    },
    {
     "data": {
      "image/png": "[encoded data removed]",
      "text/plain": [
       "<matplotlib.figure.Figure at 0x115207490>"
      ]
     },
     "metadata": {},
     "output_type": "display_data"
    }
   ],
   "source": [
    "formula = 'count ~ weekday_0 + weekday_1 + weekday_2 + weekday_3 + weekday_4 + weekday_5 + weekday_6'\n",
    "fit_summary_plot(formula, crime_chicago_count_weather_weekdays)"
   ]
  },
  {
   "cell_type": "code",
   "execution_count": 54,
   "metadata": {
    "collapsed": false,
    "scrolled": false
   },
   "outputs": [
    {
     "name": "stdout",
     "output_type": "stream",
     "text": [
      "count ~ TMAX\n",
      "                 Generalized Linear Model Regression Results                  \n",
      "==============================================================================\n",
      "Dep. Variable:                  count   No. Observations:                 5470\n",
      "Model:                            GLM   Df Residuals:                     5468\n",
      "Model Family:                 Poisson   Df Model:                            1\n",
      "Link Function:                    log   Scale:                             1.0\n",
      "Method:                          IRLS   Log-Likelihood:                -45540.\n",
      "Date:                Thu, 18 Feb 2016   Deviance:                       51678.\n",
      "Time:                        22:16:24   Pearson chi2:                 5.13e+04\n",
      "No. Iterations:                     9                                         \n",
      "==============================================================================\n",
      "                 coef    std err          z      P>|z|      [95.0% Conf. Int.]\n",
      "------------------------------------------------------------------------------\n",
      "Intercept      5.2565      0.002   3267.037      0.000         5.253     5.260\n",
      "TMAX           0.0008   7.92e-06    105.728      0.000         0.001     0.001\n",
      "==============================================================================\n"
     ]
    },
    {
     "data": {
      "text/plain": [
       "array([ 188.41073434,  183.7563084 ,  192.44267311, ...,  201.4792193 ,\n",
       "        174.43573987,  203.13705179])"
      ]
     },
     "execution_count": 54,
     "metadata": {},
     "output_type": "execute_result"
    },
    {
     "data": {
      "image/png": "[encoded data removed]",
      "text/plain": [
       "<matplotlib.figure.Figure at 0x114180050>"
      ]
     },
     "metadata": {},
     "output_type": "display_data"
    }
   ],
   "source": [
    "formula = 'count ~ TMAX'\n",
    "fit_summary_plot(formula, crime_chicago_count_weather_weekdays)"
   ]
  },
  {
   "cell_type": "code",
   "execution_count": 58,
   "metadata": {
    "collapsed": false
   },
   "outputs": [
    {
     "data": {
      "text/plain": [
       "219.62047531992727"
      ]
     },
     "execution_count": 58,
     "metadata": {},
     "output_type": "execute_result"
    }
   ],
   "source": [
    "fitted.mean()"
   ]
  },
  {
   "cell_type": "code",
   "execution_count": 59,
   "metadata": {
    "collapsed": false
   },
   "outputs": [
    {
     "data": {
      "text/plain": [
       "641.05131630609037"
      ]
     },
     "execution_count": 59,
     "metadata": {},
     "output_type": "execute_result"
    }
   ],
   "source": [
    "fitted.var()"
   ]
  },
  {
   "cell_type": "code",
   "execution_count": 60,
   "metadata": {
    "collapsed": false
   },
   "outputs": [
    {
     "data": {
      "text/plain": [
       "219.62047531992687"
      ]
     },
     "execution_count": 60,
     "metadata": {},
     "output_type": "execute_result"
    }
   ],
   "source": [
    "crime_chicago_count_weather_weekdays.loc[:,'count'].mean()"
   ]
  },
  {
   "cell_type": "code",
   "execution_count": 66,
   "metadata": {
    "collapsed": false,
    "scrolled": true
   },
   "outputs": [
    {
     "data": {
      "text/plain": [
       "49.960829613407462"
      ]
     },
     "execution_count": 66,
     "metadata": {},
     "output_type": "execute_result"
    }
   ],
   "source": [
    "crime_chicago_count_weather_weekdays.loc[:,'count'].std()"
   ]
  },
  {
   "cell_type": "code",
   "execution_count": 64,
   "metadata": {
    "collapsed": false
   },
   "outputs": [
    {
     "data": {
      "text/plain": [
       "453"
      ]
     },
     "execution_count": 64,
     "metadata": {},
     "output_type": "execute_result"
    }
   ],
   "source": [
    "crime_chicago_count_weather_weekdays.loc[:,'count'].max()"
   ]
  },
  {
   "cell_type": "code",
   "execution_count": null,
   "metadata": {
    "collapsed": true
   },
   "outputs": [],
   "source": []
  },
  {
   "cell_type": "markdown",
   "metadata": {},
   "source": [
    "- discuss dependence of crime on temperature"
   ]
  }
 ],
 "metadata": {
  "kernelspec": {
   "display_name": "Python 2",
   "language": "python",
   "name": "python2"
  },
  "language_info": {
   "codemirror_mode": {
    "name": "ipython",
    "version": 2
   },
   "file_extension": ".py",
   "mimetype": "text/x-python",
   "name": "python",
   "nbconvert_exporter": "python",
   "pygments_lexer": "ipython2",
   "version": "2.7.11"
  }
 },
 "nbformat": 4,
 "nbformat_minor": 0
}
